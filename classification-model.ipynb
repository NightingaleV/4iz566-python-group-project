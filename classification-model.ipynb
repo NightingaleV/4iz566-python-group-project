{
 "cells": [
  {
   "cell_type": "markdown",
   "metadata": {},
   "source": [
    "# Data Description"
   ]
  },
  {
   "cell_type": "code",
   "execution_count": 1,
   "metadata": {},
   "outputs": [],
   "source": [
    "RANDOM_STATE=3"
   ]
  },
  {
   "cell_type": "markdown",
   "metadata": {},
   "source": [
    "# Imports"
   ]
  },
  {
   "cell_type": "code",
   "execution_count": 2,
   "metadata": {
    "pycharm": {
     "is_executing": false,
     "name": "#%%\n"
    }
   },
   "outputs": [],
   "source": [
    "# Supress Notebook Warnings\n",
    "import warnings\n",
    "warnings.filterwarnings('ignore')\n",
    "\n",
    "import numpy as np\n",
    "import pandas as pd\n",
    "\n",
    "# Visualization\n",
    "import matplotlib.pyplot as plt\n",
    "import seaborn as sns\n",
    "%matplotlib inline\n",
    "sns.set()"
   ]
  },
  {
   "cell_type": "code",
   "execution_count": 3,
   "metadata": {
    "pycharm": {
     "is_executing": false,
     "name": "#%%\n"
    }
   },
   "outputs": [
    {
     "data": {
      "text/html": [
       "<div>\n",
       "<style scoped>\n",
       "    .dataframe tbody tr th:only-of-type {\n",
       "        vertical-align: middle;\n",
       "    }\n",
       "\n",
       "    .dataframe tbody tr th {\n",
       "        vertical-align: top;\n",
       "    }\n",
       "\n",
       "    .dataframe thead th {\n",
       "        text-align: right;\n",
       "    }\n",
       "</style>\n",
       "<table border=\"1\" class=\"dataframe\">\n",
       "  <thead>\n",
       "    <tr style=\"text-align: right;\">\n",
       "      <th></th>\n",
       "      <th>Administrative</th>\n",
       "      <th>Administrative_Duration</th>\n",
       "      <th>Informational</th>\n",
       "      <th>Informational_Duration</th>\n",
       "      <th>ProductRelated</th>\n",
       "      <th>ProductRelated_Duration</th>\n",
       "      <th>BounceRates</th>\n",
       "      <th>ExitRates</th>\n",
       "      <th>PageValues</th>\n",
       "      <th>SpecialDay</th>\n",
       "      <th>Month</th>\n",
       "      <th>OperatingSystems</th>\n",
       "      <th>Browser</th>\n",
       "      <th>Region</th>\n",
       "      <th>TrafficType</th>\n",
       "      <th>VisitorType</th>\n",
       "      <th>Weekend</th>\n",
       "      <th>Revenue</th>\n",
       "    </tr>\n",
       "  </thead>\n",
       "  <tbody>\n",
       "    <tr>\n",
       "      <th>12325</th>\n",
       "      <td>3.0</td>\n",
       "      <td>145.0</td>\n",
       "      <td>0.0</td>\n",
       "      <td>0.0</td>\n",
       "      <td>53.0</td>\n",
       "      <td>1783.791667</td>\n",
       "      <td>0.007143</td>\n",
       "      <td>0.029031</td>\n",
       "      <td>12.241717</td>\n",
       "      <td>0.0</td>\n",
       "      <td>Dec</td>\n",
       "      <td>4</td>\n",
       "      <td>6</td>\n",
       "      <td>1</td>\n",
       "      <td>1</td>\n",
       "      <td>Returning_Visitor</td>\n",
       "      <td>True</td>\n",
       "      <td>False</td>\n",
       "    </tr>\n",
       "    <tr>\n",
       "      <th>12326</th>\n",
       "      <td>0.0</td>\n",
       "      <td>0.0</td>\n",
       "      <td>0.0</td>\n",
       "      <td>0.0</td>\n",
       "      <td>5.0</td>\n",
       "      <td>465.750000</td>\n",
       "      <td>0.000000</td>\n",
       "      <td>0.021333</td>\n",
       "      <td>0.000000</td>\n",
       "      <td>0.0</td>\n",
       "      <td>Nov</td>\n",
       "      <td>3</td>\n",
       "      <td>2</td>\n",
       "      <td>1</td>\n",
       "      <td>8</td>\n",
       "      <td>Returning_Visitor</td>\n",
       "      <td>True</td>\n",
       "      <td>False</td>\n",
       "    </tr>\n",
       "    <tr>\n",
       "      <th>12327</th>\n",
       "      <td>0.0</td>\n",
       "      <td>0.0</td>\n",
       "      <td>0.0</td>\n",
       "      <td>0.0</td>\n",
       "      <td>6.0</td>\n",
       "      <td>184.250000</td>\n",
       "      <td>0.083333</td>\n",
       "      <td>0.086667</td>\n",
       "      <td>0.000000</td>\n",
       "      <td>0.0</td>\n",
       "      <td>Nov</td>\n",
       "      <td>3</td>\n",
       "      <td>2</td>\n",
       "      <td>1</td>\n",
       "      <td>13</td>\n",
       "      <td>Returning_Visitor</td>\n",
       "      <td>True</td>\n",
       "      <td>False</td>\n",
       "    </tr>\n",
       "    <tr>\n",
       "      <th>12328</th>\n",
       "      <td>4.0</td>\n",
       "      <td>75.0</td>\n",
       "      <td>0.0</td>\n",
       "      <td>0.0</td>\n",
       "      <td>15.0</td>\n",
       "      <td>346.000000</td>\n",
       "      <td>0.000000</td>\n",
       "      <td>0.021053</td>\n",
       "      <td>0.000000</td>\n",
       "      <td>0.0</td>\n",
       "      <td>Nov</td>\n",
       "      <td>2</td>\n",
       "      <td>2</td>\n",
       "      <td>3</td>\n",
       "      <td>11</td>\n",
       "      <td>Returning_Visitor</td>\n",
       "      <td>False</td>\n",
       "      <td>False</td>\n",
       "    </tr>\n",
       "    <tr>\n",
       "      <th>12329</th>\n",
       "      <td>0.0</td>\n",
       "      <td>0.0</td>\n",
       "      <td>0.0</td>\n",
       "      <td>0.0</td>\n",
       "      <td>3.0</td>\n",
       "      <td>21.250000</td>\n",
       "      <td>0.000000</td>\n",
       "      <td>0.066667</td>\n",
       "      <td>0.000000</td>\n",
       "      <td>0.0</td>\n",
       "      <td>Nov</td>\n",
       "      <td>3</td>\n",
       "      <td>2</td>\n",
       "      <td>1</td>\n",
       "      <td>2</td>\n",
       "      <td>New_Visitor</td>\n",
       "      <td>True</td>\n",
       "      <td>False</td>\n",
       "    </tr>\n",
       "  </tbody>\n",
       "</table>\n",
       "</div>"
      ],
      "text/plain": [
       "       Administrative  Administrative_Duration  Informational  \\\n",
       "12325             3.0                    145.0            0.0   \n",
       "12326             0.0                      0.0            0.0   \n",
       "12327             0.0                      0.0            0.0   \n",
       "12328             4.0                     75.0            0.0   \n",
       "12329             0.0                      0.0            0.0   \n",
       "\n",
       "       Informational_Duration  ProductRelated  ProductRelated_Duration  \\\n",
       "12325                     0.0            53.0              1783.791667   \n",
       "12326                     0.0             5.0               465.750000   \n",
       "12327                     0.0             6.0               184.250000   \n",
       "12328                     0.0            15.0               346.000000   \n",
       "12329                     0.0             3.0                21.250000   \n",
       "\n",
       "       BounceRates  ExitRates  PageValues  SpecialDay Month  OperatingSystems  \\\n",
       "12325     0.007143   0.029031   12.241717         0.0   Dec                 4   \n",
       "12326     0.000000   0.021333    0.000000         0.0   Nov                 3   \n",
       "12327     0.083333   0.086667    0.000000         0.0   Nov                 3   \n",
       "12328     0.000000   0.021053    0.000000         0.0   Nov                 2   \n",
       "12329     0.000000   0.066667    0.000000         0.0   Nov                 3   \n",
       "\n",
       "       Browser  Region  TrafficType        VisitorType  Weekend  Revenue  \n",
       "12325        6       1            1  Returning_Visitor     True    False  \n",
       "12326        2       1            8  Returning_Visitor     True    False  \n",
       "12327        2       1           13  Returning_Visitor     True    False  \n",
       "12328        2       3           11  Returning_Visitor    False    False  \n",
       "12329        2       1            2        New_Visitor     True    False  "
      ]
     },
     "execution_count": 3,
     "metadata": {},
     "output_type": "execute_result"
    }
   ],
   "source": [
    "df_raw = pd.read_csv('data/online_shoppers_intention.csv', delimiter=',')\n",
    "df_raw.tail(5)"
   ]
  },
  {
   "cell_type": "markdown",
   "metadata": {},
   "source": [
    "### Check for null values"
   ]
  },
  {
   "cell_type": "code",
   "execution_count": 4,
   "metadata": {
    "pycharm": {
     "is_executing": false,
     "name": "#%%\n"
    }
   },
   "outputs": [
    {
     "data": {
      "text/plain": [
       "Administrative             14\n",
       "Administrative_Duration    14\n",
       "Informational              14\n",
       "Informational_Duration     14\n",
       "ProductRelated             14\n",
       "ProductRelated_Duration    14\n",
       "BounceRates                14\n",
       "ExitRates                  14\n",
       "PageValues                  0\n",
       "SpecialDay                  0\n",
       "Month                       0\n",
       "OperatingSystems            0\n",
       "Browser                     0\n",
       "Region                      0\n",
       "TrafficType                 0\n",
       "VisitorType                 0\n",
       "Weekend                     0\n",
       "Revenue                     0\n",
       "dtype: int64"
      ]
     },
     "execution_count": 4,
     "metadata": {},
     "output_type": "execute_result"
    }
   ],
   "source": [
    "# Show counter for null values\n",
    "df_raw.isnull().sum()"
   ]
  },
  {
   "cell_type": "code",
   "execution_count": 5,
   "metadata": {
    "pycharm": {
     "is_executing": false,
     "name": "#%%\n"
    },
    "scrolled": true
   },
   "outputs": [
    {
     "data": {
      "text/html": [
       "<div>\n",
       "<style scoped>\n",
       "    .dataframe tbody tr th:only-of-type {\n",
       "        vertical-align: middle;\n",
       "    }\n",
       "\n",
       "    .dataframe tbody tr th {\n",
       "        vertical-align: top;\n",
       "    }\n",
       "\n",
       "    .dataframe thead th {\n",
       "        text-align: right;\n",
       "    }\n",
       "</style>\n",
       "<table border=\"1\" class=\"dataframe\">\n",
       "  <thead>\n",
       "    <tr style=\"text-align: right;\">\n",
       "      <th></th>\n",
       "      <th>Administrative</th>\n",
       "      <th>Administrative_Duration</th>\n",
       "      <th>Informational</th>\n",
       "      <th>Informational_Duration</th>\n",
       "      <th>ProductRelated</th>\n",
       "      <th>ProductRelated_Duration</th>\n",
       "      <th>BounceRates</th>\n",
       "      <th>ExitRates</th>\n",
       "      <th>PageValues</th>\n",
       "      <th>SpecialDay</th>\n",
       "      <th>OperatingSystems</th>\n",
       "      <th>Browser</th>\n",
       "      <th>Region</th>\n",
       "      <th>TrafficType</th>\n",
       "    </tr>\n",
       "  </thead>\n",
       "  <tbody>\n",
       "    <tr>\n",
       "      <th>count</th>\n",
       "      <td>12316.000000</td>\n",
       "      <td>12316.000000</td>\n",
       "      <td>12316.000000</td>\n",
       "      <td>12316.000000</td>\n",
       "      <td>12316.000000</td>\n",
       "      <td>12316.000000</td>\n",
       "      <td>12316.000000</td>\n",
       "      <td>12316.000000</td>\n",
       "      <td>12330.000000</td>\n",
       "      <td>12330.000000</td>\n",
       "      <td>12330.000000</td>\n",
       "      <td>12330.000000</td>\n",
       "      <td>12330.000000</td>\n",
       "      <td>12330.000000</td>\n",
       "    </tr>\n",
       "    <tr>\n",
       "      <th>mean</th>\n",
       "      <td>2.317798</td>\n",
       "      <td>80.906176</td>\n",
       "      <td>0.503979</td>\n",
       "      <td>34.506387</td>\n",
       "      <td>31.763884</td>\n",
       "      <td>1196.037057</td>\n",
       "      <td>0.022152</td>\n",
       "      <td>0.043003</td>\n",
       "      <td>5.889258</td>\n",
       "      <td>0.061427</td>\n",
       "      <td>2.124006</td>\n",
       "      <td>2.357097</td>\n",
       "      <td>3.147364</td>\n",
       "      <td>4.069586</td>\n",
       "    </tr>\n",
       "    <tr>\n",
       "      <th>std</th>\n",
       "      <td>3.322754</td>\n",
       "      <td>176.860432</td>\n",
       "      <td>1.270701</td>\n",
       "      <td>140.825479</td>\n",
       "      <td>44.490339</td>\n",
       "      <td>1914.372511</td>\n",
       "      <td>0.048427</td>\n",
       "      <td>0.048527</td>\n",
       "      <td>18.568437</td>\n",
       "      <td>0.198917</td>\n",
       "      <td>0.911325</td>\n",
       "      <td>1.717277</td>\n",
       "      <td>2.401591</td>\n",
       "      <td>4.025169</td>\n",
       "    </tr>\n",
       "    <tr>\n",
       "      <th>min</th>\n",
       "      <td>0.000000</td>\n",
       "      <td>-1.000000</td>\n",
       "      <td>0.000000</td>\n",
       "      <td>-1.000000</td>\n",
       "      <td>0.000000</td>\n",
       "      <td>-1.000000</td>\n",
       "      <td>0.000000</td>\n",
       "      <td>0.000000</td>\n",
       "      <td>0.000000</td>\n",
       "      <td>0.000000</td>\n",
       "      <td>1.000000</td>\n",
       "      <td>1.000000</td>\n",
       "      <td>1.000000</td>\n",
       "      <td>1.000000</td>\n",
       "    </tr>\n",
       "    <tr>\n",
       "      <th>25%</th>\n",
       "      <td>0.000000</td>\n",
       "      <td>0.000000</td>\n",
       "      <td>0.000000</td>\n",
       "      <td>0.000000</td>\n",
       "      <td>7.000000</td>\n",
       "      <td>185.000000</td>\n",
       "      <td>0.000000</td>\n",
       "      <td>0.014286</td>\n",
       "      <td>0.000000</td>\n",
       "      <td>0.000000</td>\n",
       "      <td>2.000000</td>\n",
       "      <td>2.000000</td>\n",
       "      <td>1.000000</td>\n",
       "      <td>2.000000</td>\n",
       "    </tr>\n",
       "    <tr>\n",
       "      <th>50%</th>\n",
       "      <td>1.000000</td>\n",
       "      <td>8.000000</td>\n",
       "      <td>0.000000</td>\n",
       "      <td>0.000000</td>\n",
       "      <td>18.000000</td>\n",
       "      <td>599.766190</td>\n",
       "      <td>0.003119</td>\n",
       "      <td>0.025124</td>\n",
       "      <td>0.000000</td>\n",
       "      <td>0.000000</td>\n",
       "      <td>2.000000</td>\n",
       "      <td>2.000000</td>\n",
       "      <td>3.000000</td>\n",
       "      <td>2.000000</td>\n",
       "    </tr>\n",
       "    <tr>\n",
       "      <th>75%</th>\n",
       "      <td>4.000000</td>\n",
       "      <td>93.500000</td>\n",
       "      <td>0.000000</td>\n",
       "      <td>0.000000</td>\n",
       "      <td>38.000000</td>\n",
       "      <td>1466.479902</td>\n",
       "      <td>0.016684</td>\n",
       "      <td>0.050000</td>\n",
       "      <td>0.000000</td>\n",
       "      <td>0.000000</td>\n",
       "      <td>3.000000</td>\n",
       "      <td>2.000000</td>\n",
       "      <td>4.000000</td>\n",
       "      <td>4.000000</td>\n",
       "    </tr>\n",
       "    <tr>\n",
       "      <th>max</th>\n",
       "      <td>27.000000</td>\n",
       "      <td>3398.750000</td>\n",
       "      <td>24.000000</td>\n",
       "      <td>2549.375000</td>\n",
       "      <td>705.000000</td>\n",
       "      <td>63973.522230</td>\n",
       "      <td>0.200000</td>\n",
       "      <td>0.200000</td>\n",
       "      <td>361.763742</td>\n",
       "      <td>1.000000</td>\n",
       "      <td>8.000000</td>\n",
       "      <td>13.000000</td>\n",
       "      <td>9.000000</td>\n",
       "      <td>20.000000</td>\n",
       "    </tr>\n",
       "  </tbody>\n",
       "</table>\n",
       "</div>"
      ],
      "text/plain": [
       "       Administrative  Administrative_Duration  Informational  \\\n",
       "count    12316.000000             12316.000000   12316.000000   \n",
       "mean         2.317798                80.906176       0.503979   \n",
       "std          3.322754               176.860432       1.270701   \n",
       "min          0.000000                -1.000000       0.000000   \n",
       "25%          0.000000                 0.000000       0.000000   \n",
       "50%          1.000000                 8.000000       0.000000   \n",
       "75%          4.000000                93.500000       0.000000   \n",
       "max         27.000000              3398.750000      24.000000   \n",
       "\n",
       "       Informational_Duration  ProductRelated  ProductRelated_Duration  \\\n",
       "count            12316.000000    12316.000000             12316.000000   \n",
       "mean                34.506387       31.763884              1196.037057   \n",
       "std                140.825479       44.490339              1914.372511   \n",
       "min                 -1.000000        0.000000                -1.000000   \n",
       "25%                  0.000000        7.000000               185.000000   \n",
       "50%                  0.000000       18.000000               599.766190   \n",
       "75%                  0.000000       38.000000              1466.479902   \n",
       "max               2549.375000      705.000000             63973.522230   \n",
       "\n",
       "        BounceRates     ExitRates    PageValues    SpecialDay  \\\n",
       "count  12316.000000  12316.000000  12330.000000  12330.000000   \n",
       "mean       0.022152      0.043003      5.889258      0.061427   \n",
       "std        0.048427      0.048527     18.568437      0.198917   \n",
       "min        0.000000      0.000000      0.000000      0.000000   \n",
       "25%        0.000000      0.014286      0.000000      0.000000   \n",
       "50%        0.003119      0.025124      0.000000      0.000000   \n",
       "75%        0.016684      0.050000      0.000000      0.000000   \n",
       "max        0.200000      0.200000    361.763742      1.000000   \n",
       "\n",
       "       OperatingSystems       Browser        Region   TrafficType  \n",
       "count      12330.000000  12330.000000  12330.000000  12330.000000  \n",
       "mean           2.124006      2.357097      3.147364      4.069586  \n",
       "std            0.911325      1.717277      2.401591      4.025169  \n",
       "min            1.000000      1.000000      1.000000      1.000000  \n",
       "25%            2.000000      2.000000      1.000000      2.000000  \n",
       "50%            2.000000      2.000000      3.000000      2.000000  \n",
       "75%            3.000000      2.000000      4.000000      4.000000  \n",
       "max            8.000000     13.000000      9.000000     20.000000  "
      ]
     },
     "execution_count": 5,
     "metadata": {},
     "output_type": "execute_result"
    }
   ],
   "source": [
    "df_raw.describe()"
   ]
  },
  {
   "cell_type": "code",
   "execution_count": 6,
   "metadata": {
    "pycharm": {
     "name": "#%%\n"
    },
    "scrolled": true
   },
   "outputs": [
    {
     "name": "stdout",
     "output_type": "stream",
     "text": [
      "Problematic Rows Count: 33\n"
     ]
    }
   ],
   "source": [
    "# Rows with negative duration\n",
    "print('Problematic Rows Count:',df_raw[df_raw['Informational_Duration'] < 0].count()[1])"
   ]
  },
  {
   "cell_type": "markdown",
   "metadata": {},
   "source": [
    "## Cleaning Data"
   ]
  },
  {
   "cell_type": "markdown",
   "metadata": {
    "pycharm": {
     "name": "#%% md\n"
    }
   },
   "source": [
    "Try Oversampling / Undersampling"
   ]
  },
  {
   "cell_type": "markdown",
   "metadata": {},
   "source": [
    "https://www.kaggle.com/saurav9786/ensemble-techniques"
   ]
  },
  {
   "cell_type": "code",
   "execution_count": 7,
   "metadata": {
    "pycharm": {
     "name": "#%%\n"
    }
   },
   "outputs": [],
   "source": [
    "# Take rows without null & negative value\n",
    "df = df_raw[((df_raw['Administrative_Duration'] >= 0) & (df_raw['Informational_Duration'] >= 0) & (df_raw['ProductRelated_Duration'] >= 0))].copy()"
   ]
  },
  {
   "cell_type": "code",
   "execution_count": 8,
   "metadata": {
    "pycharm": {
     "is_executing": false
    }
   },
   "outputs": [],
   "source": [
    "# Binary Encoding\n",
    "from sklearn.preprocessing import label_binarize\n",
    "\n",
    "df['Revenue'] = label_binarize(df['Revenue'], classes=[False,True])\n",
    "df['Weekend'] = label_binarize(df['Weekend'], classes=[False,True])"
   ]
  },
  {
   "cell_type": "code",
   "execution_count": 9,
   "metadata": {},
   "outputs": [
    {
     "data": {
      "text/html": [
       "<div>\n",
       "<style scoped>\n",
       "    .dataframe tbody tr th:only-of-type {\n",
       "        vertical-align: middle;\n",
       "    }\n",
       "\n",
       "    .dataframe tbody tr th {\n",
       "        vertical-align: top;\n",
       "    }\n",
       "\n",
       "    .dataframe thead th {\n",
       "        text-align: right;\n",
       "    }\n",
       "</style>\n",
       "<table border=\"1\" class=\"dataframe\">\n",
       "  <thead>\n",
       "    <tr style=\"text-align: right;\">\n",
       "      <th></th>\n",
       "      <th>Administrative</th>\n",
       "      <th>Administrative_Duration</th>\n",
       "      <th>Informational</th>\n",
       "      <th>Informational_Duration</th>\n",
       "      <th>ProductRelated</th>\n",
       "      <th>ProductRelated_Duration</th>\n",
       "      <th>BounceRates</th>\n",
       "      <th>ExitRates</th>\n",
       "      <th>PageValues</th>\n",
       "      <th>SpecialDay</th>\n",
       "      <th>Month</th>\n",
       "      <th>OperatingSystems</th>\n",
       "      <th>Browser</th>\n",
       "      <th>Region</th>\n",
       "      <th>TrafficType</th>\n",
       "      <th>VisitorType</th>\n",
       "      <th>Weekend</th>\n",
       "      <th>Revenue</th>\n",
       "    </tr>\n",
       "  </thead>\n",
       "  <tbody>\n",
       "    <tr>\n",
       "      <th>12325</th>\n",
       "      <td>3.0</td>\n",
       "      <td>145.0</td>\n",
       "      <td>0.0</td>\n",
       "      <td>0.0</td>\n",
       "      <td>53.0</td>\n",
       "      <td>1783.791667</td>\n",
       "      <td>0.007143</td>\n",
       "      <td>0.029031</td>\n",
       "      <td>12.241717</td>\n",
       "      <td>0.0</td>\n",
       "      <td>Dec</td>\n",
       "      <td>4</td>\n",
       "      <td>6</td>\n",
       "      <td>1</td>\n",
       "      <td>1</td>\n",
       "      <td>Returning_Visitor</td>\n",
       "      <td>True</td>\n",
       "      <td>False</td>\n",
       "    </tr>\n",
       "    <tr>\n",
       "      <th>12326</th>\n",
       "      <td>0.0</td>\n",
       "      <td>0.0</td>\n",
       "      <td>0.0</td>\n",
       "      <td>0.0</td>\n",
       "      <td>5.0</td>\n",
       "      <td>465.750000</td>\n",
       "      <td>0.000000</td>\n",
       "      <td>0.021333</td>\n",
       "      <td>0.000000</td>\n",
       "      <td>0.0</td>\n",
       "      <td>Nov</td>\n",
       "      <td>3</td>\n",
       "      <td>2</td>\n",
       "      <td>1</td>\n",
       "      <td>8</td>\n",
       "      <td>Returning_Visitor</td>\n",
       "      <td>True</td>\n",
       "      <td>False</td>\n",
       "    </tr>\n",
       "    <tr>\n",
       "      <th>12327</th>\n",
       "      <td>0.0</td>\n",
       "      <td>0.0</td>\n",
       "      <td>0.0</td>\n",
       "      <td>0.0</td>\n",
       "      <td>6.0</td>\n",
       "      <td>184.250000</td>\n",
       "      <td>0.083333</td>\n",
       "      <td>0.086667</td>\n",
       "      <td>0.000000</td>\n",
       "      <td>0.0</td>\n",
       "      <td>Nov</td>\n",
       "      <td>3</td>\n",
       "      <td>2</td>\n",
       "      <td>1</td>\n",
       "      <td>13</td>\n",
       "      <td>Returning_Visitor</td>\n",
       "      <td>True</td>\n",
       "      <td>False</td>\n",
       "    </tr>\n",
       "    <tr>\n",
       "      <th>12328</th>\n",
       "      <td>4.0</td>\n",
       "      <td>75.0</td>\n",
       "      <td>0.0</td>\n",
       "      <td>0.0</td>\n",
       "      <td>15.0</td>\n",
       "      <td>346.000000</td>\n",
       "      <td>0.000000</td>\n",
       "      <td>0.021053</td>\n",
       "      <td>0.000000</td>\n",
       "      <td>0.0</td>\n",
       "      <td>Nov</td>\n",
       "      <td>2</td>\n",
       "      <td>2</td>\n",
       "      <td>3</td>\n",
       "      <td>11</td>\n",
       "      <td>Returning_Visitor</td>\n",
       "      <td>False</td>\n",
       "      <td>False</td>\n",
       "    </tr>\n",
       "    <tr>\n",
       "      <th>12329</th>\n",
       "      <td>0.0</td>\n",
       "      <td>0.0</td>\n",
       "      <td>0.0</td>\n",
       "      <td>0.0</td>\n",
       "      <td>3.0</td>\n",
       "      <td>21.250000</td>\n",
       "      <td>0.000000</td>\n",
       "      <td>0.066667</td>\n",
       "      <td>0.000000</td>\n",
       "      <td>0.0</td>\n",
       "      <td>Nov</td>\n",
       "      <td>3</td>\n",
       "      <td>2</td>\n",
       "      <td>1</td>\n",
       "      <td>2</td>\n",
       "      <td>New_Visitor</td>\n",
       "      <td>True</td>\n",
       "      <td>False</td>\n",
       "    </tr>\n",
       "  </tbody>\n",
       "</table>\n",
       "</div>"
      ],
      "text/plain": [
       "       Administrative  Administrative_Duration  Informational  \\\n",
       "12325             3.0                    145.0            0.0   \n",
       "12326             0.0                      0.0            0.0   \n",
       "12327             0.0                      0.0            0.0   \n",
       "12328             4.0                     75.0            0.0   \n",
       "12329             0.0                      0.0            0.0   \n",
       "\n",
       "       Informational_Duration  ProductRelated  ProductRelated_Duration  \\\n",
       "12325                     0.0            53.0              1783.791667   \n",
       "12326                     0.0             5.0               465.750000   \n",
       "12327                     0.0             6.0               184.250000   \n",
       "12328                     0.0            15.0               346.000000   \n",
       "12329                     0.0             3.0                21.250000   \n",
       "\n",
       "       BounceRates  ExitRates  PageValues  SpecialDay Month  OperatingSystems  \\\n",
       "12325     0.007143   0.029031   12.241717         0.0   Dec                 4   \n",
       "12326     0.000000   0.021333    0.000000         0.0   Nov                 3   \n",
       "12327     0.083333   0.086667    0.000000         0.0   Nov                 3   \n",
       "12328     0.000000   0.021053    0.000000         0.0   Nov                 2   \n",
       "12329     0.000000   0.066667    0.000000         0.0   Nov                 3   \n",
       "\n",
       "       Browser  Region  TrafficType        VisitorType  Weekend  Revenue  \n",
       "12325        6       1            1  Returning_Visitor     True    False  \n",
       "12326        2       1            8  Returning_Visitor     True    False  \n",
       "12327        2       1           13  Returning_Visitor     True    False  \n",
       "12328        2       3           11  Returning_Visitor    False    False  \n",
       "12329        2       1            2        New_Visitor     True    False  "
      ]
     },
     "execution_count": 9,
     "metadata": {},
     "output_type": "execute_result"
    }
   ],
   "source": [
    "df_raw.tail()"
   ]
  },
  {
   "cell_type": "code",
   "execution_count": 10,
   "metadata": {
    "pycharm": {
     "name": "#%%\n"
    }
   },
   "outputs": [
    {
     "data": {
      "text/plain": [
       "array(['Returning_Visitor', 'New_Visitor', 'Other'], dtype=object)"
      ]
     },
     "execution_count": 10,
     "metadata": {},
     "output_type": "execute_result"
    }
   ],
   "source": [
    "df.VisitorType.unique()"
   ]
  },
  {
   "cell_type": "code",
   "execution_count": 11,
   "metadata": {
    "pycharm": {
     "name": "#%%\n"
    }
   },
   "outputs": [],
   "source": [
    "df['Administrative_Visited'] = np.where(df['Administrative'] > 1, 1,0)\n",
    "df['Informational_Visited'] = np.where(df['Administrative'] > 1, 1,0)\n",
    "df['ProductRelated_Visited'] = np.where(df['Administrative'] > 1, 1,0)"
   ]
  },
  {
   "cell_type": "markdown",
   "metadata": {},
   "source": [
    "### Intervals"
   ]
  },
  {
   "cell_type": "code",
   "execution_count": 12,
   "metadata": {},
   "outputs": [
    {
     "data": {
      "text/plain": [
       " 0    8189\n",
       " 1    2255\n",
       " 2    1057\n",
       " 3     483\n",
       " 4     186\n",
       " 5      78\n",
       " 6      20\n",
       " 7       9\n",
       "-1       6\n",
       "Name: Administrative_Bins, dtype: int64"
      ]
     },
     "execution_count": 12,
     "metadata": {},
     "output_type": "execute_result"
    }
   ],
   "source": [
    "# Administrative\n",
    "column_name = 'Administrative'\n",
    "interval_step = 3\n",
    "new_column_name = column_name + '_Bins'\n",
    "interval = range(0, int(max(df[column_name])), interval_step)\n",
    "max_number_of_intervals =  10\n",
    "\n",
    "# Create Column\n",
    "df[new_column_name] = pd.cut(df[column_name], interval, right=False)\n",
    "df[new_column_name] = df[new_column_name].astype('category').cat.codes\n",
    "df.loc[(df[new_column_name].astype('category').cat.codes >= max_number_of_intervals),new_column_name] = max_number_of_intervals\n",
    "df[new_column_name].value_counts()"
   ]
  },
  {
   "cell_type": "code",
   "execution_count": 13,
   "metadata": {},
   "outputs": [
    {
     "data": {
      "text/plain": [
       " 0     8235\n",
       " 1     2329\n",
       " 2      826\n",
       " 3      380\n",
       " 4      201\n",
       " 5      120\n",
       " 10      70\n",
       " 6       53\n",
       " 7       46\n",
       " 8       22\n",
       "-1        1\n",
       "Name: ProductRelated_Bins, dtype: int64"
      ]
     },
     "execution_count": 13,
     "metadata": {},
     "output_type": "execute_result"
    }
   ],
   "source": [
    "# ProductRelated\n",
    "column_name = 'ProductRelated'\n",
    "interval_step = 30\n",
    "new_column_name = column_name + '_Bins'\n",
    "interval = range(0, int(max(df[column_name])), interval_step)\n",
    "max_number_of_intervals =  10\n",
    "\n",
    "# Create Column\n",
    "df[new_column_name] = pd.cut(df[column_name], interval, right=False)\n",
    "df[new_column_name] = df[new_column_name].astype('category').cat.codes\n",
    "df.loc[(df[new_column_name].astype('category').cat.codes >= max_number_of_intervals),new_column_name] = max_number_of_intervals\n",
    "df[new_column_name].value_counts()"
   ]
  },
  {
   "cell_type": "markdown",
   "metadata": {},
   "source": [
    "### Create dummy columns\n",
    "Drop is manual, because we often want to keep the first column and drop the last one, which is often group of nonlabeled elements ('Others')."
   ]
  },
  {
   "cell_type": "code",
   "execution_count": 14,
   "metadata": {
    "pycharm": {
     "name": "#%%\n"
    }
   },
   "outputs": [],
   "source": [
    "df = pd.get_dummies(df, columns=['VisitorType'], drop_first=False)\n",
    "df = df.drop(['VisitorType_Other'],axis=1)"
   ]
  },
  {
   "cell_type": "code",
   "execution_count": 15,
   "metadata": {},
   "outputs": [],
   "source": [
    "df = pd.get_dummies(df, columns=['TrafficType'], drop_first=False)\n",
    "df = df.drop(['TrafficType_20'],axis=1)"
   ]
  },
  {
   "cell_type": "code",
   "execution_count": 16,
   "metadata": {},
   "outputs": [],
   "source": [
    "df = pd.get_dummies(df, columns=['OperatingSystems'], drop_first=False)\n",
    "df = df.drop(['OperatingSystems_8'],axis=1)"
   ]
  },
  {
   "cell_type": "code",
   "execution_count": 17,
   "metadata": {},
   "outputs": [],
   "source": [
    "df = pd.get_dummies(df, columns=['Browser'], drop_first=False)\n",
    "df = df.drop(['Browser_13'],axis=1)"
   ]
  },
  {
   "cell_type": "code",
   "execution_count": 18,
   "metadata": {},
   "outputs": [],
   "source": [
    "df['IsSpecialDate'] = np.where(df['SpecialDay'] > 1, 1,0)"
   ]
  },
  {
   "cell_type": "code",
   "execution_count": 19,
   "metadata": {},
   "outputs": [],
   "source": [
    "df = pd.get_dummies(df, columns=['Region'], drop_first=False)\n",
    "df = df.drop(['Region_9'],axis=1)"
   ]
  },
  {
   "cell_type": "code",
   "execution_count": 20,
   "metadata": {
    "pycharm": {
     "name": "#%%\n"
    }
   },
   "outputs": [
    {
     "data": {
      "text/plain": [
       "6    3357\n",
       "7    2995\n",
       "5    1884\n",
       "1    1727\n",
       "8     549\n",
       "9     448\n",
       "0     433\n",
       "3     431\n",
       "4     288\n",
       "2     171\n",
       "Name: Month, dtype: int64"
      ]
     },
     "execution_count": 20,
     "metadata": {},
     "output_type": "execute_result"
    }
   ],
   "source": [
    "df['Month']= df['Month'].astype('category').cat.codes\n",
    "df['Month'].value_counts()"
   ]
  },
  {
   "cell_type": "markdown",
   "metadata": {},
   "source": [
    "## Test Train Split"
   ]
  },
  {
   "cell_type": "markdown",
   "metadata": {},
   "source": [
    "### Target Variable"
   ]
  },
  {
   "cell_type": "code",
   "execution_count": 21,
   "metadata": {
    "pycharm": {
     "name": "#%%\n"
    }
   },
   "outputs": [
    {
     "data": {
      "text/plain": [
       "0    10375\n",
       "1     1908\n",
       "Name: Revenue, dtype: int64"
      ]
     },
     "execution_count": 21,
     "metadata": {},
     "output_type": "execute_result"
    }
   ],
   "source": [
    "TARGET_VARIABLE = 'Revenue'\n",
    "df[TARGET_VARIABLE].value_counts()"
   ]
  },
  {
   "cell_type": "code",
   "execution_count": 22,
   "metadata": {},
   "outputs": [],
   "source": [
    "X = df.drop(labels=[TARGET_VARIABLE], axis=1)\n",
    "y = df[TARGET_VARIABLE]"
   ]
  },
  {
   "cell_type": "code",
   "execution_count": 23,
   "metadata": {
    "pycharm": {
     "name": "#%%\n"
    }
   },
   "outputs": [],
   "source": [
    "from sklearn.model_selection import train_test_split\n",
    "\n",
    "X_train, X_test, y_train, y_test = train_test_split(X, y, test_size=0.3, random_state=RANDOM_STATE)"
   ]
  },
  {
   "cell_type": "code",
   "execution_count": 30,
   "metadata": {},
   "outputs": [],
   "source": [
    "from sklearn.model_selection import cross_val_score, StratifiedKFold\n",
    "strat_kfold = StratifiedKFold(n_splits=5, shuffle=False, random_state=RANDOM_STATE)\n",
    "\n",
    "def print_acc_score(y_test, predictions):\n",
    "    print(\"Accuracy: {:.2%}\".format(accuracy_score(y_test, predictions))) \n",
    "\n",
    "def print_cv_score(cv_score):\n",
    "    print(\"Accuracy: %0.2f (+/- %0.2f with 95 % confidence)\" % (cv_score.mean(), cv_score.std() * 2))\n",
    "    \n",
    "    #print(\"Precision: \",round(precision_score(y_test,y_pred),2),\"Recall: \",round(recall_score(y_test,y_pred),2))"
   ]
  },
  {
   "cell_type": "code",
   "execution_count": 25,
   "metadata": {},
   "outputs": [],
   "source": [
    "#print_acc_score(y_test, predictions)"
   ]
  },
  {
   "cell_type": "markdown",
   "metadata": {},
   "source": [
    "## Evaluation Matrix"
   ]
  },
  {
   "cell_type": "code",
   "execution_count": 71,
   "metadata": {},
   "outputs": [],
   "source": [
    "from sklearn.metrics import accuracy_score, recall_score, precision_score, fbeta_score"
   ]
  },
  {
   "cell_type": "code",
   "execution_count": 100,
   "metadata": {},
   "outputs": [],
   "source": [
    "evaluation_matrix_columns = ['Model',\n",
    "                             'Evaluation',\n",
    "                             'Accuracy',\n",
    "                             'False_Precision',\n",
    "                             'True_Precision',\n",
    "                             'True_Recall',\n",
    "                             'True_F1_Score']\n",
    "\n",
    "evaluation_matrix = pd.DataFrame(columns = evaluation_matrix_columns)"
   ]
  },
  {
   "cell_type": "code",
   "execution_count": 101,
   "metadata": {},
   "outputs": [
    {
     "data": {
      "text/html": [
       "<div>\n",
       "<style scoped>\n",
       "    .dataframe tbody tr th:only-of-type {\n",
       "        vertical-align: middle;\n",
       "    }\n",
       "\n",
       "    .dataframe tbody tr th {\n",
       "        vertical-align: top;\n",
       "    }\n",
       "\n",
       "    .dataframe thead th {\n",
       "        text-align: right;\n",
       "    }\n",
       "</style>\n",
       "<table border=\"1\" class=\"dataframe\">\n",
       "  <thead>\n",
       "    <tr style=\"text-align: right;\">\n",
       "      <th></th>\n",
       "      <th>Model</th>\n",
       "      <th>Evaluation</th>\n",
       "      <th>Accuracy</th>\n",
       "      <th>False_Precision</th>\n",
       "      <th>True_Precision</th>\n",
       "      <th>True_Recall</th>\n",
       "      <th>True_F1_Score</th>\n",
       "    </tr>\n",
       "  </thead>\n",
       "  <tbody>\n",
       "  </tbody>\n",
       "</table>\n",
       "</div>"
      ],
      "text/plain": [
       "Empty DataFrame\n",
       "Columns: [Model, Evaluation, Accuracy, False_Precision, True_Precision, True_Recall, True_F1_Score]\n",
       "Index: []"
      ]
     },
     "execution_count": 101,
     "metadata": {},
     "output_type": "execute_result"
    }
   ],
   "source": [
    "evaluation_matrix"
   ]
  },
  {
   "cell_type": "code",
   "execution_count": 112,
   "metadata": {},
   "outputs": [],
   "source": [
    "float_precision = 4\n",
    "total_accuracy  = round(100 * accuracy_score(y_test, y_pred), float_precision)\n",
    "false_precision = round(100 * precision_score(y_test,y_pred, pos_label=0, average='binary'), float_precision)\n",
    "true_precision  = round(100 * precision_score(y_test,y_pred, pos_label=1, average='binary'), float_precision)\n",
    "true_recall     = round(100 * recall_score(y_test,y_pred, pos_label=1, average='binary'), float_precision)\n",
    "true_f1_beta    = round(100 * fbeta_score(y_test, y_pred, beta=1.5), float_precision)"
   ]
  },
  {
   "cell_type": "code",
   "execution_count": 113,
   "metadata": {},
   "outputs": [],
   "source": [
    "float_precision = 4\n",
    "model_evaluation_dict = {'Model':dummy_clf_01.__class__.__name__,\n",
    "                             'Evaluation':'Stratified_Cross_Validation',\n",
    "                             'Accuracy':total_accuracy,\n",
    "                             'False_Precision':false_precision,\n",
    "                             'True_Precision':true_precision,\n",
    "                             'True_Recall':true_recall,\n",
    "                             'True_F1_Score':true_f1_beta}"
   ]
  },
  {
   "cell_type": "code",
   "execution_count": 114,
   "metadata": {},
   "outputs": [
    {
     "data": {
      "text/html": [
       "<div>\n",
       "<style scoped>\n",
       "    .dataframe tbody tr th:only-of-type {\n",
       "        vertical-align: middle;\n",
       "    }\n",
       "\n",
       "    .dataframe tbody tr th {\n",
       "        vertical-align: top;\n",
       "    }\n",
       "\n",
       "    .dataframe thead th {\n",
       "        text-align: right;\n",
       "    }\n",
       "</style>\n",
       "<table border=\"1\" class=\"dataframe\">\n",
       "  <thead>\n",
       "    <tr style=\"text-align: right;\">\n",
       "      <th></th>\n",
       "      <th>Model</th>\n",
       "      <th>Evaluation</th>\n",
       "      <th>Accuracy</th>\n",
       "      <th>False_Precision</th>\n",
       "      <th>True_Precision</th>\n",
       "      <th>True_Recall</th>\n",
       "      <th>True_F1_Score</th>\n",
       "    </tr>\n",
       "  </thead>\n",
       "  <tbody>\n",
       "    <tr>\n",
       "      <th>0</th>\n",
       "      <td>DummyClassifier</td>\n",
       "      <td>Stratified_Cross_Validation</td>\n",
       "      <td>84.26</td>\n",
       "      <td>84.26</td>\n",
       "      <td>0.0</td>\n",
       "      <td>0.0</td>\n",
       "      <td>0.0</td>\n",
       "    </tr>\n",
       "  </tbody>\n",
       "</table>\n",
       "</div>"
      ],
      "text/plain": [
       "             Model                   Evaluation  Accuracy  False_Precision  \\\n",
       "0  DummyClassifier  Stratified_Cross_Validation     84.26            84.26   \n",
       "\n",
       "   True_Precision  True_Recall  True_F1_Score  \n",
       "0             0.0          0.0            0.0  "
      ]
     },
     "execution_count": 114,
     "metadata": {},
     "output_type": "execute_result"
    }
   ],
   "source": [
    "evaluation_matrix.append(model_evaluation_dict, ignore_index=True)"
   ]
  },
  {
   "cell_type": "code",
   "execution_count": null,
   "metadata": {},
   "outputs": [],
   "source": [
    "#def evaluate_model(model_name='default_name',evaluation,model, y_true):    "
   ]
  },
  {
   "cell_type": "markdown",
   "metadata": {},
   "source": [
    "# Classifiers"
   ]
  },
  {
   "cell_type": "markdown",
   "metadata": {},
   "source": [
    "## Dummy Classifier"
   ]
  },
  {
   "cell_type": "code",
   "execution_count": 26,
   "metadata": {},
   "outputs": [
    {
     "data": {
      "text/plain": [
       "array([0, 0, 0, ..., 0, 0, 0])"
      ]
     },
     "execution_count": 26,
     "metadata": {},
     "output_type": "execute_result"
    }
   ],
   "source": [
    "from sklearn.dummy import DummyClassifier\n",
    "dummy_clf_01 = DummyClassifier(strategy=\"most_frequent\")\n",
    "dummy_clf_01.fit(X, y)\n",
    "y_pred = dummy_clf_01.predict(X_test)\n",
    "y_pred"
   ]
  },
  {
   "cell_type": "code",
   "execution_count": 27,
   "metadata": {},
   "outputs": [
    {
     "name": "stdout",
     "output_type": "stream",
     "text": [
      "              precision    recall  f1-score   support\n",
      "\n",
      "           0       0.84      1.00      0.91      3105\n",
      "           1       0.00      0.00      0.00       580\n",
      "\n",
      "    accuracy                           0.84      3685\n",
      "   macro avg       0.42      0.50      0.46      3685\n",
      "weighted avg       0.71      0.84      0.77      3685\n",
      "\n"
     ]
    }
   ],
   "source": [
    "from sklearn.metrics import classification_report, confusion_matrix\n",
    "\n",
    "# print(confusion_matrix(y_test,predictions))\n",
    "print(classification_report(y_test, y_pred))"
   ]
  },
  {
   "cell_type": "code",
   "execution_count": 28,
   "metadata": {},
   "outputs": [
    {
     "name": "stdout",
     "output_type": "stream",
     "text": [
      "              precision    recall  f1-score   support\n",
      "\n",
      "           0       0.84      0.86      0.85      3105\n",
      "           1       0.17      0.16      0.16       580\n",
      "\n",
      "    accuracy                           0.75      3685\n",
      "   macro avg       0.51      0.51      0.51      3685\n",
      "weighted avg       0.74      0.75      0.74      3685\n",
      "\n"
     ]
    }
   ],
   "source": [
    "dummy_clf_02 = DummyClassifier(strategy=\"stratified\")\n",
    "dummy_clf_02.fit(X, y)\n",
    "predictions = dummy_clf_02.predict(X_test)\n",
    "predictions\n",
    "print(classification_report(y_test, predictions))"
   ]
  },
  {
   "cell_type": "code",
   "execution_count": 34,
   "metadata": {},
   "outputs": [
    {
     "data": {
      "text/plain": [
       "0.9063772048846676"
      ]
     },
     "execution_count": 34,
     "metadata": {},
     "output_type": "execute_result"
    }
   ],
   "source": [
    "accuracy_score(y_test, predictions)"
   ]
  },
  {
   "cell_type": "markdown",
   "metadata": {},
   "source": [
    "## Decision Tree Classifier"
   ]
  },
  {
   "cell_type": "markdown",
   "metadata": {},
   "source": [
    "Hence the Y variable has a high class imbalance. Hence accuracy will not be a reliable model performance measure.\n",
    "\n",
    "FN is very critical for this business case because a false negative is a customer who will potentially subscribe for a loan but who has been classified as 'will not subscribe'. Hence the most relevant model performance measure is recall"
   ]
  },
  {
   "cell_type": "code",
   "execution_count": 24,
   "metadata": {
    "pycharm": {
     "name": "#%%\n"
    }
   },
   "outputs": [
    {
     "data": {
      "text/plain": [
       "DecisionTreeClassifier(ccp_alpha=0.0, class_weight=None, criterion='gini',\n",
       "                       max_depth=None, max_features=None, max_leaf_nodes=None,\n",
       "                       min_impurity_decrease=0.0, min_impurity_split=None,\n",
       "                       min_samples_leaf=1, min_samples_split=2,\n",
       "                       min_weight_fraction_leaf=0.0, presort='deprecated',\n",
       "                       random_state=None, splitter='best')"
      ]
     },
     "execution_count": 24,
     "metadata": {},
     "output_type": "execute_result"
    }
   ],
   "source": [
    "from sklearn.tree import DecisionTreeClassifier\n",
    "dtree = DecisionTreeClassifier()\n",
    "dtree.fit(X_train, y_train)"
   ]
  },
  {
   "cell_type": "code",
   "execution_count": 31,
   "metadata": {
    "pycharm": {
     "name": "#%%\n"
    }
   },
   "outputs": [
    {
     "data": {
      "text/plain": [
       "array([0, 0, 0, ..., 0, 0, 0])"
      ]
     },
     "execution_count": 31,
     "metadata": {},
     "output_type": "execute_result"
    }
   ],
   "source": [
    "predictions = dtree.predict(X_test)\n",
    "predictions"
   ]
  },
  {
   "cell_type": "code",
   "execution_count": 32,
   "metadata": {
    "pycharm": {
     "name": "#%%\n"
    }
   },
   "outputs": [
    {
     "name": "stdout",
     "output_type": "stream",
     "text": [
      "              precision    recall  f1-score   support\n",
      "\n",
      "           0       0.92      0.92      0.92      3105\n",
      "           1       0.56      0.55      0.56       580\n",
      "\n",
      "    accuracy                           0.86      3685\n",
      "   macro avg       0.74      0.73      0.74      3685\n",
      "weighted avg       0.86      0.86      0.86      3685\n",
      "\n"
     ]
    }
   ],
   "source": [
    "from sklearn.metrics import classification_report, confusion_matrix\n",
    "\n",
    "# print(confusion_matrix(y_test,predictions))\n",
    "print(classification_report(y_test, predictions))"
   ]
  },
  {
   "cell_type": "code",
   "execution_count": 31,
   "metadata": {
    "pycharm": {
     "name": "#%%\n"
    }
   },
   "outputs": [
    {
     "name": "stdout",
     "output_type": "stream",
     "text": [
      "              precision    recall  f1-score   support\n",
      "\n",
      "           0       0.92      0.98      0.95      3105\n",
      "           1       0.81      0.53      0.64       580\n",
      "\n",
      "    accuracy                           0.91      3685\n",
      "   macro avg       0.86      0.75      0.79      3685\n",
      "weighted avg       0.90      0.91      0.90      3685\n",
      "\n"
     ]
    }
   ],
   "source": [
    "from sklearn.ensemble import RandomForestClassifier\n",
    "\n",
    "ran_forest = RandomForestClassifier(n_estimators=500, min_samples_split=3, random_state=102)\n",
    "ran_forest.fit(X_train, y_train)\n",
    "\n",
    "predictions = ran_forest.predict(X_test)\n",
    "\n",
    "print(classification_report(y_test, predictions))"
   ]
  },
  {
   "cell_type": "code",
   "execution_count": 33,
   "metadata": {
    "pycharm": {
     "name": "#%%\n"
    }
   },
   "outputs": [
    {
     "name": "stdout",
     "output_type": "stream",
     "text": [
      "precision on the evaluation set:  0.8100263852242744\n",
      "accuracy on the evaluation set:  0.9063772048846676\n"
     ]
    }
   ],
   "source": [
    "from sklearn.metrics import precision_score, accuracy_score\n",
    "print('precision on the evaluation set: ', precision_score(y_test, predictions))\n",
    "print('accuracy on the evaluation set: ', accuracy_score(y_test, predictions))"
   ]
  },
  {
   "cell_type": "code",
   "execution_count": 36,
   "metadata": {
    "pycharm": {
     "name": "#%%\n"
    }
   },
   "outputs": [
    {
     "name": "stdout",
     "output_type": "stream",
     "text": [
      "[[3033   72]\n",
      " [ 273  307]]\n"
     ]
    }
   ],
   "source": [
    "print(confusion_matrix(y_test, predictions))"
   ]
  },
  {
   "cell_type": "code",
   "execution_count": 37,
   "metadata": {
    "pycharm": {
     "name": "#%%\n"
    }
   },
   "outputs": [
    {
     "data": {
      "text/plain": [
       "GaussianNB(priors=None, var_smoothing=1e-09)"
      ]
     },
     "execution_count": 37,
     "metadata": {},
     "output_type": "execute_result"
    }
   ],
   "source": [
    "from sklearn.naive_bayes import GaussianNB\n",
    "gaussiannb= GaussianNB()\n",
    "gaussiannb.fit(X_train, y_train)"
   ]
  },
  {
   "cell_type": "code",
   "execution_count": 38,
   "metadata": {
    "pycharm": {
     "name": "#%%\n"
    }
   },
   "outputs": [
    {
     "name": "stdout",
     "output_type": "stream",
     "text": [
      "[[3033   72]\n",
      " [ 273  307]]\n",
      "91.0\n"
     ]
    }
   ],
   "source": [
    "gaussiannbpred = gaussiannb.predict(X_test)\n",
    "probs = gaussiannb.predict(X_test)\n",
    "\n",
    "print(confusion_matrix(y_test, predictions ))\n",
    "print(round(accuracy_score(y_test, predictions),2)*100)\n",
    "#GAUSIAN = (cross_val_score(gaussiannb, X_train, y_train, cv=k_fold, n_jobs=1, scoring = 'accuracy').mean())"
   ]
  },
  {
   "cell_type": "code",
   "execution_count": 39,
   "metadata": {
    "pycharm": {
     "name": "#%%\n"
    }
   },
   "outputs": [
    {
     "name": "stdout",
     "output_type": "stream",
     "text": [
      "precision on the evaluation set:  0.8100263852242744\n",
      "accuracy on the evaluation set:  0.9063772048846676\n"
     ]
    }
   ],
   "source": [
    "from sklearn.metrics import precision_score, accuracy_score\n",
    "print('precision on the evaluation set: ', precision_score(y_test, predictions))\n",
    "print('accuracy on the evaluation set: ', accuracy_score(y_test, predictions))"
   ]
  },
  {
   "cell_type": "code",
   "execution_count": 40,
   "metadata": {
    "pycharm": {
     "name": "#%%\n"
    }
   },
   "outputs": [
    {
     "name": "stdout",
     "output_type": "stream",
     "text": [
      "              precision    recall  f1-score   support\n",
      "\n",
      "           0       0.92      0.98      0.95      3105\n",
      "           1       0.81      0.53      0.64       580\n",
      "\n",
      "    accuracy                           0.91      3685\n",
      "   macro avg       0.86      0.75      0.79      3685\n",
      "weighted avg       0.90      0.91      0.90      3685\n",
      "\n"
     ]
    }
   ],
   "source": [
    "print(classification_report(y_test, predictions))"
   ]
  },
  {
   "cell_type": "code",
   "execution_count": 41,
   "metadata": {
    "pycharm": {
     "name": "#%%\n"
    }
   },
   "outputs": [
    {
     "name": "stdout",
     "output_type": "stream",
     "text": [
      "[[3033   72]\n",
      " [ 273  307]]\n",
      "91.0\n"
     ]
    }
   ],
   "source": [
    "from sklearn.ensemble import GradientBoostingClassifier\n",
    "gbk = GradientBoostingClassifier()\n",
    "gbk.fit(X_train, y_train)\n",
    "gbkpred = gbk.predict(X_test)\n",
    "print(confusion_matrix(y_test, predictions ))\n",
    "print(round(accuracy_score(y_test, predictions),2)*100)\n",
    "#GBKCV = (cross_val_score(gbk, X_train, y_train, cv=k_fold, n_jobs=1, scoring = 'accuracy').mean())"
   ]
  },
  {
   "cell_type": "code",
   "execution_count": 42,
   "metadata": {
    "pycharm": {
     "name": "#%%\n"
    }
   },
   "outputs": [
    {
     "name": "stdout",
     "output_type": "stream",
     "text": [
      "              precision    recall  f1-score   support\n",
      "\n",
      "           0       0.92      0.98      0.95      3105\n",
      "           1       0.81      0.53      0.64       580\n",
      "\n",
      "    accuracy                           0.91      3685\n",
      "   macro avg       0.86      0.75      0.79      3685\n",
      "weighted avg       0.90      0.91      0.90      3685\n",
      "\n"
     ]
    }
   ],
   "source": [
    "print(classification_report(y_test, predictions))"
   ]
  },
  {
   "cell_type": "markdown",
   "metadata": {},
   "source": [
    "## BaggingClassifier"
   ]
  },
  {
   "cell_type": "code",
   "execution_count": 43,
   "metadata": {
    "pycharm": {
     "name": "#%%\n"
    }
   },
   "outputs": [],
   "source": [
    "from sklearn.ensemble import BaggingClassifier\n",
    "from sklearn.neighbors import KNeighborsClassifier\n",
    "bagging = BaggingClassifier(KNeighborsClassifier(),max_samples=0.5, max_features=0.5)"
   ]
  },
  {
   "cell_type": "code",
   "execution_count": 44,
   "metadata": {
    "pycharm": {
     "name": "#%%\n"
    }
   },
   "outputs": [
    {
     "name": "stdout",
     "output_type": "stream",
     "text": [
      "              precision    recall  f1-score   support\n",
      "\n",
      "           0       0.86      0.99      0.92      3105\n",
      "           1       0.72      0.11      0.20       580\n",
      "\n",
      "    accuracy                           0.85      3685\n",
      "   macro avg       0.79      0.55      0.56      3685\n",
      "weighted avg       0.83      0.85      0.81      3685\n",
      "\n"
     ]
    }
   ],
   "source": [
    "bagging.fit(X_train, y_train)\n",
    "\n",
    "predictions = bagging.predict(X_test)\n",
    "\n",
    "print(classification_report(y_test, predictions))"
   ]
  },
  {
   "cell_type": "markdown",
   "metadata": {},
   "source": [
    "## Logistic Regression"
   ]
  },
  {
   "cell_type": "code",
   "execution_count": 53,
   "metadata": {
    "pycharm": {
     "name": "#%%\n"
    }
   },
   "outputs": [],
   "source": [
    "from sklearn.linear_model import LogisticRegression\n",
    "logmodel = LogisticRegression(solver='liblinear')"
   ]
  },
  {
   "cell_type": "code",
   "execution_count": 54,
   "metadata": {
    "pycharm": {
     "name": "#%%\n"
    }
   },
   "outputs": [],
   "source": [
    "logmodel=LogisticRegression(solver='liblinear', C=19.1, penalty='l1')"
   ]
  },
  {
   "cell_type": "code",
   "execution_count": 55,
   "metadata": {
    "pycharm": {
     "name": "#%%\n"
    }
   },
   "outputs": [
    {
     "data": {
      "text/plain": [
       "LogisticRegression(C=19.1, class_weight=None, dual=False, fit_intercept=True,\n",
       "                   intercept_scaling=1, l1_ratio=None, max_iter=100,\n",
       "                   multi_class='auto', n_jobs=None, penalty='l1',\n",
       "                   random_state=None, solver='liblinear', tol=0.0001, verbose=0,\n",
       "                   warm_start=False)"
      ]
     },
     "execution_count": 55,
     "metadata": {},
     "output_type": "execute_result"
    }
   ],
   "source": [
    "logmodel.fit(X, y)"
   ]
  },
  {
   "cell_type": "code",
   "execution_count": 56,
   "metadata": {},
   "outputs": [
    {
     "data": {
      "text/plain": [
       "array([0, 0, 0, ..., 0, 0, 0])"
      ]
     },
     "execution_count": 56,
     "metadata": {},
     "output_type": "execute_result"
    }
   ],
   "source": [
    "predictions = logmodel.predict(X_test)\n",
    "predictions"
   ]
  },
  {
   "cell_type": "code",
   "execution_count": 57,
   "metadata": {
    "pycharm": {
     "name": "#%%\n"
    }
   },
   "outputs": [
    {
     "name": "stdout",
     "output_type": "stream",
     "text": [
      "[[3044   61]\n",
      " [ 354  226]]\n",
      "              precision    recall  f1-score   support\n",
      "\n",
      "           0       0.90      0.98      0.94      3105\n",
      "           1       0.79      0.39      0.52       580\n",
      "\n",
      "    accuracy                           0.89      3685\n",
      "   macro avg       0.84      0.69      0.73      3685\n",
      "weighted avg       0.88      0.89      0.87      3685\n",
      "\n"
     ]
    }
   ],
   "source": [
    "from sklearn.metrics import classification_report,confusion_matrix\n",
    "print(confusion_matrix(y_test,predictions))\n",
    "print(classification_report(y_test,predictions))"
   ]
  },
  {
   "cell_type": "markdown",
   "metadata": {},
   "source": [
    "### Predict_proba\n",
    "Returns\n",
    "Tarray-like of shape (n_samples, n_classes)\n",
    "Returns the probability of the sample for each class in the model, where classes are ordered as they are in self.classes_"
   ]
  },
  {
   "cell_type": "code",
   "execution_count": 50,
   "metadata": {
    "pycharm": {
     "name": "#%%\n"
    }
   },
   "outputs": [
    {
     "data": {
      "text/plain": [
       "array([[0.92214268, 0.07785732],\n",
       "       [0.98403275, 0.01596725],\n",
       "       [0.66212347, 0.33787653],\n",
       "       ...,\n",
       "       [0.95918516, 0.04081484],\n",
       "       [0.91248202, 0.08751798],\n",
       "       [0.83544891, 0.16455109]])"
      ]
     },
     "execution_count": 50,
     "metadata": {},
     "output_type": "execute_result"
    }
   ],
   "source": [
    "# TODO: Set thresholds\n",
    "predictions = logmodel.predict_proba(X_test)\n",
    "predictions"
   ]
  },
  {
   "cell_type": "code",
   "execution_count": 51,
   "metadata": {
    "pycharm": {
     "name": "#%%\n"
    }
   },
   "outputs": [
    {
     "data": {
      "text/plain": [
       "0.882434807038375"
      ]
     },
     "execution_count": 51,
     "metadata": {},
     "output_type": "execute_result"
    }
   ],
   "source": [
    "from sklearn.model_selection import cross_val_score\n",
    "score = cross_val_score(logmodel, X, y, cv=10)\n",
    "score.mean()"
   ]
  },
  {
   "cell_type": "code",
   "execution_count": 58,
   "metadata": {
    "pycharm": {
     "name": "#%%\n"
    }
   },
   "outputs": [],
   "source": [
    "# Type of penalty - Lasso(l1) or Ridge(l2)\n",
    "penalties = ['l1','l2']\n",
    "C_values = np.linspace(0.2, 20, 41)"
   ]
  },
  {
   "cell_type": "code",
   "execution_count": 59,
   "metadata": {
    "pycharm": {
     "name": "#%%\n"
    }
   },
   "outputs": [
    {
     "data": {
      "text/plain": [
       "GridSearchCV(cv=StratifiedKFold(n_splits=10, random_state=None, shuffle=False),\n",
       "             error_score=nan,\n",
       "             estimator=LogisticRegression(C=1.0, class_weight=None, dual=False,\n",
       "                                          fit_intercept=True,\n",
       "                                          intercept_scaling=1, l1_ratio=None,\n",
       "                                          max_iter=100, multi_class='auto',\n",
       "                                          n_jobs=None, penalty='l2',\n",
       "                                          random_state=None, solver='liblinear',\n",
       "                                          tol=0.0001, verbose=0,\n",
       "                                          warm_start=False),\n",
       "             iid='de...\n",
       "             param_grid={'C': array([ 0.2  ,  0.695,  1.19 ,  1.685,  2.18 ,  2.675,  3.17 ,  3.665,\n",
       "        4.16 ,  4.655,  5.15 ,  5.645,  6.14 ,  6.635,  7.13 ,  7.625,\n",
       "        8.12 ,  8.615,  9.11 ,  9.605, 10.1  , 10.595, 11.09 , 11.585,\n",
       "       12.08 , 12.575, 13.07 , 13.565, 14.06 , 14.555, 15.05 , 15.545,\n",
       "       16.04 , 16.535, 17.03 , 17.525, 18.02 , 18.515, 19.01 , 19.505,\n",
       "       20.   ]),\n",
       "                         'penalty': ['l1', 'l2']},\n",
       "             pre_dispatch='2*n_jobs', refit=True, return_train_score=False,\n",
       "             scoring='accuracy', verbose=0)"
      ]
     },
     "execution_count": 59,
     "metadata": {},
     "output_type": "execute_result"
    }
   ],
   "source": [
    "from sklearn.model_selection import GridSearchCV, StratifiedKFold\n",
    "\n",
    "# Cross-Validation\n",
    "cross_valid = StratifiedKFold(n_splits=10)\n",
    "\n",
    "# Hyperparameter Tuning\n",
    "params = {'penalty': penalties, 'C': C_values}\n",
    "\n",
    "logmodel2 = LogisticRegression(solver='liblinear')\n",
    "grid = GridSearchCV(estimator=logmodel2, param_grid=params, scoring='accuracy', n_jobs=-1, cv=cross_valid)\n",
    "grid.fit(X,y)"
   ]
  },
  {
   "cell_type": "code",
   "execution_count": 60,
   "metadata": {
    "pycharm": {
     "name": "#%%\n"
    }
   },
   "outputs": [
    {
     "name": "stdout",
     "output_type": "stream",
     "text": [
      "{'C': 1.19, 'penalty': 'l1'}\n",
      "0.8830043757934606\n",
      "LogisticRegression(C=1.19, class_weight=None, dual=False, fit_intercept=True,\n",
      "                   intercept_scaling=1, l1_ratio=None, max_iter=100,\n",
      "                   multi_class='auto', n_jobs=None, penalty='l1',\n",
      "                   random_state=None, solver='liblinear', tol=0.0001, verbose=0,\n",
      "                   warm_start=False)\n"
     ]
    }
   ],
   "source": [
    "print(grid.best_params_)\n",
    "print(grid.best_score_)\n",
    "print(grid.best_estimator_)"
   ]
  },
  {
   "cell_type": "markdown",
   "metadata": {},
   "source": [
    "## NN with Scaler"
   ]
  },
  {
   "cell_type": "markdown",
   "metadata": {},
   "source": [
    "## Zscore Scaler - {-1;1}"
   ]
  },
  {
   "cell_type": "code",
   "execution_count": 61,
   "metadata": {},
   "outputs": [],
   "source": [
    "from sklearn.preprocessing import StandardScaler\n",
    "sc = StandardScaler()\n",
    "X_scal = sc.fit_transform(df.drop(labels=['Revenue'], axis=1))\n",
    "X_scal\n",
    "X_train, X_test, y_train, y_test = train_test_split(X_scal, y, test_size=0.3, random_state=3)"
   ]
  },
  {
   "cell_type": "code",
   "execution_count": 62,
   "metadata": {
    "pycharm": {
     "name": "#%%\n"
    }
   },
   "outputs": [
    {
     "name": "stderr",
     "output_type": "stream",
     "text": [
      "Using TensorFlow backend.\n"
     ]
    }
   ],
   "source": [
    "import keras as K"
   ]
  },
  {
   "cell_type": "code",
   "execution_count": 63,
   "metadata": {
    "pycharm": {
     "name": "#%%\n"
    }
   },
   "outputs": [],
   "source": [
    "\n",
    "X_train, X_test, y_train, y_test = train_test_split(X_scal, y, test_size=0.3, random_state=3)"
   ]
  },
  {
   "cell_type": "code",
   "execution_count": 64,
   "metadata": {
    "pycharm": {
     "name": "#%%\n"
    }
   },
   "outputs": [],
   "source": [
    "from keras import Sequential\n",
    "from keras.layers import Dense"
   ]
  },
  {
   "cell_type": "code",
   "execution_count": 65,
   "metadata": {
    "pycharm": {
     "name": "#%%\n"
    }
   },
   "outputs": [],
   "source": [
    "classifier = Sequential()\n",
    "#First Hidden Layer\n",
    "classifier.add(Dense(12, activation='tanh', kernel_initializer='random_normal', input_dim=X_scal.shape[1]))\n",
    "#Second  Hidden Layer\n",
    "classifier.add(Dense(12, activation='tanh', kernel_initializer='random_normal'))\n",
    "#Output Layer\n",
    "classifier.add(Dense(1, activation='sigmoid', kernel_initializer='random_normal'))"
   ]
  },
  {
   "cell_type": "code",
   "execution_count": 66,
   "metadata": {
    "pycharm": {
     "name": "#%%\n"
    }
   },
   "outputs": [],
   "source": [
    "#Compiling the neural network\n",
    "classifier.compile(optimizer ='adam',loss='binary_crossentropy', metrics =['accuracy'])"
   ]
  },
  {
   "cell_type": "code",
   "execution_count": 67,
   "metadata": {
    "pycharm": {
     "name": "#%%\n"
    }
   },
   "outputs": [
    {
     "name": "stdout",
     "output_type": "stream",
     "text": [
      "Epoch 1/100\n",
      "8598/8598 [==============================] - 1s 70us/step - loss: 0.3639 - accuracy: 0.8701\n",
      "Epoch 2/100\n",
      "8598/8598 [==============================] - 0s 53us/step - loss: 0.2947 - accuracy: 0.8870\n",
      "Epoch 3/100\n",
      "8598/8598 [==============================] - 1s 62us/step - loss: 0.2850 - accuracy: 0.8880\n",
      "Epoch 4/100\n",
      "8598/8598 [==============================] - 1s 67us/step - loss: 0.2752 - accuracy: 0.8899\n",
      "Epoch 5/100\n",
      "8598/8598 [==============================] - 1s 70us/step - loss: 0.2679 - accuracy: 0.8916\n",
      "Epoch 6/100\n",
      "8598/8598 [==============================] - 1s 78us/step - loss: 0.2620 - accuracy: 0.8931\n",
      "Epoch 7/100\n",
      "8598/8598 [==============================] - 1s 84us/step - loss: 0.2574 - accuracy: 0.8947\n",
      "Epoch 8/100\n",
      "8598/8598 [==============================] - 1s 75us/step - loss: 0.2541 - accuracy: 0.8958\n",
      "Epoch 9/100\n",
      "8598/8598 [==============================] - 1s 66us/step - loss: 0.2507 - accuracy: 0.8977\n",
      "Epoch 10/100\n",
      "8598/8598 [==============================] - 1s 84us/step - loss: 0.2481 - accuracy: 0.8983\n",
      "Epoch 11/100\n",
      "8598/8598 [==============================] - 1s 87us/step - loss: 0.2455 - accuracy: 0.9008\n",
      "Epoch 12/100\n",
      "8598/8598 [==============================] - 1s 107us/step - loss: 0.2434 - accuracy: 0.8999\n",
      "Epoch 13/100\n",
      "8598/8598 [==============================] - 1s 106us/step - loss: 0.2400 - accuracy: 0.8993\n",
      "Epoch 14/100\n",
      "8598/8598 [==============================] - 1s 107us/step - loss: 0.2386 - accuracy: 0.9017\n",
      "Epoch 15/100\n",
      "8598/8598 [==============================] - 1s 107us/step - loss: 0.2357 - accuracy: 0.9024\n",
      "Epoch 16/100\n",
      "8598/8598 [==============================] - 1s 106us/step - loss: 0.2341 - accuracy: 0.9039\n",
      "Epoch 17/100\n",
      "8598/8598 [==============================] - 1s 107us/step - loss: 0.2329 - accuracy: 0.9017\n",
      "Epoch 18/100\n",
      "8598/8598 [==============================] - 1s 67us/step - loss: 0.2305 - accuracy: 0.9038\n",
      "Epoch 19/100\n",
      "8598/8598 [==============================] - 0s 56us/step - loss: 0.2283 - accuracy: 0.9028\n",
      "Epoch 20/100\n",
      "8598/8598 [==============================] - 1s 60us/step - loss: 0.2270 - accuracy: 0.9042\n",
      "Epoch 21/100\n",
      "8598/8598 [==============================] - 1s 64us/step - loss: 0.2254 - accuracy: 0.9051\n",
      "Epoch 22/100\n",
      "8598/8598 [==============================] - 1s 80us/step - loss: 0.2232 - accuracy: 0.9065\n",
      "Epoch 23/100\n",
      "8598/8598 [==============================] - 1s 98us/step - loss: 0.2205 - accuracy: 0.9080\n",
      "Epoch 24/100\n",
      "8598/8598 [==============================] - 1s 65us/step - loss: 0.2198 - accuracy: 0.9086\n",
      "Epoch 25/100\n",
      "8598/8598 [==============================] - 0s 51us/step - loss: 0.2183 - accuracy: 0.9070\n",
      "Epoch 26/100\n",
      "8598/8598 [==============================] - 0s 51us/step - loss: 0.2173 - accuracy: 0.9085\n",
      "Epoch 27/100\n",
      "8598/8598 [==============================] - 0s 54us/step - loss: 0.2160 - accuracy: 0.9102\n",
      "Epoch 28/100\n",
      "8598/8598 [==============================] - 0s 52us/step - loss: 0.2147 - accuracy: 0.9088\n",
      "Epoch 29/100\n",
      "8598/8598 [==============================] - 0s 53us/step - loss: 0.2130 - accuracy: 0.9107\n",
      "Epoch 30/100\n",
      "8598/8598 [==============================] - 0s 52us/step - loss: 0.2129 - accuracy: 0.9114\n",
      "Epoch 31/100\n",
      "8598/8598 [==============================] - 0s 52us/step - loss: 0.2105 - accuracy: 0.9104\n",
      "Epoch 32/100\n",
      "8598/8598 [==============================] - 0s 53us/step - loss: 0.2108 - accuracy: 0.9124\n",
      "Epoch 33/100\n",
      "8598/8598 [==============================] - 0s 55us/step - loss: 0.2093 - accuracy: 0.9128\n",
      "Epoch 34/100\n",
      "8598/8598 [==============================] - 0s 55us/step - loss: 0.2082 - accuracy: 0.9132\n",
      "Epoch 35/100\n",
      "8598/8598 [==============================] - 0s 57us/step - loss: 0.2080 - accuracy: 0.9131\n",
      "Epoch 36/100\n",
      "8598/8598 [==============================] - 0s 52us/step - loss: 0.2057 - accuracy: 0.9137\n",
      "Epoch 37/100\n",
      "8598/8598 [==============================] - 0s 53us/step - loss: 0.2061 - accuracy: 0.9146\n",
      "Epoch 38/100\n",
      "8598/8598 [==============================] - 0s 52us/step - loss: 0.2048 - accuracy: 0.9144\n",
      "Epoch 39/100\n",
      "8598/8598 [==============================] - 0s 52us/step - loss: 0.2042 - accuracy: 0.9147\n",
      "Epoch 40/100\n",
      "8598/8598 [==============================] - 0s 52us/step - loss: 0.2035 - accuracy: 0.9147\n",
      "Epoch 41/100\n",
      "8598/8598 [==============================] - 0s 52us/step - loss: 0.2032 - accuracy: 0.9144\n",
      "Epoch 42/100\n",
      "8598/8598 [==============================] - 0s 52us/step - loss: 0.2016 - accuracy: 0.9153\n",
      "Epoch 43/100\n",
      "8598/8598 [==============================] - 0s 53us/step - loss: 0.2009 - accuracy: 0.9164\n",
      "Epoch 44/100\n",
      "8598/8598 [==============================] - 0s 53us/step - loss: 0.2014 - accuracy: 0.9149\n",
      "Epoch 45/100\n",
      "8598/8598 [==============================] - 0s 56us/step - loss: 0.1995 - accuracy: 0.9164\n",
      "Epoch 46/100\n",
      "8598/8598 [==============================] - 0s 54us/step - loss: 0.1995 - accuracy: 0.9160\n",
      "Epoch 47/100\n",
      "8598/8598 [==============================] - 0s 52us/step - loss: 0.1995 - accuracy: 0.9159\n",
      "Epoch 48/100\n",
      "8598/8598 [==============================] - 0s 52us/step - loss: 0.1981 - accuracy: 0.9160\n",
      "Epoch 49/100\n",
      "8598/8598 [==============================] - 0s 54us/step - loss: 0.1979 - accuracy: 0.9167\n",
      "Epoch 50/100\n",
      "8598/8598 [==============================] - 0s 52us/step - loss: 0.1972 - accuracy: 0.9184\n",
      "Epoch 51/100\n",
      "8598/8598 [==============================] - 1s 62us/step - loss: 0.1970 - accuracy: 0.9167\n",
      "Epoch 52/100\n",
      "8598/8598 [==============================] - 0s 55us/step - loss: 0.1957 - accuracy: 0.9170\n",
      "Epoch 53/100\n",
      "8598/8598 [==============================] - 1s 78us/step - loss: 0.1960 - accuracy: 0.9189\n",
      "Epoch 54/100\n",
      "8598/8598 [==============================] - 1s 95us/step - loss: 0.1949 - accuracy: 0.9194\n",
      "Epoch 55/100\n",
      "8598/8598 [==============================] - 1s 93us/step - loss: 0.1952 - accuracy: 0.9181\n",
      "Epoch 56/100\n",
      "8598/8598 [==============================] - 0s 52us/step - loss: 0.1934 - accuracy: 0.9174\n",
      "Epoch 57/100\n",
      "8598/8598 [==============================] - 0s 51us/step - loss: 0.1937 - accuracy: 0.9192\n",
      "Epoch 58/100\n",
      "8598/8598 [==============================] - 1s 69us/step - loss: 0.1933 - accuracy: 0.9196\n",
      "Epoch 59/100\n",
      "8598/8598 [==============================] - 1s 86us/step - loss: 0.1923 - accuracy: 0.9194\n",
      "Epoch 60/100\n",
      "8598/8598 [==============================] - 1s 76us/step - loss: 0.1924 - accuracy: 0.9200\n",
      "Epoch 61/100\n",
      "8598/8598 [==============================] - 0s 54us/step - loss: 0.1916 - accuracy: 0.9192\n",
      "Epoch 62/100\n",
      "8598/8598 [==============================] - 0s 51us/step - loss: 0.1912 - accuracy: 0.9201\n",
      "Epoch 63/100\n",
      "8598/8598 [==============================] - 1s 61us/step - loss: 0.1907 - accuracy: 0.9215\n",
      "Epoch 64/100\n",
      "8598/8598 [==============================] - 1s 97us/step - loss: 0.1905 - accuracy: 0.9192\n",
      "Epoch 65/100\n",
      "8598/8598 [==============================] - 1s 63us/step - loss: 0.1900 - accuracy: 0.9199\n",
      "Epoch 66/100\n",
      "8598/8598 [==============================] - 0s 52us/step - loss: 0.1897 - accuracy: 0.9192\n",
      "Epoch 67/100\n",
      "8598/8598 [==============================] - 0s 53us/step - loss: 0.1888 - accuracy: 0.9197\n",
      "Epoch 68/100\n",
      "8598/8598 [==============================] - 0s 53us/step - loss: 0.1885 - accuracy: 0.9194\n",
      "Epoch 69/100\n",
      "8598/8598 [==============================] - 0s 51us/step - loss: 0.1875 - accuracy: 0.9223\n",
      "Epoch 70/100\n",
      "8598/8598 [==============================] - 0s 51us/step - loss: 0.1878 - accuracy: 0.9202\n",
      "Epoch 71/100\n",
      "8598/8598 [==============================] - 1s 86us/step - loss: 0.1867 - accuracy: 0.9220\n",
      "Epoch 72/100\n",
      "8598/8598 [==============================] - 1s 88us/step - loss: 0.1862 - accuracy: 0.9221\n",
      "Epoch 73/100\n",
      "8598/8598 [==============================] - 1s 89us/step - loss: 0.1860 - accuracy: 0.9218\n",
      "Epoch 74/100\n",
      "8598/8598 [==============================] - 1s 97us/step - loss: 0.1860 - accuracy: 0.9221\n",
      "Epoch 75/100\n",
      "8598/8598 [==============================] - 1s 82us/step - loss: 0.1849 - accuracy: 0.9227\n",
      "Epoch 76/100\n",
      "8598/8598 [==============================] - 1s 64us/step - loss: 0.1848 - accuracy: 0.9238\n",
      "Epoch 77/100\n",
      "8598/8598 [==============================] - 0s 56us/step - loss: 0.1843 - accuracy: 0.9227\n",
      "Epoch 78/100\n",
      "8598/8598 [==============================] - 1s 62us/step - loss: 0.1835 - accuracy: 0.9231\n",
      "Epoch 79/100\n"
     ]
    },
    {
     "name": "stdout",
     "output_type": "stream",
     "text": [
      "8598/8598 [==============================] - 1s 78us/step - loss: 0.1835 - accuracy: 0.9223\n",
      "Epoch 80/100\n",
      "8598/8598 [==============================] - 1s 65us/step - loss: 0.1831 - accuracy: 0.9231\n",
      "Epoch 81/100\n",
      "8598/8598 [==============================] - 0s 54us/step - loss: 0.1827 - accuracy: 0.9239\n",
      "Epoch 82/100\n",
      "8598/8598 [==============================] - 0s 55us/step - loss: 0.1825 - accuracy: 0.9235\n",
      "Epoch 83/100\n",
      "8598/8598 [==============================] - 0s 52us/step - loss: 0.1824 - accuracy: 0.9242\n",
      "Epoch 84/100\n",
      "8598/8598 [==============================] - 0s 55us/step - loss: 0.1812 - accuracy: 0.9238\n",
      "Epoch 85/100\n",
      "8598/8598 [==============================] - 0s 53us/step - loss: 0.1810 - accuracy: 0.9232\n",
      "Epoch 86/100\n",
      "8598/8598 [==============================] - 0s 53us/step - loss: 0.1813 - accuracy: 0.9232\n",
      "Epoch 87/100\n",
      "8598/8598 [==============================] - 0s 53us/step - loss: 0.1808 - accuracy: 0.9231\n",
      "Epoch 88/100\n",
      "8598/8598 [==============================] - 0s 51us/step - loss: 0.1798 - accuracy: 0.9250\n",
      "Epoch 89/100\n",
      "8598/8598 [==============================] - 0s 52us/step - loss: 0.1797 - accuracy: 0.9231\n",
      "Epoch 90/100\n",
      "8598/8598 [==============================] - 0s 52us/step - loss: 0.1791 - accuracy: 0.9263\n",
      "Epoch 91/100\n",
      "8598/8598 [==============================] - 0s 51us/step - loss: 0.1787 - accuracy: 0.9258\n",
      "Epoch 92/100\n",
      "8598/8598 [==============================] - 0s 52us/step - loss: 0.1787 - accuracy: 0.9244\n",
      "Epoch 93/100\n",
      "8598/8598 [==============================] - 0s 56us/step - loss: 0.1785 - accuracy: 0.9236\n",
      "Epoch 94/100\n",
      "8598/8598 [==============================] - 1s 104us/step - loss: 0.1782 - accuracy: 0.9237\n",
      "Epoch 95/100\n",
      "8598/8598 [==============================] - 1s 99us/step - loss: 0.1772 - accuracy: 0.9238\n",
      "Epoch 96/100\n",
      "8598/8598 [==============================] - 0s 52us/step - loss: 0.1772 - accuracy: 0.9252\n",
      "Epoch 97/100\n",
      "8598/8598 [==============================] - 1s 61us/step - loss: 0.1761 - accuracy: 0.9253\n",
      "Epoch 98/100\n",
      "8598/8598 [==============================] - 1s 126us/step - loss: 0.1772 - accuracy: 0.9242\n",
      "Epoch 99/100\n",
      "8598/8598 [==============================] - 1s 73us/step - loss: 0.1761 - accuracy: 0.9246\n",
      "Epoch 100/100\n",
      "8598/8598 [==============================] - 1s 93us/step - loss: 0.1757 - accuracy: 0.9249\n"
     ]
    },
    {
     "data": {
      "text/plain": [
       "<keras.callbacks.callbacks.History at 0x7f4de6572ad0>"
      ]
     },
     "execution_count": 67,
     "metadata": {},
     "output_type": "execute_result"
    }
   ],
   "source": [
    "#Fitting the data to the training dataset\n",
    "classifier.fit(X_train,y_train, batch_size=10, epochs=100)"
   ]
  },
  {
   "cell_type": "code",
   "execution_count": 69,
   "metadata": {
    "pycharm": {
     "name": "#%%\n"
    }
   },
   "outputs": [
    {
     "name": "stdout",
     "output_type": "stream",
     "text": [
      "8598/8598 [==============================] - 0s 7us/step\n"
     ]
    },
    {
     "data": {
      "text/plain": [
       "[0.16848199560659435, 0.9294021725654602]"
      ]
     },
     "execution_count": 69,
     "metadata": {},
     "output_type": "execute_result"
    }
   ],
   "source": [
    "eval_model=classifier.evaluate(X_train, y_train)\n",
    "eval_model"
   ]
  },
  {
   "cell_type": "code",
   "execution_count": 74,
   "metadata": {
    "pycharm": {
     "name": "#%%\n"
    }
   },
   "outputs": [
    {
     "data": {
      "text/plain": [
       "array([[False],\n",
       "       [False],\n",
       "       [False],\n",
       "       ...,\n",
       "       [False],\n",
       "       [False],\n",
       "       [ True]])"
      ]
     },
     "execution_count": 74,
     "metadata": {},
     "output_type": "execute_result"
    }
   ],
   "source": [
    "predictions=classifier.predict(X_test)\n",
    "predictions =(predictions>0.5)\n",
    "predictions"
   ]
  },
  {
   "cell_type": "code",
   "execution_count": 75,
   "metadata": {
    "pycharm": {
     "name": "#%%\n"
    }
   },
   "outputs": [
    {
     "name": "stdout",
     "output_type": "stream",
     "text": [
      "              precision    recall  f1-score   support\n",
      "\n",
      "           0       0.92      0.95      0.93      3105\n",
      "           1       0.66      0.56      0.61       580\n",
      "\n",
      "    accuracy                           0.89      3685\n",
      "   macro avg       0.79      0.75      0.77      3685\n",
      "weighted avg       0.88      0.89      0.88      3685\n",
      "\n"
     ]
    }
   ],
   "source": [
    "from sklearn.metrics import classification_report, confusion_matrix\n",
    "print(classification_report(y_test,predictions))"
   ]
  },
  {
   "cell_type": "code",
   "execution_count": 76,
   "metadata": {},
   "outputs": [
    {
     "data": {
      "text/plain": [
       "array([[False],\n",
       "       [False],\n",
       "       [False],\n",
       "       ...,\n",
       "       [False],\n",
       "       [False],\n",
       "       [ True]])"
      ]
     },
     "execution_count": 76,
     "metadata": {},
     "output_type": "execute_result"
    }
   ],
   "source": [
    "predictions=classifier.predict(X_test)\n",
    "predictions =(predictions>0.25)\n",
    "predictions"
   ]
  },
  {
   "cell_type": "code",
   "execution_count": 78,
   "metadata": {
    "pycharm": {
     "name": "#%%\n"
    }
   },
   "outputs": [
    {
     "name": "stdout",
     "output_type": "stream",
     "text": [
      "              precision    recall  f1-score   support\n",
      "\n",
      "           0       0.94      0.88      0.91      3105\n",
      "           1       0.53      0.71      0.61       580\n",
      "\n",
      "    accuracy                           0.86      3685\n",
      "   macro avg       0.74      0.80      0.76      3685\n",
      "weighted avg       0.88      0.86      0.86      3685\n",
      "\n"
     ]
    }
   ],
   "source": [
    "from sklearn.metrics import classification_report, confusion_matrix\n",
    "print(classification_report(y_test,predictions))"
   ]
  },
  {
   "cell_type": "markdown",
   "metadata": {},
   "source": [
    "## NN with MinMax"
   ]
  },
  {
   "cell_type": "code",
   "execution_count": 79,
   "metadata": {
    "pycharm": {
     "name": "#%%\n"
    }
   },
   "outputs": [],
   "source": [
    "from sklearn.preprocessing import MinMaxScaler\n",
    "\n",
    "scaler = MinMaxScaler()\n",
    "X_scal = scaler.fit_transform(df.drop(labels=['Revenue'], axis=1))\n",
    "X_scal\n",
    "X_train, X_test, y_train, y_test = train_test_split(X_scal, y, test_size=0.3, random_state=3)"
   ]
  },
  {
   "cell_type": "code",
   "execution_count": 80,
   "metadata": {
    "pycharm": {
     "name": "#%%\n"
    }
   },
   "outputs": [
    {
     "name": "stdout",
     "output_type": "stream",
     "text": [
      "Epoch 1/100\n",
      "8598/8598 [==============================] - 1s 76us/step - loss: 0.4225 - accuracy: 0.8455\n",
      "Epoch 2/100\n",
      "8598/8598 [==============================] - 1s 96us/step - loss: 0.3635 - accuracy: 0.8455\n",
      "Epoch 3/100\n",
      "8598/8598 [==============================] - 1s 109us/step - loss: 0.3361 - accuracy: 0.8593\n",
      "Epoch 4/100\n",
      "8598/8598 [==============================] - 1s 93us/step - loss: 0.3115 - accuracy: 0.8761\n",
      "Epoch 5/100\n",
      "8598/8598 [==============================] - 1s 100us/step - loss: 0.2929 - accuracy: 0.8838\n",
      "Epoch 6/100\n",
      "8598/8598 [==============================] - 1s 118us/step - loss: 0.2808 - accuracy: 0.8873\n",
      "Epoch 7/100\n",
      "8598/8598 [==============================] - 1s 114us/step - loss: 0.2750 - accuracy: 0.8900\n",
      "Epoch 8/100\n",
      "8598/8598 [==============================] - 1s 121us/step - loss: 0.2705 - accuracy: 0.8906\n",
      "Epoch 9/100\n",
      "8598/8598 [==============================] - 1s 124us/step - loss: 0.2674 - accuracy: 0.8909\n",
      "Epoch 10/100\n",
      "8598/8598 [==============================] - 1s 141us/step - loss: 0.2646 - accuracy: 0.8932\n",
      "Epoch 11/100\n",
      "8598/8598 [==============================] - 2s 176us/step - loss: 0.2617 - accuracy: 0.8929\n",
      "Epoch 12/100\n",
      "8598/8598 [==============================] - 1s 64us/step - loss: 0.2598 - accuracy: 0.8942\n",
      "Epoch 13/100\n",
      "8598/8598 [==============================] - 0s 53us/step - loss: 0.2587 - accuracy: 0.8944\n",
      "Epoch 14/100\n",
      "8598/8598 [==============================] - 0s 51us/step - loss: 0.2564 - accuracy: 0.8953\n",
      "Epoch 15/100\n",
      "8598/8598 [==============================] - 0s 56us/step - loss: 0.2561 - accuracy: 0.8953\n",
      "Epoch 16/100\n",
      "8598/8598 [==============================] - 1s 73us/step - loss: 0.2542 - accuracy: 0.8975\n",
      "Epoch 17/100\n",
      "8598/8598 [==============================] - 0s 55us/step - loss: 0.2522 - accuracy: 0.8968\n",
      "Epoch 18/100\n",
      "8598/8598 [==============================] - 1s 68us/step - loss: 0.2501 - accuracy: 0.8981\n",
      "Epoch 19/100\n",
      "8598/8598 [==============================] - 1s 106us/step - loss: 0.2490 - accuracy: 0.8986\n",
      "Epoch 20/100\n",
      "8598/8598 [==============================] - 1s 115us/step - loss: 0.2477 - accuracy: 0.8993\n",
      "Epoch 21/100\n",
      "8598/8598 [==============================] - 1s 78us/step - loss: 0.2475 - accuracy: 0.8987\n",
      "Epoch 22/100\n",
      "8598/8598 [==============================] - 1s 82us/step - loss: 0.2459 - accuracy: 0.8990\n",
      "Epoch 23/100\n",
      "8598/8598 [==============================] - 1s 97us/step - loss: 0.2437 - accuracy: 0.9001\n",
      "Epoch 24/100\n",
      "8598/8598 [==============================] - 1s 161us/step - loss: 0.2445 - accuracy: 0.8996\n",
      "Epoch 25/100\n",
      "8598/8598 [==============================] - 1s 108us/step - loss: 0.2433 - accuracy: 0.9003\n",
      "Epoch 26/100\n",
      "8598/8598 [==============================] - 1s 122us/step - loss: 0.2430 - accuracy: 0.9017\n",
      "Epoch 27/100\n",
      "8598/8598 [==============================] - 1s 106us/step - loss: 0.2416 - accuracy: 0.8994\n",
      "Epoch 28/100\n",
      "8598/8598 [==============================] - 0s 54us/step - loss: 0.2409 - accuracy: 0.9023\n",
      "Epoch 29/100\n",
      "8598/8598 [==============================] - 0s 52us/step - loss: 0.2401 - accuracy: 0.9000\n",
      "Epoch 30/100\n",
      "8598/8598 [==============================] - 1s 103us/step - loss: 0.2391 - accuracy: 0.9021\n",
      "Epoch 31/100\n",
      "8598/8598 [==============================] - 1s 88us/step - loss: 0.2367 - accuracy: 0.9022\n",
      "Epoch 32/100\n",
      "8598/8598 [==============================] - 1s 131us/step - loss: 0.2378 - accuracy: 0.9020\n",
      "Epoch 33/100\n",
      "8598/8598 [==============================] - 1s 106us/step - loss: 0.2367 - accuracy: 0.9025\n",
      "Epoch 34/100\n",
      "8598/8598 [==============================] - 1s 107us/step - loss: 0.2348 - accuracy: 0.9016\n",
      "Epoch 35/100\n",
      "8598/8598 [==============================] - 1s 165us/step - loss: 0.2344 - accuracy: 0.9039\n",
      "Epoch 36/100\n",
      "8598/8598 [==============================] - 1s 137us/step - loss: 0.2341 - accuracy: 0.9021\n",
      "Epoch 37/100\n",
      "8598/8598 [==============================] - 1s 97us/step - loss: 0.2330 - accuracy: 0.9040\n",
      "Epoch 38/100\n",
      "8598/8598 [==============================] - 1s 146us/step - loss: 0.2314 - accuracy: 0.9047\n",
      "Epoch 39/100\n",
      "8598/8598 [==============================] - 1s 60us/step - loss: 0.2303 - accuracy: 0.9035\n",
      "Epoch 40/100\n",
      "8598/8598 [==============================] - 1s 173us/step - loss: 0.2304 - accuracy: 0.9036\n",
      "Epoch 41/100\n",
      "8598/8598 [==============================] - 1s 145us/step - loss: 0.2296 - accuracy: 0.9042\n",
      "Epoch 42/100\n",
      "8598/8598 [==============================] - 1s 167us/step - loss: 0.2298 - accuracy: 0.9044\n",
      "Epoch 43/100\n",
      "8598/8598 [==============================] - 1s 134us/step - loss: 0.2281 - accuracy: 0.9029\n",
      "Epoch 44/100\n",
      "8598/8598 [==============================] - 1s 151us/step - loss: 0.2290 - accuracy: 0.9037\n",
      "Epoch 45/100\n",
      "8598/8598 [==============================] - 2s 197us/step - loss: 0.2284 - accuracy: 0.9032\n",
      "Epoch 46/100\n",
      "8598/8598 [==============================] - 2s 217us/step - loss: 0.2270 - accuracy: 0.9060\n",
      "Epoch 47/100\n",
      "8598/8598 [==============================] - 2s 177us/step - loss: 0.2270 - accuracy: 0.9044\n",
      "Epoch 48/100\n",
      "8598/8598 [==============================] - 2s 182us/step - loss: 0.2255 - accuracy: 0.9044\n",
      "Epoch 49/100\n",
      "8598/8598 [==============================] - 2s 211us/step - loss: 0.2261 - accuracy: 0.9052\n",
      "Epoch 50/100\n",
      "8598/8598 [==============================] - 1s 165us/step - loss: 0.2260 - accuracy: 0.9042\n",
      "Epoch 51/100\n",
      "8598/8598 [==============================] - 1s 80us/step - loss: 0.2244 - accuracy: 0.9057\n",
      "Epoch 52/100\n",
      "8598/8598 [==============================] - 1s 124us/step - loss: 0.2243 - accuracy: 0.9050\n",
      "Epoch 53/100\n",
      "8598/8598 [==============================] - 1s 97us/step - loss: 0.2235 - accuracy: 0.9035\n",
      "Epoch 54/100\n",
      "8598/8598 [==============================] - 1s 62us/step - loss: 0.2230 - accuracy: 0.9064\n",
      "Epoch 55/100\n",
      "8598/8598 [==============================] - 1s 138us/step - loss: 0.2233 - accuracy: 0.9060\n",
      "Epoch 56/100\n",
      "8598/8598 [==============================] - 1s 104us/step - loss: 0.2224 - accuracy: 0.9060\n",
      "Epoch 57/100\n",
      "8598/8598 [==============================] - 1s 156us/step - loss: 0.2220 - accuracy: 0.9056\n",
      "Epoch 58/100\n",
      "8598/8598 [==============================] - 2s 183us/step - loss: 0.2214 - accuracy: 0.9052\n",
      "Epoch 59/100\n",
      "8598/8598 [==============================] - 1s 86us/step - loss: 0.2217 - accuracy: 0.9077\n",
      "Epoch 60/100\n",
      "8598/8598 [==============================] - 0s 53us/step - loss: 0.2210 - accuracy: 0.9073\n",
      "Epoch 61/100\n",
      "8598/8598 [==============================] - 0s 51us/step - loss: 0.2199 - accuracy: 0.9080\n",
      "Epoch 62/100\n",
      "8598/8598 [==============================] - 0s 52us/step - loss: 0.2210 - accuracy: 0.9079\n",
      "Epoch 63/100\n",
      "8598/8598 [==============================] - 0s 52us/step - loss: 0.2205 - accuracy: 0.9056\n",
      "Epoch 64/100\n",
      "8598/8598 [==============================] - 0s 56us/step - loss: 0.2205 - accuracy: 0.9067\n",
      "Epoch 65/100\n",
      "8598/8598 [==============================] - 1s 62us/step - loss: 0.2189 - accuracy: 0.9074\n",
      "Epoch 66/100\n",
      "8598/8598 [==============================] - 0s 53us/step - loss: 0.2214 - accuracy: 0.9068\n",
      "Epoch 67/100\n",
      "8598/8598 [==============================] - 1s 88us/step - loss: 0.2179 - accuracy: 0.9080\n",
      "Epoch 68/100\n",
      "8598/8598 [==============================] - 1s 86us/step - loss: 0.2198 - accuracy: 0.9097\n",
      "Epoch 69/100\n",
      "8598/8598 [==============================] - 1s 86us/step - loss: 0.2194 - accuracy: 0.9081\n",
      "Epoch 70/100\n",
      "8598/8598 [==============================] - 1s 84us/step - loss: 0.2185 - accuracy: 0.9086\n",
      "Epoch 71/100\n",
      "8598/8598 [==============================] - 1s 61us/step - loss: 0.2185 - accuracy: 0.9070\n",
      "Epoch 72/100\n",
      "8598/8598 [==============================] - 1s 67us/step - loss: 0.2187 - accuracy: 0.9082\n",
      "Epoch 73/100\n",
      "8598/8598 [==============================] - 1s 121us/step - loss: 0.2181 - accuracy: 0.9072\n",
      "Epoch 74/100\n",
      "8598/8598 [==============================] - 1s 147us/step - loss: 0.2164 - accuracy: 0.9101\n",
      "Epoch 75/100\n",
      "8598/8598 [==============================] - 1s 91us/step - loss: 0.2183 - accuracy: 0.9063\n",
      "Epoch 76/100\n",
      "8598/8598 [==============================] - 0s 53us/step - loss: 0.2172 - accuracy: 0.9071\n",
      "Epoch 77/100\n",
      "8598/8598 [==============================] - 1s 94us/step - loss: 0.2172 - accuracy: 0.9115\n",
      "Epoch 78/100\n"
     ]
    },
    {
     "name": "stdout",
     "output_type": "stream",
     "text": [
      "8598/8598 [==============================] - 1s 108us/step - loss: 0.2172 - accuracy: 0.9071\n",
      "Epoch 79/100\n",
      "8598/8598 [==============================] - 1s 101us/step - loss: 0.2160 - accuracy: 0.9067\n",
      "Epoch 80/100\n",
      "8598/8598 [==============================] - 0s 58us/step - loss: 0.2164 - accuracy: 0.9087\n",
      "Epoch 81/100\n",
      "8598/8598 [==============================] - 2s 179us/step - loss: 0.2163 - accuracy: 0.9088\n",
      "Epoch 82/100\n",
      "8598/8598 [==============================] - 1s 82us/step - loss: 0.2157 - accuracy: 0.9071\n",
      "Epoch 83/100\n",
      "8598/8598 [==============================] - 1s 82us/step - loss: 0.2146 - accuracy: 0.9088\n",
      "Epoch 84/100\n",
      "8598/8598 [==============================] - 1s 90us/step - loss: 0.2163 - accuracy: 0.9086\n",
      "Epoch 85/100\n",
      "8598/8598 [==============================] - 1s 78us/step - loss: 0.2148 - accuracy: 0.9072\n",
      "Epoch 86/100\n",
      "8598/8598 [==============================] - 1s 74us/step - loss: 0.2151 - accuracy: 0.9094\n",
      "Epoch 87/100\n",
      "8598/8598 [==============================] - 1s 75us/step - loss: 0.2145 - accuracy: 0.9084\n",
      "Epoch 88/100\n",
      "8598/8598 [==============================] - 0s 58us/step - loss: 0.2152 - accuracy: 0.9089\n",
      "Epoch 89/100\n",
      "8598/8598 [==============================] - 0s 55us/step - loss: 0.2144 - accuracy: 0.9078\n",
      "Epoch 90/100\n",
      "8598/8598 [==============================] - 1s 68us/step - loss: 0.2134 - accuracy: 0.9086\n",
      "Epoch 91/100\n",
      "8598/8598 [==============================] - 1s 80us/step - loss: 0.2140 - accuracy: 0.9092\n",
      "Epoch 92/100\n",
      "8598/8598 [==============================] - 0s 56us/step - loss: 0.2135 - accuracy: 0.9090\n",
      "Epoch 93/100\n",
      "8598/8598 [==============================] - 1s 61us/step - loss: 0.2138 - accuracy: 0.9080\n",
      "Epoch 94/100\n",
      "8598/8598 [==============================] - 1s 135us/step - loss: 0.2128 - accuracy: 0.9089\n",
      "Epoch 95/100\n",
      "8598/8598 [==============================] - 1s 110us/step - loss: 0.2121 - accuracy: 0.9089\n",
      "Epoch 96/100\n",
      "8598/8598 [==============================] - 1s 105us/step - loss: 0.2130 - accuracy: 0.9088\n",
      "Epoch 97/100\n",
      "8598/8598 [==============================] - 0s 56us/step - loss: 0.2114 - accuracy: 0.9086\n",
      "Epoch 98/100\n",
      "8598/8598 [==============================] - 1s 72us/step - loss: 0.2128 - accuracy: 0.9101\n",
      "Epoch 99/100\n",
      "8598/8598 [==============================] - 1s 143us/step - loss: 0.2121 - accuracy: 0.9089\n",
      "Epoch 100/100\n",
      "8598/8598 [==============================] - 1s 167us/step - loss: 0.2123 - accuracy: 0.9082\n"
     ]
    },
    {
     "data": {
      "text/plain": [
       "<keras.callbacks.callbacks.History at 0x7f4de03283d0>"
      ]
     },
     "execution_count": 80,
     "metadata": {},
     "output_type": "execute_result"
    }
   ],
   "source": [
    "classifier = Sequential()\n",
    "#First Hidden Layer\n",
    "classifier.add(Dense(12, activation='relu', kernel_initializer='random_normal', input_dim=X_scal.shape[1]))\n",
    "#Second  Hidden Layer\n",
    "classifier.add(Dense(12, activation='relu', kernel_initializer='random_normal'))\n",
    "#Output Layer\n",
    "classifier.add(Dense(1, activation='sigmoid', kernel_initializer='random_normal'))\n",
    "\n",
    "\n",
    "#Compiling the neural network\n",
    "classifier.compile(optimizer ='adam',loss='binary_crossentropy', metrics =['accuracy'])\n",
    "\n",
    "#Fitting the data to the training dataset\n",
    "classifier.fit(X_train,y_train, batch_size=10, epochs=100)"
   ]
  },
  {
   "cell_type": "code",
   "execution_count": 81,
   "metadata": {
    "pycharm": {
     "name": "#%%\n"
    }
   },
   "outputs": [
    {
     "name": "stdout",
     "output_type": "stream",
     "text": [
      "              precision    recall  f1-score   support\n",
      "\n",
      "           0       0.93      0.94      0.94      3105\n",
      "           1       0.67      0.62      0.65       580\n",
      "\n",
      "    accuracy                           0.89      3685\n",
      "   macro avg       0.80      0.78      0.79      3685\n",
      "weighted avg       0.89      0.89      0.89      3685\n",
      "\n"
     ]
    }
   ],
   "source": [
    "predictions=classifier.predict(X_test)\n",
    "predictions =(predictions>0.5)\n",
    "predictions\n",
    "\n",
    "from sklearn.metrics import classification_report, confusion_matrix\n",
    "print(classification_report(y_test,predictions))"
   ]
  },
  {
   "cell_type": "code",
   "execution_count": null,
   "metadata": {
    "pycharm": {
     "name": "#%%\n"
    }
   },
   "outputs": [],
   "source": [
    "\n",
    "\n"
   ]
  }
 ],
 "metadata": {
  "kernelspec": {
   "display_name": "Python 3",
   "language": "python",
   "name": "python3"
  },
  "language_info": {
   "codemirror_mode": {
    "name": "ipython",
    "version": 3
   },
   "file_extension": ".py",
   "mimetype": "text/x-python",
   "name": "python",
   "nbconvert_exporter": "python",
   "pygments_lexer": "ipython3",
   "version": "3.7.5"
  },
  "pycharm": {
   "stem_cell": {
    "cell_type": "raw",
    "metadata": {
     "collapsed": false
    },
    "source": []
   }
  }
 },
 "nbformat": 4,
 "nbformat_minor": 1
}
