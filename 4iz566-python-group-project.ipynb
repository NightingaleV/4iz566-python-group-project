{
 "cells": [
  {
   "cell_type": "markdown",
   "metadata": {},
   "source": [
    "# Data Description"
   ]
  },
  {
   "cell_type": "markdown",
   "metadata": {},
   "source": [
    "# Imports"
   ]
  },
  {
   "cell_type": "code",
   "execution_count": 3,
   "metadata": {},
   "outputs": [],
   "source": [
    "# Supress Notebook Warnings\n",
    "import warnings\n",
    "warnings.filterwarnings('ignore')\n",
    "\n",
    "import numpy as np\n",
    "import pandas as pd\n",
    "\n",
    "# Visualization\n",
    "import matplotlib.pyplot as plt\n",
    "import seaborn as sns\n",
    "%matplotlib inline\n",
    "sns.set()"
   ]
  },
  {
   "cell_type": "code",
   "execution_count": 4,
   "metadata": {},
   "outputs": [
    {
     "data": {
      "text/html": [
       "<div>\n",
       "<style scoped>\n",
       "    .dataframe tbody tr th:only-of-type {\n",
       "        vertical-align: middle;\n",
       "    }\n",
       "\n",
       "    .dataframe tbody tr th {\n",
       "        vertical-align: top;\n",
       "    }\n",
       "\n",
       "    .dataframe thead th {\n",
       "        text-align: right;\n",
       "    }\n",
       "</style>\n",
       "<table border=\"1\" class=\"dataframe\">\n",
       "  <thead>\n",
       "    <tr style=\"text-align: right;\">\n",
       "      <th></th>\n",
       "      <th>Administrative</th>\n",
       "      <th>Administrative_Duration</th>\n",
       "      <th>Informational</th>\n",
       "      <th>Informational_Duration</th>\n",
       "      <th>ProductRelated</th>\n",
       "      <th>ProductRelated_Duration</th>\n",
       "      <th>BounceRates</th>\n",
       "      <th>ExitRates</th>\n",
       "      <th>PageValues</th>\n",
       "      <th>SpecialDay</th>\n",
       "      <th>Month</th>\n",
       "      <th>OperatingSystems</th>\n",
       "      <th>Browser</th>\n",
       "      <th>Region</th>\n",
       "      <th>TrafficType</th>\n",
       "      <th>VisitorType</th>\n",
       "      <th>Weekend</th>\n",
       "      <th>Revenue</th>\n",
       "    </tr>\n",
       "  </thead>\n",
       "  <tbody>\n",
       "    <tr>\n",
       "      <th>12325</th>\n",
       "      <td>3.0</td>\n",
       "      <td>145.0</td>\n",
       "      <td>0.0</td>\n",
       "      <td>0.0</td>\n",
       "      <td>53.0</td>\n",
       "      <td>1783.791667</td>\n",
       "      <td>0.007143</td>\n",
       "      <td>0.029031</td>\n",
       "      <td>12.241717</td>\n",
       "      <td>0.0</td>\n",
       "      <td>Dec</td>\n",
       "      <td>4</td>\n",
       "      <td>6</td>\n",
       "      <td>1</td>\n",
       "      <td>1</td>\n",
       "      <td>Returning_Visitor</td>\n",
       "      <td>True</td>\n",
       "      <td>False</td>\n",
       "    </tr>\n",
       "    <tr>\n",
       "      <th>12326</th>\n",
       "      <td>0.0</td>\n",
       "      <td>0.0</td>\n",
       "      <td>0.0</td>\n",
       "      <td>0.0</td>\n",
       "      <td>5.0</td>\n",
       "      <td>465.750000</td>\n",
       "      <td>0.000000</td>\n",
       "      <td>0.021333</td>\n",
       "      <td>0.000000</td>\n",
       "      <td>0.0</td>\n",
       "      <td>Nov</td>\n",
       "      <td>3</td>\n",
       "      <td>2</td>\n",
       "      <td>1</td>\n",
       "      <td>8</td>\n",
       "      <td>Returning_Visitor</td>\n",
       "      <td>True</td>\n",
       "      <td>False</td>\n",
       "    </tr>\n",
       "    <tr>\n",
       "      <th>12327</th>\n",
       "      <td>0.0</td>\n",
       "      <td>0.0</td>\n",
       "      <td>0.0</td>\n",
       "      <td>0.0</td>\n",
       "      <td>6.0</td>\n",
       "      <td>184.250000</td>\n",
       "      <td>0.083333</td>\n",
       "      <td>0.086667</td>\n",
       "      <td>0.000000</td>\n",
       "      <td>0.0</td>\n",
       "      <td>Nov</td>\n",
       "      <td>3</td>\n",
       "      <td>2</td>\n",
       "      <td>1</td>\n",
       "      <td>13</td>\n",
       "      <td>Returning_Visitor</td>\n",
       "      <td>True</td>\n",
       "      <td>False</td>\n",
       "    </tr>\n",
       "    <tr>\n",
       "      <th>12328</th>\n",
       "      <td>4.0</td>\n",
       "      <td>75.0</td>\n",
       "      <td>0.0</td>\n",
       "      <td>0.0</td>\n",
       "      <td>15.0</td>\n",
       "      <td>346.000000</td>\n",
       "      <td>0.000000</td>\n",
       "      <td>0.021053</td>\n",
       "      <td>0.000000</td>\n",
       "      <td>0.0</td>\n",
       "      <td>Nov</td>\n",
       "      <td>2</td>\n",
       "      <td>2</td>\n",
       "      <td>3</td>\n",
       "      <td>11</td>\n",
       "      <td>Returning_Visitor</td>\n",
       "      <td>False</td>\n",
       "      <td>False</td>\n",
       "    </tr>\n",
       "    <tr>\n",
       "      <th>12329</th>\n",
       "      <td>0.0</td>\n",
       "      <td>0.0</td>\n",
       "      <td>0.0</td>\n",
       "      <td>0.0</td>\n",
       "      <td>3.0</td>\n",
       "      <td>21.250000</td>\n",
       "      <td>0.000000</td>\n",
       "      <td>0.066667</td>\n",
       "      <td>0.000000</td>\n",
       "      <td>0.0</td>\n",
       "      <td>Nov</td>\n",
       "      <td>3</td>\n",
       "      <td>2</td>\n",
       "      <td>1</td>\n",
       "      <td>2</td>\n",
       "      <td>New_Visitor</td>\n",
       "      <td>True</td>\n",
       "      <td>False</td>\n",
       "    </tr>\n",
       "  </tbody>\n",
       "</table>\n",
       "</div>"
      ],
      "text/plain": [
       "       Administrative  Administrative_Duration  Informational  \\\n",
       "12325             3.0                    145.0            0.0   \n",
       "12326             0.0                      0.0            0.0   \n",
       "12327             0.0                      0.0            0.0   \n",
       "12328             4.0                     75.0            0.0   \n",
       "12329             0.0                      0.0            0.0   \n",
       "\n",
       "       Informational_Duration  ProductRelated  ProductRelated_Duration  \\\n",
       "12325                     0.0            53.0              1783.791667   \n",
       "12326                     0.0             5.0               465.750000   \n",
       "12327                     0.0             6.0               184.250000   \n",
       "12328                     0.0            15.0               346.000000   \n",
       "12329                     0.0             3.0                21.250000   \n",
       "\n",
       "       BounceRates  ExitRates  PageValues  SpecialDay Month  OperatingSystems  \\\n",
       "12325     0.007143   0.029031   12.241717         0.0   Dec                 4   \n",
       "12326     0.000000   0.021333    0.000000         0.0   Nov                 3   \n",
       "12327     0.083333   0.086667    0.000000         0.0   Nov                 3   \n",
       "12328     0.000000   0.021053    0.000000         0.0   Nov                 2   \n",
       "12329     0.000000   0.066667    0.000000         0.0   Nov                 3   \n",
       "\n",
       "       Browser  Region  TrafficType        VisitorType  Weekend  Revenue  \n",
       "12325        6       1            1  Returning_Visitor     True    False  \n",
       "12326        2       1            8  Returning_Visitor     True    False  \n",
       "12327        2       1           13  Returning_Visitor     True    False  \n",
       "12328        2       3           11  Returning_Visitor    False    False  \n",
       "12329        2       1            2        New_Visitor     True    False  "
      ]
     },
     "execution_count": 4,
     "metadata": {},
     "output_type": "execute_result"
    }
   ],
   "source": [
    "df = pd.read_csv('data/online_shoppers_intention.csv', delimiter=',')\n",
    "df.tail(5)"
   ]
  },
  {
   "cell_type": "markdown",
   "metadata": {},
   "source": [
    "### Check for null values"
   ]
  },
  {
   "cell_type": "code",
   "execution_count": 5,
   "metadata": {},
   "outputs": [
    {
     "data": {
      "text/plain": [
       "Administrative             14\n",
       "Administrative_Duration    14\n",
       "Informational              14\n",
       "Informational_Duration     14\n",
       "ProductRelated             14\n",
       "ProductRelated_Duration    14\n",
       "BounceRates                14\n",
       "ExitRates                  14\n",
       "PageValues                  0\n",
       "SpecialDay                  0\n",
       "Month                       0\n",
       "OperatingSystems            0\n",
       "Browser                     0\n",
       "Region                      0\n",
       "TrafficType                 0\n",
       "VisitorType                 0\n",
       "Weekend                     0\n",
       "Revenue                     0\n",
       "dtype: int64"
      ]
     },
     "execution_count": 5,
     "metadata": {},
     "output_type": "execute_result"
    }
   ],
   "source": [
    "# Show counter for null values\n",
    "df.isnull().sum()"
   ]
  },
  {
   "cell_type": "code",
   "execution_count": 6,
   "metadata": {},
   "outputs": [
    {
     "data": {
      "text/html": [
       "<div>\n",
       "<style scoped>\n",
       "    .dataframe tbody tr th:only-of-type {\n",
       "        vertical-align: middle;\n",
       "    }\n",
       "\n",
       "    .dataframe tbody tr th {\n",
       "        vertical-align: top;\n",
       "    }\n",
       "\n",
       "    .dataframe thead th {\n",
       "        text-align: right;\n",
       "    }\n",
       "</style>\n",
       "<table border=\"1\" class=\"dataframe\">\n",
       "  <thead>\n",
       "    <tr style=\"text-align: right;\">\n",
       "      <th></th>\n",
       "      <th>Administrative</th>\n",
       "      <th>Administrative_Duration</th>\n",
       "      <th>Informational</th>\n",
       "      <th>Informational_Duration</th>\n",
       "      <th>ProductRelated</th>\n",
       "      <th>ProductRelated_Duration</th>\n",
       "      <th>BounceRates</th>\n",
       "      <th>ExitRates</th>\n",
       "      <th>PageValues</th>\n",
       "      <th>SpecialDay</th>\n",
       "      <th>OperatingSystems</th>\n",
       "      <th>Browser</th>\n",
       "      <th>Region</th>\n",
       "      <th>TrafficType</th>\n",
       "    </tr>\n",
       "  </thead>\n",
       "  <tbody>\n",
       "    <tr>\n",
       "      <th>count</th>\n",
       "      <td>12316.000000</td>\n",
       "      <td>12316.000000</td>\n",
       "      <td>12316.000000</td>\n",
       "      <td>12316.000000</td>\n",
       "      <td>12316.000000</td>\n",
       "      <td>12316.000000</td>\n",
       "      <td>12316.000000</td>\n",
       "      <td>12316.000000</td>\n",
       "      <td>12330.000000</td>\n",
       "      <td>12330.000000</td>\n",
       "      <td>12330.000000</td>\n",
       "      <td>12330.000000</td>\n",
       "      <td>12330.000000</td>\n",
       "      <td>12330.000000</td>\n",
       "    </tr>\n",
       "    <tr>\n",
       "      <th>mean</th>\n",
       "      <td>2.317798</td>\n",
       "      <td>80.906176</td>\n",
       "      <td>0.503979</td>\n",
       "      <td>34.506387</td>\n",
       "      <td>31.763884</td>\n",
       "      <td>1196.037057</td>\n",
       "      <td>0.022152</td>\n",
       "      <td>0.043003</td>\n",
       "      <td>5.889258</td>\n",
       "      <td>0.061427</td>\n",
       "      <td>2.124006</td>\n",
       "      <td>2.357097</td>\n",
       "      <td>3.147364</td>\n",
       "      <td>4.069586</td>\n",
       "    </tr>\n",
       "    <tr>\n",
       "      <th>std</th>\n",
       "      <td>3.322754</td>\n",
       "      <td>176.860432</td>\n",
       "      <td>1.270701</td>\n",
       "      <td>140.825479</td>\n",
       "      <td>44.490339</td>\n",
       "      <td>1914.372511</td>\n",
       "      <td>0.048427</td>\n",
       "      <td>0.048527</td>\n",
       "      <td>18.568437</td>\n",
       "      <td>0.198917</td>\n",
       "      <td>0.911325</td>\n",
       "      <td>1.717277</td>\n",
       "      <td>2.401591</td>\n",
       "      <td>4.025169</td>\n",
       "    </tr>\n",
       "    <tr>\n",
       "      <th>min</th>\n",
       "      <td>0.000000</td>\n",
       "      <td>-1.000000</td>\n",
       "      <td>0.000000</td>\n",
       "      <td>-1.000000</td>\n",
       "      <td>0.000000</td>\n",
       "      <td>-1.000000</td>\n",
       "      <td>0.000000</td>\n",
       "      <td>0.000000</td>\n",
       "      <td>0.000000</td>\n",
       "      <td>0.000000</td>\n",
       "      <td>1.000000</td>\n",
       "      <td>1.000000</td>\n",
       "      <td>1.000000</td>\n",
       "      <td>1.000000</td>\n",
       "    </tr>\n",
       "    <tr>\n",
       "      <th>25%</th>\n",
       "      <td>0.000000</td>\n",
       "      <td>0.000000</td>\n",
       "      <td>0.000000</td>\n",
       "      <td>0.000000</td>\n",
       "      <td>7.000000</td>\n",
       "      <td>185.000000</td>\n",
       "      <td>0.000000</td>\n",
       "      <td>0.014286</td>\n",
       "      <td>0.000000</td>\n",
       "      <td>0.000000</td>\n",
       "      <td>2.000000</td>\n",
       "      <td>2.000000</td>\n",
       "      <td>1.000000</td>\n",
       "      <td>2.000000</td>\n",
       "    </tr>\n",
       "    <tr>\n",
       "      <th>50%</th>\n",
       "      <td>1.000000</td>\n",
       "      <td>8.000000</td>\n",
       "      <td>0.000000</td>\n",
       "      <td>0.000000</td>\n",
       "      <td>18.000000</td>\n",
       "      <td>599.766190</td>\n",
       "      <td>0.003119</td>\n",
       "      <td>0.025124</td>\n",
       "      <td>0.000000</td>\n",
       "      <td>0.000000</td>\n",
       "      <td>2.000000</td>\n",
       "      <td>2.000000</td>\n",
       "      <td>3.000000</td>\n",
       "      <td>2.000000</td>\n",
       "    </tr>\n",
       "    <tr>\n",
       "      <th>75%</th>\n",
       "      <td>4.000000</td>\n",
       "      <td>93.500000</td>\n",
       "      <td>0.000000</td>\n",
       "      <td>0.000000</td>\n",
       "      <td>38.000000</td>\n",
       "      <td>1466.479902</td>\n",
       "      <td>0.016684</td>\n",
       "      <td>0.050000</td>\n",
       "      <td>0.000000</td>\n",
       "      <td>0.000000</td>\n",
       "      <td>3.000000</td>\n",
       "      <td>2.000000</td>\n",
       "      <td>4.000000</td>\n",
       "      <td>4.000000</td>\n",
       "    </tr>\n",
       "    <tr>\n",
       "      <th>max</th>\n",
       "      <td>27.000000</td>\n",
       "      <td>3398.750000</td>\n",
       "      <td>24.000000</td>\n",
       "      <td>2549.375000</td>\n",
       "      <td>705.000000</td>\n",
       "      <td>63973.522230</td>\n",
       "      <td>0.200000</td>\n",
       "      <td>0.200000</td>\n",
       "      <td>361.763742</td>\n",
       "      <td>1.000000</td>\n",
       "      <td>8.000000</td>\n",
       "      <td>13.000000</td>\n",
       "      <td>9.000000</td>\n",
       "      <td>20.000000</td>\n",
       "    </tr>\n",
       "  </tbody>\n",
       "</table>\n",
       "</div>"
      ],
      "text/plain": [
       "       Administrative  Administrative_Duration  Informational  \\\n",
       "count    12316.000000             12316.000000   12316.000000   \n",
       "mean         2.317798                80.906176       0.503979   \n",
       "std          3.322754               176.860432       1.270701   \n",
       "min          0.000000                -1.000000       0.000000   \n",
       "25%          0.000000                 0.000000       0.000000   \n",
       "50%          1.000000                 8.000000       0.000000   \n",
       "75%          4.000000                93.500000       0.000000   \n",
       "max         27.000000              3398.750000      24.000000   \n",
       "\n",
       "       Informational_Duration  ProductRelated  ProductRelated_Duration  \\\n",
       "count            12316.000000    12316.000000             12316.000000   \n",
       "mean                34.506387       31.763884              1196.037057   \n",
       "std                140.825479       44.490339              1914.372511   \n",
       "min                 -1.000000        0.000000                -1.000000   \n",
       "25%                  0.000000        7.000000               185.000000   \n",
       "50%                  0.000000       18.000000               599.766190   \n",
       "75%                  0.000000       38.000000              1466.479902   \n",
       "max               2549.375000      705.000000             63973.522230   \n",
       "\n",
       "        BounceRates     ExitRates    PageValues    SpecialDay  \\\n",
       "count  12316.000000  12316.000000  12330.000000  12330.000000   \n",
       "mean       0.022152      0.043003      5.889258      0.061427   \n",
       "std        0.048427      0.048527     18.568437      0.198917   \n",
       "min        0.000000      0.000000      0.000000      0.000000   \n",
       "25%        0.000000      0.014286      0.000000      0.000000   \n",
       "50%        0.003119      0.025124      0.000000      0.000000   \n",
       "75%        0.016684      0.050000      0.000000      0.000000   \n",
       "max        0.200000      0.200000    361.763742      1.000000   \n",
       "\n",
       "       OperatingSystems       Browser        Region   TrafficType  \n",
       "count      12330.000000  12330.000000  12330.000000  12330.000000  \n",
       "mean           2.124006      2.357097      3.147364      4.069586  \n",
       "std            0.911325      1.717277      2.401591      4.025169  \n",
       "min            1.000000      1.000000      1.000000      1.000000  \n",
       "25%            2.000000      2.000000      1.000000      2.000000  \n",
       "50%            2.000000      2.000000      3.000000      2.000000  \n",
       "75%            3.000000      2.000000      4.000000      4.000000  \n",
       "max            8.000000     13.000000      9.000000     20.000000  "
      ]
     },
     "execution_count": 6,
     "metadata": {},
     "output_type": "execute_result"
    }
   ],
   "source": [
    "df.describe()"
   ]
  },
  {
   "cell_type": "code",
   "execution_count": 7,
   "metadata": {},
   "outputs": [
    {
     "name": "stdout",
     "output_type": "stream",
     "text": [
      "Problematic Rows Count: 33\n"
     ]
    }
   ],
   "source": [
    "# Rows with negative duration\n",
    "print('Problematic Rows Count:',df[df['Informational_Duration'] < 0].count()[1])"
   ]
  },
  {
   "cell_type": "code",
   "execution_count": 7,
   "metadata": {},
   "outputs": [
    {
     "data": {
      "text/plain": [
       "<matplotlib.axes._subplots.AxesSubplot at 0x7f52b35ab750>"
      ]
     },
     "execution_count": 7,
     "metadata": {},
     "output_type": "execute_result"
    },
    {
     "data": {
      "image/png": "[encoded data removed]",
      "text/plain": [
       "<Figure size 1152x432 with 1 Axes>"
      ]
     },
     "metadata": {},
     "output_type": "display_data"
    }
   ],
   "source": [
    "plt.figure(figsize=(16,6))\n",
    "sns.countplot(y='Month',data=df)"
   ]
  },
  {
   "cell_type": "markdown",
   "metadata": {},
   "source": [
    "### Correlation Heatmap"
   ]
  },
  {
   "cell_type": "code",
   "execution_count": null,
   "metadata": {},
   "outputs": [],
   "source": [
    "sns.set(font_scale=1.25)\n",
    "fig, (axis1) = plt.subplots(1,1,figsize=(15,8))\n",
    "sns.heatmap(df.corr(),ax=axis1)\n",
    "axis1.set_title('Correlation Heatmap',)"
   ]
  },
  {
   "cell_type": "markdown",
   "metadata": {},
   "source": [
    "# Exploratory Analysis"
   ]
  },
  {
   "cell_type": "code",
   "execution_count": null,
   "metadata": {},
   "outputs": [],
   "source": [
    "plt.figure(figsize=(16,6))\n",
    "sns.countplot(y='Month',data=df)"
   ]
  },
  {
   "cell_type": "code",
   "execution_count": null,
   "metadata": {},
   "outputs": [],
   "source": [
    "sns.distplot(df['ExitRates'])"
   ]
  },
  {
   "cell_type": "code",
   "execution_count": null,
   "metadata": {},
   "outputs": [],
   "source": [
    "sns.distplot(df['BounceRates'])"
   ]
  },
  {
   "cell_type": "markdown",
   "metadata": {},
   "source": [
    "## Aggregate by Month"
   ]
  },
  {
   "cell_type": "code",
   "execution_count": null,
   "metadata": {},
   "outputs": [],
   "source": [
    "sum_monthly_data = df.groupby('Month', as_index=False).sum()\n",
    "avg_monthly_data = df.groupby('Month', as_index=False).mean()"
   ]
  },
  {
   "cell_type": "code",
   "execution_count": null,
   "metadata": {},
   "outputs": [],
   "source": [
    "avg_monthly_data"
   ]
  },
  {
   "cell_type": "code",
   "execution_count": null,
   "metadata": {},
   "outputs": [],
   "source": [
    "sns.barplot(x='Month',y='Administrative', data=avg_monthly_data)"
   ]
  },
  {
   "cell_type": "code",
   "execution_count": null,
   "metadata": {},
   "outputs": [],
   "source": [
    "fig, (axis1,axis2, axis3) = plt.subplots(1,3,figsize=(16,5))\n",
    "sns.barplot(x='Month', y='Administrative', data=avg_monthly_data,ax=axis1)\n",
    "sns.barplot(x='Month', y='Informational', data=avg_monthly_data,ax=axis2)\n",
    "sns.barplot(x='Month', y='ProductRelated', data=avg_monthly_data,ax=axis3)"
   ]
  },
  {
   "cell_type": "code",
   "execution_count": null,
   "metadata": {},
   "outputs": [],
   "source": [
    "avg_monthly_data"
   ]
  },
  {
   "cell_type": "code",
   "execution_count": null,
   "metadata": {},
   "outputs": [],
   "source": [
    "sns.barplot(x='Month', y='PageValues', data=avg_monthly_data)"
   ]
  },
  {
   "cell_type": "code",
   "execution_count": null,
   "metadata": {},
   "outputs": [],
   "source": [
    "fig, (axis1,axis2, axis3) = plt.subplots(1,3,figsize=(16,5))\n",
    "sns.countplot(x='Weekend',hue='Revenue', data=df, ax=axis1)\n",
    "sns.countplot(x='Region', data=df, ax=axis2)\n",
    "sns.countplot(x='OperatingSystems', data=df, ax=axis3)"
   ]
  },
  {
   "cell_type": "code",
   "execution_count": null,
   "metadata": {},
   "outputs": [],
   "source": [
    "df['SpecialDay'].value_counts()"
   ]
  },
  {
   "cell_type": "code",
   "execution_count": null,
   "metadata": {},
   "outputs": [],
   "source": [
    "sns.countplot(x='SpecialDay', data=df[df['SpecialDay'] != 0])"
   ]
  },
  {
   "cell_type": "code",
   "execution_count": null,
   "metadata": {},
   "outputs": [],
   "source": [
    "sns.countplot(x='TrafficType', data=df)"
   ]
  },
  {
   "cell_type": "markdown",
   "metadata": {},
   "source": [
    "## Aggregate by Weekend"
   ]
  },
  {
   "cell_type": "code",
   "execution_count": null,
   "metadata": {},
   "outputs": [],
   "source": [
    "avg_weekend_data = df.groupby('Weekend', as_index=False).mean()"
   ]
  },
  {
   "cell_type": "code",
   "execution_count": null,
   "metadata": {},
   "outputs": [],
   "source": [
    "sns.barplot(x='Weekend', y='PageValues', data=avg_weekend_data)"
   ]
  },
  {
   "cell_type": "code",
   "execution_count": null,
   "metadata": {},
   "outputs": [],
   "source": [
    "sns.barplot(x='Weekend', y='Informational_Duration', data=avg_weekend_data)"
   ]
  },
  {
   "cell_type": "markdown",
   "metadata": {},
   "source": [
    "## Cleaning Data"
   ]
  },
  {
   "cell_type": "code",
   "execution_count": null,
   "metadata": {},
   "outputs": [],
   "source": [
    "Try Oversampling / Undersampling"
   ]
  },
  {
   "cell_type": "markdown",
   "metadata": {},
   "source": [
    "https://www.kaggle.com/saurav9786/ensemble-techniques\n",
    "\n",
    "label_binarize - https://scikit-learn.org/stable/modules/generated/sklearn.preprocessing.label_binarize.html"
   ]
  },
  {
   "cell_type": "code",
   "execution_count": null,
   "metadata": {},
   "outputs": [],
   "source": [
    "# Take rows without null & negative value\n",
    "df = df[((df['Administrative_Duration'] >= 0) & (df['Informational_Duration'] >= 0) & (df['ProductRelated_Duration'] >= 0))]"
   ]
  },
  {
   "cell_type": "code",
   "execution_count": 26,
   "metadata": {},
   "outputs": [
    {
     "data": {
      "text/html": [
       "<div>\n",
       "<style scoped>\n",
       "    .dataframe tbody tr th:only-of-type {\n",
       "        vertical-align: middle;\n",
       "    }\n",
       "\n",
       "    .dataframe tbody tr th {\n",
       "        vertical-align: top;\n",
       "    }\n",
       "\n",
       "    .dataframe thead th {\n",
       "        text-align: right;\n",
       "    }\n",
       "</style>\n",
       "<table border=\"1\" class=\"dataframe\">\n",
       "  <thead>\n",
       "    <tr style=\"text-align: right;\">\n",
       "      <th></th>\n",
       "      <th>Administrative</th>\n",
       "      <th>Administrative_Duration</th>\n",
       "      <th>Informational</th>\n",
       "      <th>Informational_Duration</th>\n",
       "      <th>ProductRelated</th>\n",
       "      <th>ProductRelated_Duration</th>\n",
       "      <th>BounceRates</th>\n",
       "      <th>ExitRates</th>\n",
       "      <th>PageValues</th>\n",
       "      <th>SpecialDay</th>\n",
       "      <th>Month</th>\n",
       "      <th>OperatingSystems</th>\n",
       "      <th>Browser</th>\n",
       "      <th>Region</th>\n",
       "      <th>TrafficType</th>\n",
       "      <th>VisitorType</th>\n",
       "      <th>Weekend</th>\n",
       "      <th>Revenue</th>\n",
       "    </tr>\n",
       "  </thead>\n",
       "  <tbody>\n",
       "    <tr>\n",
       "      <th>12325</th>\n",
       "      <td>3.0</td>\n",
       "      <td>145.0</td>\n",
       "      <td>0.0</td>\n",
       "      <td>0.0</td>\n",
       "      <td>53.0</td>\n",
       "      <td>1783.791667</td>\n",
       "      <td>0.007143</td>\n",
       "      <td>0.029031</td>\n",
       "      <td>12.241717</td>\n",
       "      <td>0.0</td>\n",
       "      <td>Dec</td>\n",
       "      <td>4</td>\n",
       "      <td>6</td>\n",
       "      <td>1</td>\n",
       "      <td>1</td>\n",
       "      <td>Returning_Visitor</td>\n",
       "      <td>True</td>\n",
       "      <td>False</td>\n",
       "    </tr>\n",
       "    <tr>\n",
       "      <th>12326</th>\n",
       "      <td>0.0</td>\n",
       "      <td>0.0</td>\n",
       "      <td>0.0</td>\n",
       "      <td>0.0</td>\n",
       "      <td>5.0</td>\n",
       "      <td>465.750000</td>\n",
       "      <td>0.000000</td>\n",
       "      <td>0.021333</td>\n",
       "      <td>0.000000</td>\n",
       "      <td>0.0</td>\n",
       "      <td>Nov</td>\n",
       "      <td>3</td>\n",
       "      <td>2</td>\n",
       "      <td>1</td>\n",
       "      <td>8</td>\n",
       "      <td>Returning_Visitor</td>\n",
       "      <td>True</td>\n",
       "      <td>False</td>\n",
       "    </tr>\n",
       "    <tr>\n",
       "      <th>12327</th>\n",
       "      <td>0.0</td>\n",
       "      <td>0.0</td>\n",
       "      <td>0.0</td>\n",
       "      <td>0.0</td>\n",
       "      <td>6.0</td>\n",
       "      <td>184.250000</td>\n",
       "      <td>0.083333</td>\n",
       "      <td>0.086667</td>\n",
       "      <td>0.000000</td>\n",
       "      <td>0.0</td>\n",
       "      <td>Nov</td>\n",
       "      <td>3</td>\n",
       "      <td>2</td>\n",
       "      <td>1</td>\n",
       "      <td>13</td>\n",
       "      <td>Returning_Visitor</td>\n",
       "      <td>True</td>\n",
       "      <td>False</td>\n",
       "    </tr>\n",
       "    <tr>\n",
       "      <th>12328</th>\n",
       "      <td>4.0</td>\n",
       "      <td>75.0</td>\n",
       "      <td>0.0</td>\n",
       "      <td>0.0</td>\n",
       "      <td>15.0</td>\n",
       "      <td>346.000000</td>\n",
       "      <td>0.000000</td>\n",
       "      <td>0.021053</td>\n",
       "      <td>0.000000</td>\n",
       "      <td>0.0</td>\n",
       "      <td>Nov</td>\n",
       "      <td>2</td>\n",
       "      <td>2</td>\n",
       "      <td>3</td>\n",
       "      <td>11</td>\n",
       "      <td>Returning_Visitor</td>\n",
       "      <td>False</td>\n",
       "      <td>False</td>\n",
       "    </tr>\n",
       "    <tr>\n",
       "      <th>12329</th>\n",
       "      <td>0.0</td>\n",
       "      <td>0.0</td>\n",
       "      <td>0.0</td>\n",
       "      <td>0.0</td>\n",
       "      <td>3.0</td>\n",
       "      <td>21.250000</td>\n",
       "      <td>0.000000</td>\n",
       "      <td>0.066667</td>\n",
       "      <td>0.000000</td>\n",
       "      <td>0.0</td>\n",
       "      <td>Nov</td>\n",
       "      <td>3</td>\n",
       "      <td>2</td>\n",
       "      <td>1</td>\n",
       "      <td>2</td>\n",
       "      <td>New_Visitor</td>\n",
       "      <td>True</td>\n",
       "      <td>False</td>\n",
       "    </tr>\n",
       "  </tbody>\n",
       "</table>\n",
       "</div>"
      ],
      "text/plain": [
       "       Administrative  Administrative_Duration  Informational  \\\n",
       "12325             3.0                    145.0            0.0   \n",
       "12326             0.0                      0.0            0.0   \n",
       "12327             0.0                      0.0            0.0   \n",
       "12328             4.0                     75.0            0.0   \n",
       "12329             0.0                      0.0            0.0   \n",
       "\n",
       "       Informational_Duration  ProductRelated  ProductRelated_Duration  \\\n",
       "12325                     0.0            53.0              1783.791667   \n",
       "12326                     0.0             5.0               465.750000   \n",
       "12327                     0.0             6.0               184.250000   \n",
       "12328                     0.0            15.0               346.000000   \n",
       "12329                     0.0             3.0                21.250000   \n",
       "\n",
       "       BounceRates  ExitRates  PageValues  SpecialDay Month  OperatingSystems  \\\n",
       "12325     0.007143   0.029031   12.241717         0.0   Dec                 4   \n",
       "12326     0.000000   0.021333    0.000000         0.0   Nov                 3   \n",
       "12327     0.083333   0.086667    0.000000         0.0   Nov                 3   \n",
       "12328     0.000000   0.021053    0.000000         0.0   Nov                 2   \n",
       "12329     0.000000   0.066667    0.000000         0.0   Nov                 3   \n",
       "\n",
       "       Browser  Region  TrafficType        VisitorType  Weekend  Revenue  \n",
       "12325        6       1            1  Returning_Visitor     True    False  \n",
       "12326        2       1            8  Returning_Visitor     True    False  \n",
       "12327        2       1           13  Returning_Visitor     True    False  \n",
       "12328        2       3           11  Returning_Visitor    False    False  \n",
       "12329        2       1            2        New_Visitor     True    False  "
      ]
     },
     "execution_count": 26,
     "metadata": {},
     "output_type": "execute_result"
    }
   ],
   "source": [
    "df.tail()"
   ]
  },
  {
   "cell_type": "code",
   "execution_count": 27,
   "metadata": {},
   "outputs": [
    {
     "data": {
      "text/plain": [
       "array(['Returning_Visitor', 'New_Visitor', 'Other'], dtype=object)"
      ]
     },
     "execution_count": 27,
     "metadata": {},
     "output_type": "execute_result"
    }
   ],
   "source": [
    "df.VisitorType.unique()"
   ]
  },
  {
   "cell_type": "code",
   "execution_count": 28,
   "metadata": {},
   "outputs": [
    {
     "data": {
      "text/plain": [
       "array(['Feb', 'Mar', 'May', 'Oct', 'June', 'Jul', 'Aug', 'Nov', 'Sep',\n",
       "       'Dec'], dtype=object)"
      ]
     },
     "execution_count": 28,
     "metadata": {},
     "output_type": "execute_result"
    }
   ],
   "source": [
    "df.Month.unique()"
   ]
  },
  {
   "cell_type": "code",
   "execution_count": 29,
   "metadata": {},
   "outputs": [
    {
     "data": {
      "text/html": [
       "<div>\n",
       "<style scoped>\n",
       "    .dataframe tbody tr th:only-of-type {\n",
       "        vertical-align: middle;\n",
       "    }\n",
       "\n",
       "    .dataframe tbody tr th {\n",
       "        vertical-align: top;\n",
       "    }\n",
       "\n",
       "    .dataframe thead th {\n",
       "        text-align: right;\n",
       "    }\n",
       "</style>\n",
       "<table border=\"1\" class=\"dataframe\">\n",
       "  <thead>\n",
       "    <tr style=\"text-align: right;\">\n",
       "      <th></th>\n",
       "      <th>Administrative</th>\n",
       "      <th>Administrative_Duration</th>\n",
       "      <th>Informational</th>\n",
       "      <th>Informational_Duration</th>\n",
       "      <th>ProductRelated</th>\n",
       "      <th>ProductRelated_Duration</th>\n",
       "      <th>BounceRates</th>\n",
       "      <th>ExitRates</th>\n",
       "      <th>PageValues</th>\n",
       "      <th>SpecialDay</th>\n",
       "      <th>Month</th>\n",
       "      <th>OperatingSystems</th>\n",
       "      <th>Browser</th>\n",
       "      <th>Region</th>\n",
       "      <th>TrafficType</th>\n",
       "      <th>Revenue</th>\n",
       "      <th>Weekend_True</th>\n",
       "      <th>VisitorType_Other</th>\n",
       "      <th>VisitorType_Returning_Visitor</th>\n",
       "    </tr>\n",
       "  </thead>\n",
       "  <tbody>\n",
       "    <tr>\n",
       "      <th>0</th>\n",
       "      <td>0.0</td>\n",
       "      <td>0.0</td>\n",
       "      <td>0.0</td>\n",
       "      <td>0.0</td>\n",
       "      <td>1.0</td>\n",
       "      <td>0.000000</td>\n",
       "      <td>0.200000</td>\n",
       "      <td>0.200000</td>\n",
       "      <td>0.000000</td>\n",
       "      <td>0.0</td>\n",
       "      <td>Feb</td>\n",
       "      <td>1</td>\n",
       "      <td>1</td>\n",
       "      <td>1</td>\n",
       "      <td>1</td>\n",
       "      <td>False</td>\n",
       "      <td>0</td>\n",
       "      <td>0</td>\n",
       "      <td>1</td>\n",
       "    </tr>\n",
       "    <tr>\n",
       "      <th>1</th>\n",
       "      <td>0.0</td>\n",
       "      <td>0.0</td>\n",
       "      <td>0.0</td>\n",
       "      <td>0.0</td>\n",
       "      <td>2.0</td>\n",
       "      <td>64.000000</td>\n",
       "      <td>0.000000</td>\n",
       "      <td>0.100000</td>\n",
       "      <td>0.000000</td>\n",
       "      <td>0.0</td>\n",
       "      <td>Feb</td>\n",
       "      <td>2</td>\n",
       "      <td>2</td>\n",
       "      <td>1</td>\n",
       "      <td>2</td>\n",
       "      <td>False</td>\n",
       "      <td>0</td>\n",
       "      <td>0</td>\n",
       "      <td>1</td>\n",
       "    </tr>\n",
       "    <tr>\n",
       "      <th>3</th>\n",
       "      <td>0.0</td>\n",
       "      <td>0.0</td>\n",
       "      <td>0.0</td>\n",
       "      <td>0.0</td>\n",
       "      <td>2.0</td>\n",
       "      <td>2.666667</td>\n",
       "      <td>0.050000</td>\n",
       "      <td>0.140000</td>\n",
       "      <td>0.000000</td>\n",
       "      <td>0.0</td>\n",
       "      <td>Feb</td>\n",
       "      <td>3</td>\n",
       "      <td>2</td>\n",
       "      <td>2</td>\n",
       "      <td>4</td>\n",
       "      <td>False</td>\n",
       "      <td>0</td>\n",
       "      <td>0</td>\n",
       "      <td>1</td>\n",
       "    </tr>\n",
       "    <tr>\n",
       "      <th>4</th>\n",
       "      <td>0.0</td>\n",
       "      <td>0.0</td>\n",
       "      <td>0.0</td>\n",
       "      <td>0.0</td>\n",
       "      <td>10.0</td>\n",
       "      <td>627.500000</td>\n",
       "      <td>0.020000</td>\n",
       "      <td>0.050000</td>\n",
       "      <td>0.000000</td>\n",
       "      <td>0.0</td>\n",
       "      <td>Feb</td>\n",
       "      <td>3</td>\n",
       "      <td>3</td>\n",
       "      <td>1</td>\n",
       "      <td>4</td>\n",
       "      <td>False</td>\n",
       "      <td>1</td>\n",
       "      <td>0</td>\n",
       "      <td>1</td>\n",
       "    </tr>\n",
       "    <tr>\n",
       "      <th>5</th>\n",
       "      <td>0.0</td>\n",
       "      <td>0.0</td>\n",
       "      <td>0.0</td>\n",
       "      <td>0.0</td>\n",
       "      <td>19.0</td>\n",
       "      <td>154.216667</td>\n",
       "      <td>0.015789</td>\n",
       "      <td>0.024561</td>\n",
       "      <td>0.000000</td>\n",
       "      <td>0.0</td>\n",
       "      <td>Feb</td>\n",
       "      <td>2</td>\n",
       "      <td>2</td>\n",
       "      <td>1</td>\n",
       "      <td>3</td>\n",
       "      <td>False</td>\n",
       "      <td>0</td>\n",
       "      <td>0</td>\n",
       "      <td>1</td>\n",
       "    </tr>\n",
       "    <tr>\n",
       "      <th>...</th>\n",
       "      <td>...</td>\n",
       "      <td>...</td>\n",
       "      <td>...</td>\n",
       "      <td>...</td>\n",
       "      <td>...</td>\n",
       "      <td>...</td>\n",
       "      <td>...</td>\n",
       "      <td>...</td>\n",
       "      <td>...</td>\n",
       "      <td>...</td>\n",
       "      <td>...</td>\n",
       "      <td>...</td>\n",
       "      <td>...</td>\n",
       "      <td>...</td>\n",
       "      <td>...</td>\n",
       "      <td>...</td>\n",
       "      <td>...</td>\n",
       "      <td>...</td>\n",
       "      <td>...</td>\n",
       "    </tr>\n",
       "    <tr>\n",
       "      <th>12325</th>\n",
       "      <td>3.0</td>\n",
       "      <td>145.0</td>\n",
       "      <td>0.0</td>\n",
       "      <td>0.0</td>\n",
       "      <td>53.0</td>\n",
       "      <td>1783.791667</td>\n",
       "      <td>0.007143</td>\n",
       "      <td>0.029031</td>\n",
       "      <td>12.241717</td>\n",
       "      <td>0.0</td>\n",
       "      <td>Dec</td>\n",
       "      <td>4</td>\n",
       "      <td>6</td>\n",
       "      <td>1</td>\n",
       "      <td>1</td>\n",
       "      <td>False</td>\n",
       "      <td>1</td>\n",
       "      <td>0</td>\n",
       "      <td>1</td>\n",
       "    </tr>\n",
       "    <tr>\n",
       "      <th>12326</th>\n",
       "      <td>0.0</td>\n",
       "      <td>0.0</td>\n",
       "      <td>0.0</td>\n",
       "      <td>0.0</td>\n",
       "      <td>5.0</td>\n",
       "      <td>465.750000</td>\n",
       "      <td>0.000000</td>\n",
       "      <td>0.021333</td>\n",
       "      <td>0.000000</td>\n",
       "      <td>0.0</td>\n",
       "      <td>Nov</td>\n",
       "      <td>3</td>\n",
       "      <td>2</td>\n",
       "      <td>1</td>\n",
       "      <td>8</td>\n",
       "      <td>False</td>\n",
       "      <td>1</td>\n",
       "      <td>0</td>\n",
       "      <td>1</td>\n",
       "    </tr>\n",
       "    <tr>\n",
       "      <th>12327</th>\n",
       "      <td>0.0</td>\n",
       "      <td>0.0</td>\n",
       "      <td>0.0</td>\n",
       "      <td>0.0</td>\n",
       "      <td>6.0</td>\n",
       "      <td>184.250000</td>\n",
       "      <td>0.083333</td>\n",
       "      <td>0.086667</td>\n",
       "      <td>0.000000</td>\n",
       "      <td>0.0</td>\n",
       "      <td>Nov</td>\n",
       "      <td>3</td>\n",
       "      <td>2</td>\n",
       "      <td>1</td>\n",
       "      <td>13</td>\n",
       "      <td>False</td>\n",
       "      <td>1</td>\n",
       "      <td>0</td>\n",
       "      <td>1</td>\n",
       "    </tr>\n",
       "    <tr>\n",
       "      <th>12328</th>\n",
       "      <td>4.0</td>\n",
       "      <td>75.0</td>\n",
       "      <td>0.0</td>\n",
       "      <td>0.0</td>\n",
       "      <td>15.0</td>\n",
       "      <td>346.000000</td>\n",
       "      <td>0.000000</td>\n",
       "      <td>0.021053</td>\n",
       "      <td>0.000000</td>\n",
       "      <td>0.0</td>\n",
       "      <td>Nov</td>\n",
       "      <td>2</td>\n",
       "      <td>2</td>\n",
       "      <td>3</td>\n",
       "      <td>11</td>\n",
       "      <td>False</td>\n",
       "      <td>0</td>\n",
       "      <td>0</td>\n",
       "      <td>1</td>\n",
       "    </tr>\n",
       "    <tr>\n",
       "      <th>12329</th>\n",
       "      <td>0.0</td>\n",
       "      <td>0.0</td>\n",
       "      <td>0.0</td>\n",
       "      <td>0.0</td>\n",
       "      <td>3.0</td>\n",
       "      <td>21.250000</td>\n",
       "      <td>0.000000</td>\n",
       "      <td>0.066667</td>\n",
       "      <td>0.000000</td>\n",
       "      <td>0.0</td>\n",
       "      <td>Nov</td>\n",
       "      <td>3</td>\n",
       "      <td>2</td>\n",
       "      <td>1</td>\n",
       "      <td>2</td>\n",
       "      <td>False</td>\n",
       "      <td>1</td>\n",
       "      <td>0</td>\n",
       "      <td>0</td>\n",
       "    </tr>\n",
       "  </tbody>\n",
       "</table>\n",
       "<p>12283 rows × 19 columns</p>\n",
       "</div>"
      ],
      "text/plain": [
       "       Administrative  Administrative_Duration  Informational  \\\n",
       "0                 0.0                      0.0            0.0   \n",
       "1                 0.0                      0.0            0.0   \n",
       "3                 0.0                      0.0            0.0   \n",
       "4                 0.0                      0.0            0.0   \n",
       "5                 0.0                      0.0            0.0   \n",
       "...               ...                      ...            ...   \n",
       "12325             3.0                    145.0            0.0   \n",
       "12326             0.0                      0.0            0.0   \n",
       "12327             0.0                      0.0            0.0   \n",
       "12328             4.0                     75.0            0.0   \n",
       "12329             0.0                      0.0            0.0   \n",
       "\n",
       "       Informational_Duration  ProductRelated  ProductRelated_Duration  \\\n",
       "0                         0.0             1.0                 0.000000   \n",
       "1                         0.0             2.0                64.000000   \n",
       "3                         0.0             2.0                 2.666667   \n",
       "4                         0.0            10.0               627.500000   \n",
       "5                         0.0            19.0               154.216667   \n",
       "...                       ...             ...                      ...   \n",
       "12325                     0.0            53.0              1783.791667   \n",
       "12326                     0.0             5.0               465.750000   \n",
       "12327                     0.0             6.0               184.250000   \n",
       "12328                     0.0            15.0               346.000000   \n",
       "12329                     0.0             3.0                21.250000   \n",
       "\n",
       "       BounceRates  ExitRates  PageValues  SpecialDay Month  OperatingSystems  \\\n",
       "0         0.200000   0.200000    0.000000         0.0   Feb                 1   \n",
       "1         0.000000   0.100000    0.000000         0.0   Feb                 2   \n",
       "3         0.050000   0.140000    0.000000         0.0   Feb                 3   \n",
       "4         0.020000   0.050000    0.000000         0.0   Feb                 3   \n",
       "5         0.015789   0.024561    0.000000         0.0   Feb                 2   \n",
       "...            ...        ...         ...         ...   ...               ...   \n",
       "12325     0.007143   0.029031   12.241717         0.0   Dec                 4   \n",
       "12326     0.000000   0.021333    0.000000         0.0   Nov                 3   \n",
       "12327     0.083333   0.086667    0.000000         0.0   Nov                 3   \n",
       "12328     0.000000   0.021053    0.000000         0.0   Nov                 2   \n",
       "12329     0.000000   0.066667    0.000000         0.0   Nov                 3   \n",
       "\n",
       "       Browser  Region  TrafficType  Revenue  Weekend_True  VisitorType_Other  \\\n",
       "0            1       1            1    False             0                  0   \n",
       "1            2       1            2    False             0                  0   \n",
       "3            2       2            4    False             0                  0   \n",
       "4            3       1            4    False             1                  0   \n",
       "5            2       1            3    False             0                  0   \n",
       "...        ...     ...          ...      ...           ...                ...   \n",
       "12325        6       1            1    False             1                  0   \n",
       "12326        2       1            8    False             1                  0   \n",
       "12327        2       1           13    False             1                  0   \n",
       "12328        2       3           11    False             0                  0   \n",
       "12329        2       1            2    False             1                  0   \n",
       "\n",
       "       VisitorType_Returning_Visitor  \n",
       "0                                  1  \n",
       "1                                  1  \n",
       "3                                  1  \n",
       "4                                  1  \n",
       "5                                  1  \n",
       "...                              ...  \n",
       "12325                              1  \n",
       "12326                              1  \n",
       "12327                              1  \n",
       "12328                              1  \n",
       "12329                              0  \n",
       "\n",
       "[12283 rows x 19 columns]"
      ]
     },
     "execution_count": 29,
     "metadata": {},
     "output_type": "execute_result"
    }
   ],
   "source": [
    "pd.get_dummies(df, columns=['Weekend','VisitorType'], drop_first=True)"
   ]
  },
  {
   "cell_type": "code",
   "execution_count": 30,
   "metadata": {},
   "outputs": [
    {
     "data": {
      "text/html": [
       "<div>\n",
       "<style scoped>\n",
       "    .dataframe tbody tr th:only-of-type {\n",
       "        vertical-align: middle;\n",
       "    }\n",
       "\n",
       "    .dataframe tbody tr th {\n",
       "        vertical-align: top;\n",
       "    }\n",
       "\n",
       "    .dataframe thead th {\n",
       "        text-align: right;\n",
       "    }\n",
       "</style>\n",
       "<table border=\"1\" class=\"dataframe\">\n",
       "  <thead>\n",
       "    <tr style=\"text-align: right;\">\n",
       "      <th></th>\n",
       "      <th>Administrative</th>\n",
       "      <th>Administrative_Duration</th>\n",
       "      <th>Informational</th>\n",
       "      <th>Informational_Duration</th>\n",
       "      <th>ProductRelated</th>\n",
       "      <th>ProductRelated_Duration</th>\n",
       "      <th>BounceRates</th>\n",
       "      <th>ExitRates</th>\n",
       "      <th>PageValues</th>\n",
       "      <th>SpecialDay</th>\n",
       "      <th>Month</th>\n",
       "      <th>OperatingSystems</th>\n",
       "      <th>Browser</th>\n",
       "      <th>Region</th>\n",
       "      <th>TrafficType</th>\n",
       "      <th>VisitorType</th>\n",
       "      <th>Weekend</th>\n",
       "      <th>Revenue</th>\n",
       "    </tr>\n",
       "  </thead>\n",
       "  <tbody>\n",
       "    <tr>\n",
       "      <th>12325</th>\n",
       "      <td>3.0</td>\n",
       "      <td>145.0</td>\n",
       "      <td>0.0</td>\n",
       "      <td>0.0</td>\n",
       "      <td>53.0</td>\n",
       "      <td>1783.791667</td>\n",
       "      <td>0.007143</td>\n",
       "      <td>0.029031</td>\n",
       "      <td>12.241717</td>\n",
       "      <td>0.0</td>\n",
       "      <td>Dec</td>\n",
       "      <td>4</td>\n",
       "      <td>6</td>\n",
       "      <td>1</td>\n",
       "      <td>1</td>\n",
       "      <td>Returning_Visitor</td>\n",
       "      <td>True</td>\n",
       "      <td>False</td>\n",
       "    </tr>\n",
       "    <tr>\n",
       "      <th>12326</th>\n",
       "      <td>0.0</td>\n",
       "      <td>0.0</td>\n",
       "      <td>0.0</td>\n",
       "      <td>0.0</td>\n",
       "      <td>5.0</td>\n",
       "      <td>465.750000</td>\n",
       "      <td>0.000000</td>\n",
       "      <td>0.021333</td>\n",
       "      <td>0.000000</td>\n",
       "      <td>0.0</td>\n",
       "      <td>Nov</td>\n",
       "      <td>3</td>\n",
       "      <td>2</td>\n",
       "      <td>1</td>\n",
       "      <td>8</td>\n",
       "      <td>Returning_Visitor</td>\n",
       "      <td>True</td>\n",
       "      <td>False</td>\n",
       "    </tr>\n",
       "    <tr>\n",
       "      <th>12327</th>\n",
       "      <td>0.0</td>\n",
       "      <td>0.0</td>\n",
       "      <td>0.0</td>\n",
       "      <td>0.0</td>\n",
       "      <td>6.0</td>\n",
       "      <td>184.250000</td>\n",
       "      <td>0.083333</td>\n",
       "      <td>0.086667</td>\n",
       "      <td>0.000000</td>\n",
       "      <td>0.0</td>\n",
       "      <td>Nov</td>\n",
       "      <td>3</td>\n",
       "      <td>2</td>\n",
       "      <td>1</td>\n",
       "      <td>13</td>\n",
       "      <td>Returning_Visitor</td>\n",
       "      <td>True</td>\n",
       "      <td>False</td>\n",
       "    </tr>\n",
       "    <tr>\n",
       "      <th>12328</th>\n",
       "      <td>4.0</td>\n",
       "      <td>75.0</td>\n",
       "      <td>0.0</td>\n",
       "      <td>0.0</td>\n",
       "      <td>15.0</td>\n",
       "      <td>346.000000</td>\n",
       "      <td>0.000000</td>\n",
       "      <td>0.021053</td>\n",
       "      <td>0.000000</td>\n",
       "      <td>0.0</td>\n",
       "      <td>Nov</td>\n",
       "      <td>2</td>\n",
       "      <td>2</td>\n",
       "      <td>3</td>\n",
       "      <td>11</td>\n",
       "      <td>Returning_Visitor</td>\n",
       "      <td>False</td>\n",
       "      <td>False</td>\n",
       "    </tr>\n",
       "    <tr>\n",
       "      <th>12329</th>\n",
       "      <td>0.0</td>\n",
       "      <td>0.0</td>\n",
       "      <td>0.0</td>\n",
       "      <td>0.0</td>\n",
       "      <td>3.0</td>\n",
       "      <td>21.250000</td>\n",
       "      <td>0.000000</td>\n",
       "      <td>0.066667</td>\n",
       "      <td>0.000000</td>\n",
       "      <td>0.0</td>\n",
       "      <td>Nov</td>\n",
       "      <td>3</td>\n",
       "      <td>2</td>\n",
       "      <td>1</td>\n",
       "      <td>2</td>\n",
       "      <td>New_Visitor</td>\n",
       "      <td>True</td>\n",
       "      <td>False</td>\n",
       "    </tr>\n",
       "  </tbody>\n",
       "</table>\n",
       "</div>"
      ],
      "text/plain": [
       "       Administrative  Administrative_Duration  Informational  \\\n",
       "12325             3.0                    145.0            0.0   \n",
       "12326             0.0                      0.0            0.0   \n",
       "12327             0.0                      0.0            0.0   \n",
       "12328             4.0                     75.0            0.0   \n",
       "12329             0.0                      0.0            0.0   \n",
       "\n",
       "       Informational_Duration  ProductRelated  ProductRelated_Duration  \\\n",
       "12325                     0.0            53.0              1783.791667   \n",
       "12326                     0.0             5.0               465.750000   \n",
       "12327                     0.0             6.0               184.250000   \n",
       "12328                     0.0            15.0               346.000000   \n",
       "12329                     0.0             3.0                21.250000   \n",
       "\n",
       "       BounceRates  ExitRates  PageValues  SpecialDay Month  OperatingSystems  \\\n",
       "12325     0.007143   0.029031   12.241717         0.0   Dec                 4   \n",
       "12326     0.000000   0.021333    0.000000         0.0   Nov                 3   \n",
       "12327     0.083333   0.086667    0.000000         0.0   Nov                 3   \n",
       "12328     0.000000   0.021053    0.000000         0.0   Nov                 2   \n",
       "12329     0.000000   0.066667    0.000000         0.0   Nov                 3   \n",
       "\n",
       "       Browser  Region  TrafficType        VisitorType  Weekend  Revenue  \n",
       "12325        6       1            1  Returning_Visitor     True    False  \n",
       "12326        2       1            8  Returning_Visitor     True    False  \n",
       "12327        2       1           13  Returning_Visitor     True    False  \n",
       "12328        2       3           11  Returning_Visitor    False    False  \n",
       "12329        2       1            2        New_Visitor     True    False  "
      ]
     },
     "execution_count": 30,
     "metadata": {},
     "output_type": "execute_result"
    }
   ],
   "source": [
    "df.tail()"
   ]
  },
  {
   "cell_type": "code",
   "execution_count": 31,
   "metadata": {},
   "outputs": [
    {
     "data": {
      "text/plain": [
       "May     3357\n",
       "Nov     2995\n",
       "Mar     1884\n",
       "Dec     1727\n",
       "Oct      549\n",
       "Sep      448\n",
       "Aug      433\n",
       "Jul      431\n",
       "June     288\n",
       "Feb      171\n",
       "Name: Month, dtype: int64"
      ]
     },
     "execution_count": 31,
     "metadata": {},
     "output_type": "execute_result"
    }
   ],
   "source": [
    "df['Month'].value_counts()"
   ]
  },
  {
   "cell_type": "code",
   "execution_count": 32,
   "metadata": {},
   "outputs": [],
   "source": [
    "df['Month']= df['Month'].astype('category').cat.codes\n",
    "df['Revenue'] = df['Revenue'].astype('category').cat.codes"
   ]
  },
  {
   "cell_type": "code",
   "execution_count": 33,
   "metadata": {},
   "outputs": [],
   "source": [
    "df=pd.get_dummies(df, columns=['Weekend','VisitorType','OperatingSystems','Browser','Region'], drop_first=True)"
   ]
  },
  {
   "cell_type": "code",
   "execution_count": 131,
   "metadata": {},
   "outputs": [],
   "source": [
    "from sklearn.model_selection import train_test_split\n",
    "\n",
    "X = df.drop(labels=['Revenue'], axis=1)\n",
    "y = df['Revenue']\n",
    "\n",
    "X_train, X_test, y_train, y_test = train_test_split(X, y, test_size=0.3, random_state=3)"
   ]
  },
  {
   "cell_type": "code",
   "execution_count": 132,
   "metadata": {},
   "outputs": [
    {
     "data": {
      "text/html": [
       "<div>\n",
       "<style scoped>\n",
       "    .dataframe tbody tr th:only-of-type {\n",
       "        vertical-align: middle;\n",
       "    }\n",
       "\n",
       "    .dataframe tbody tr th {\n",
       "        vertical-align: top;\n",
       "    }\n",
       "\n",
       "    .dataframe thead th {\n",
       "        text-align: right;\n",
       "    }\n",
       "</style>\n",
       "<table border=\"1\" class=\"dataframe\">\n",
       "  <thead>\n",
       "    <tr style=\"text-align: right;\">\n",
       "      <th></th>\n",
       "      <th>Administrative</th>\n",
       "      <th>Administrative_Duration</th>\n",
       "      <th>Informational</th>\n",
       "      <th>Informational_Duration</th>\n",
       "      <th>ProductRelated</th>\n",
       "      <th>ProductRelated_Duration</th>\n",
       "      <th>BounceRates</th>\n",
       "      <th>ExitRates</th>\n",
       "      <th>PageValues</th>\n",
       "      <th>SpecialDay</th>\n",
       "      <th>...</th>\n",
       "      <th>Browser_12</th>\n",
       "      <th>Browser_13</th>\n",
       "      <th>Region_2</th>\n",
       "      <th>Region_3</th>\n",
       "      <th>Region_4</th>\n",
       "      <th>Region_5</th>\n",
       "      <th>Region_6</th>\n",
       "      <th>Region_7</th>\n",
       "      <th>Region_8</th>\n",
       "      <th>Region_9</th>\n",
       "    </tr>\n",
       "  </thead>\n",
       "  <tbody>\n",
       "    <tr>\n",
       "      <th>0</th>\n",
       "      <td>0.0</td>\n",
       "      <td>0.0</td>\n",
       "      <td>0.0</td>\n",
       "      <td>0.0</td>\n",
       "      <td>1.0</td>\n",
       "      <td>0.000000</td>\n",
       "      <td>0.200000</td>\n",
       "      <td>0.200000</td>\n",
       "      <td>0.000000</td>\n",
       "      <td>0.0</td>\n",
       "      <td>...</td>\n",
       "      <td>0</td>\n",
       "      <td>0</td>\n",
       "      <td>0</td>\n",
       "      <td>0</td>\n",
       "      <td>0</td>\n",
       "      <td>0</td>\n",
       "      <td>0</td>\n",
       "      <td>0</td>\n",
       "      <td>0</td>\n",
       "      <td>0</td>\n",
       "    </tr>\n",
       "    <tr>\n",
       "      <th>1</th>\n",
       "      <td>0.0</td>\n",
       "      <td>0.0</td>\n",
       "      <td>0.0</td>\n",
       "      <td>0.0</td>\n",
       "      <td>2.0</td>\n",
       "      <td>64.000000</td>\n",
       "      <td>0.000000</td>\n",
       "      <td>0.100000</td>\n",
       "      <td>0.000000</td>\n",
       "      <td>0.0</td>\n",
       "      <td>...</td>\n",
       "      <td>0</td>\n",
       "      <td>0</td>\n",
       "      <td>0</td>\n",
       "      <td>0</td>\n",
       "      <td>0</td>\n",
       "      <td>0</td>\n",
       "      <td>0</td>\n",
       "      <td>0</td>\n",
       "      <td>0</td>\n",
       "      <td>0</td>\n",
       "    </tr>\n",
       "    <tr>\n",
       "      <th>3</th>\n",
       "      <td>0.0</td>\n",
       "      <td>0.0</td>\n",
       "      <td>0.0</td>\n",
       "      <td>0.0</td>\n",
       "      <td>2.0</td>\n",
       "      <td>2.666667</td>\n",
       "      <td>0.050000</td>\n",
       "      <td>0.140000</td>\n",
       "      <td>0.000000</td>\n",
       "      <td>0.0</td>\n",
       "      <td>...</td>\n",
       "      <td>0</td>\n",
       "      <td>0</td>\n",
       "      <td>1</td>\n",
       "      <td>0</td>\n",
       "      <td>0</td>\n",
       "      <td>0</td>\n",
       "      <td>0</td>\n",
       "      <td>0</td>\n",
       "      <td>0</td>\n",
       "      <td>0</td>\n",
       "    </tr>\n",
       "    <tr>\n",
       "      <th>4</th>\n",
       "      <td>0.0</td>\n",
       "      <td>0.0</td>\n",
       "      <td>0.0</td>\n",
       "      <td>0.0</td>\n",
       "      <td>10.0</td>\n",
       "      <td>627.500000</td>\n",
       "      <td>0.020000</td>\n",
       "      <td>0.050000</td>\n",
       "      <td>0.000000</td>\n",
       "      <td>0.0</td>\n",
       "      <td>...</td>\n",
       "      <td>0</td>\n",
       "      <td>0</td>\n",
       "      <td>0</td>\n",
       "      <td>0</td>\n",
       "      <td>0</td>\n",
       "      <td>0</td>\n",
       "      <td>0</td>\n",
       "      <td>0</td>\n",
       "      <td>0</td>\n",
       "      <td>0</td>\n",
       "    </tr>\n",
       "    <tr>\n",
       "      <th>5</th>\n",
       "      <td>0.0</td>\n",
       "      <td>0.0</td>\n",
       "      <td>0.0</td>\n",
       "      <td>0.0</td>\n",
       "      <td>19.0</td>\n",
       "      <td>154.216667</td>\n",
       "      <td>0.015789</td>\n",
       "      <td>0.024561</td>\n",
       "      <td>0.000000</td>\n",
       "      <td>0.0</td>\n",
       "      <td>...</td>\n",
       "      <td>0</td>\n",
       "      <td>0</td>\n",
       "      <td>0</td>\n",
       "      <td>0</td>\n",
       "      <td>0</td>\n",
       "      <td>0</td>\n",
       "      <td>0</td>\n",
       "      <td>0</td>\n",
       "      <td>0</td>\n",
       "      <td>0</td>\n",
       "    </tr>\n",
       "    <tr>\n",
       "      <th>...</th>\n",
       "      <td>...</td>\n",
       "      <td>...</td>\n",
       "      <td>...</td>\n",
       "      <td>...</td>\n",
       "      <td>...</td>\n",
       "      <td>...</td>\n",
       "      <td>...</td>\n",
       "      <td>...</td>\n",
       "      <td>...</td>\n",
       "      <td>...</td>\n",
       "      <td>...</td>\n",
       "      <td>...</td>\n",
       "      <td>...</td>\n",
       "      <td>...</td>\n",
       "      <td>...</td>\n",
       "      <td>...</td>\n",
       "      <td>...</td>\n",
       "      <td>...</td>\n",
       "      <td>...</td>\n",
       "      <td>...</td>\n",
       "      <td>...</td>\n",
       "    </tr>\n",
       "    <tr>\n",
       "      <th>12325</th>\n",
       "      <td>3.0</td>\n",
       "      <td>145.0</td>\n",
       "      <td>0.0</td>\n",
       "      <td>0.0</td>\n",
       "      <td>53.0</td>\n",
       "      <td>1783.791667</td>\n",
       "      <td>0.007143</td>\n",
       "      <td>0.029031</td>\n",
       "      <td>12.241717</td>\n",
       "      <td>0.0</td>\n",
       "      <td>...</td>\n",
       "      <td>0</td>\n",
       "      <td>0</td>\n",
       "      <td>0</td>\n",
       "      <td>0</td>\n",
       "      <td>0</td>\n",
       "      <td>0</td>\n",
       "      <td>0</td>\n",
       "      <td>0</td>\n",
       "      <td>0</td>\n",
       "      <td>0</td>\n",
       "    </tr>\n",
       "    <tr>\n",
       "      <th>12326</th>\n",
       "      <td>0.0</td>\n",
       "      <td>0.0</td>\n",
       "      <td>0.0</td>\n",
       "      <td>0.0</td>\n",
       "      <td>5.0</td>\n",
       "      <td>465.750000</td>\n",
       "      <td>0.000000</td>\n",
       "      <td>0.021333</td>\n",
       "      <td>0.000000</td>\n",
       "      <td>0.0</td>\n",
       "      <td>...</td>\n",
       "      <td>0</td>\n",
       "      <td>0</td>\n",
       "      <td>0</td>\n",
       "      <td>0</td>\n",
       "      <td>0</td>\n",
       "      <td>0</td>\n",
       "      <td>0</td>\n",
       "      <td>0</td>\n",
       "      <td>0</td>\n",
       "      <td>0</td>\n",
       "    </tr>\n",
       "    <tr>\n",
       "      <th>12327</th>\n",
       "      <td>0.0</td>\n",
       "      <td>0.0</td>\n",
       "      <td>0.0</td>\n",
       "      <td>0.0</td>\n",
       "      <td>6.0</td>\n",
       "      <td>184.250000</td>\n",
       "      <td>0.083333</td>\n",
       "      <td>0.086667</td>\n",
       "      <td>0.000000</td>\n",
       "      <td>0.0</td>\n",
       "      <td>...</td>\n",
       "      <td>0</td>\n",
       "      <td>0</td>\n",
       "      <td>0</td>\n",
       "      <td>0</td>\n",
       "      <td>0</td>\n",
       "      <td>0</td>\n",
       "      <td>0</td>\n",
       "      <td>0</td>\n",
       "      <td>0</td>\n",
       "      <td>0</td>\n",
       "    </tr>\n",
       "    <tr>\n",
       "      <th>12328</th>\n",
       "      <td>4.0</td>\n",
       "      <td>75.0</td>\n",
       "      <td>0.0</td>\n",
       "      <td>0.0</td>\n",
       "      <td>15.0</td>\n",
       "      <td>346.000000</td>\n",
       "      <td>0.000000</td>\n",
       "      <td>0.021053</td>\n",
       "      <td>0.000000</td>\n",
       "      <td>0.0</td>\n",
       "      <td>...</td>\n",
       "      <td>0</td>\n",
       "      <td>0</td>\n",
       "      <td>0</td>\n",
       "      <td>1</td>\n",
       "      <td>0</td>\n",
       "      <td>0</td>\n",
       "      <td>0</td>\n",
       "      <td>0</td>\n",
       "      <td>0</td>\n",
       "      <td>0</td>\n",
       "    </tr>\n",
       "    <tr>\n",
       "      <th>12329</th>\n",
       "      <td>0.0</td>\n",
       "      <td>0.0</td>\n",
       "      <td>0.0</td>\n",
       "      <td>0.0</td>\n",
       "      <td>3.0</td>\n",
       "      <td>21.250000</td>\n",
       "      <td>0.000000</td>\n",
       "      <td>0.066667</td>\n",
       "      <td>0.000000</td>\n",
       "      <td>0.0</td>\n",
       "      <td>...</td>\n",
       "      <td>0</td>\n",
       "      <td>0</td>\n",
       "      <td>0</td>\n",
       "      <td>0</td>\n",
       "      <td>0</td>\n",
       "      <td>0</td>\n",
       "      <td>0</td>\n",
       "      <td>0</td>\n",
       "      <td>0</td>\n",
       "      <td>0</td>\n",
       "    </tr>\n",
       "  </tbody>\n",
       "</table>\n",
       "<p>12283 rows × 42 columns</p>\n",
       "</div>"
      ],
      "text/plain": [
       "       Administrative  Administrative_Duration  Informational  \\\n",
       "0                 0.0                      0.0            0.0   \n",
       "1                 0.0                      0.0            0.0   \n",
       "3                 0.0                      0.0            0.0   \n",
       "4                 0.0                      0.0            0.0   \n",
       "5                 0.0                      0.0            0.0   \n",
       "...               ...                      ...            ...   \n",
       "12325             3.0                    145.0            0.0   \n",
       "12326             0.0                      0.0            0.0   \n",
       "12327             0.0                      0.0            0.0   \n",
       "12328             4.0                     75.0            0.0   \n",
       "12329             0.0                      0.0            0.0   \n",
       "\n",
       "       Informational_Duration  ProductRelated  ProductRelated_Duration  \\\n",
       "0                         0.0             1.0                 0.000000   \n",
       "1                         0.0             2.0                64.000000   \n",
       "3                         0.0             2.0                 2.666667   \n",
       "4                         0.0            10.0               627.500000   \n",
       "5                         0.0            19.0               154.216667   \n",
       "...                       ...             ...                      ...   \n",
       "12325                     0.0            53.0              1783.791667   \n",
       "12326                     0.0             5.0               465.750000   \n",
       "12327                     0.0             6.0               184.250000   \n",
       "12328                     0.0            15.0               346.000000   \n",
       "12329                     0.0             3.0                21.250000   \n",
       "\n",
       "       BounceRates  ExitRates  PageValues  SpecialDay  ...  Browser_12  \\\n",
       "0         0.200000   0.200000    0.000000         0.0  ...           0   \n",
       "1         0.000000   0.100000    0.000000         0.0  ...           0   \n",
       "3         0.050000   0.140000    0.000000         0.0  ...           0   \n",
       "4         0.020000   0.050000    0.000000         0.0  ...           0   \n",
       "5         0.015789   0.024561    0.000000         0.0  ...           0   \n",
       "...            ...        ...         ...         ...  ...         ...   \n",
       "12325     0.007143   0.029031   12.241717         0.0  ...           0   \n",
       "12326     0.000000   0.021333    0.000000         0.0  ...           0   \n",
       "12327     0.083333   0.086667    0.000000         0.0  ...           0   \n",
       "12328     0.000000   0.021053    0.000000         0.0  ...           0   \n",
       "12329     0.000000   0.066667    0.000000         0.0  ...           0   \n",
       "\n",
       "       Browser_13  Region_2  Region_3  Region_4  Region_5  Region_6  Region_7  \\\n",
       "0               0         0         0         0         0         0         0   \n",
       "1               0         0         0         0         0         0         0   \n",
       "3               0         1         0         0         0         0         0   \n",
       "4               0         0         0         0         0         0         0   \n",
       "5               0         0         0         0         0         0         0   \n",
       "...           ...       ...       ...       ...       ...       ...       ...   \n",
       "12325           0         0         0         0         0         0         0   \n",
       "12326           0         0         0         0         0         0         0   \n",
       "12327           0         0         0         0         0         0         0   \n",
       "12328           0         0         1         0         0         0         0   \n",
       "12329           0         0         0         0         0         0         0   \n",
       "\n",
       "       Region_8  Region_9  \n",
       "0             0         0  \n",
       "1             0         0  \n",
       "3             0         0  \n",
       "4             0         0  \n",
       "5             0         0  \n",
       "...         ...       ...  \n",
       "12325         0         0  \n",
       "12326         0         0  \n",
       "12327         0         0  \n",
       "12328         0         0  \n",
       "12329         0         0  \n",
       "\n",
       "[12283 rows x 42 columns]"
      ]
     },
     "execution_count": 132,
     "metadata": {},
     "output_type": "execute_result"
    }
   ],
   "source": [
    "X"
   ]
  },
  {
   "cell_type": "code",
   "execution_count": 36,
   "metadata": {},
   "outputs": [
    {
     "data": {
      "text/plain": [
       "0    10375\n",
       "1     1908\n",
       "Name: Revenue, dtype: int64"
      ]
     },
     "execution_count": 36,
     "metadata": {},
     "output_type": "execute_result"
    }
   ],
   "source": [
    "df['Revenue'].value_counts()"
   ]
  },
  {
   "cell_type": "markdown",
   "metadata": {},
   "source": [
    "## Decision Tree Classifier"
   ]
  },
  {
   "cell_type": "markdown",
   "metadata": {},
   "source": [
    "Hence the Y variable has a high class imbalance. Hence accuracy will not be a reliable model performance measure.\n",
    "\n",
    "FN is very critical for this business case because a false negative is a customer who will potentially subscribe for a loan but who has been classified as 'will not subscribe'. Hence the most relevant model performance measure is recall"
   ]
  },
  {
   "cell_type": "code",
   "execution_count": 98,
   "metadata": {},
   "outputs": [
    {
     "data": {
      "text/plain": [
       "DecisionTreeClassifier(ccp_alpha=0.0, class_weight=None, criterion='gini',\n",
       "                       max_depth=None, max_features=None, max_leaf_nodes=None,\n",
       "                       min_impurity_decrease=0.0, min_impurity_split=None,\n",
       "                       min_samples_leaf=1, min_samples_split=2,\n",
       "                       min_weight_fraction_leaf=0.0, presort='deprecated',\n",
       "                       random_state=None, splitter='best')"
      ]
     },
     "execution_count": 98,
     "metadata": {},
     "output_type": "execute_result"
    }
   ],
   "source": [
    "from sklearn.tree import DecisionTreeClassifier\n",
    "dtree = DecisionTreeClassifier()\n",
    "dtree.fit(X_train, y_train)"
   ]
  },
  {
   "cell_type": "code",
   "execution_count": 99,
   "metadata": {},
   "outputs": [
    {
     "data": {
      "text/plain": [
       "array([0, 0, 0, ..., 0, 0, 0], dtype=int8)"
      ]
     },
     "execution_count": 99,
     "metadata": {},
     "output_type": "execute_result"
    }
   ],
   "source": [
    "predictions = dtree.predict(X_test)\n",
    "predictions"
   ]
  },
  {
   "cell_type": "code",
   "execution_count": 133,
   "metadata": {},
   "outputs": [
    {
     "name": "stdout",
     "output_type": "stream",
     "text": [
      "              precision    recall  f1-score   support\n",
      "\n",
      "           0       0.85      1.00      0.92      3105\n",
      "           1       0.67      0.04      0.07       580\n",
      "\n",
      "    accuracy                           0.85      3685\n",
      "   macro avg       0.76      0.52      0.49      3685\n",
      "weighted avg       0.82      0.85      0.78      3685\n",
      "\n"
     ]
    }
   ],
   "source": [
    "from sklearn.metrics import classification_report, confusion_matrix\n",
    "\n",
    "# print(confusion_matrix(y_test,predictions))\n",
    "print(classification_report(y_test, predictions))"
   ]
  },
  {
   "cell_type": "code",
   "execution_count": 134,
   "metadata": {},
   "outputs": [
    {
     "name": "stdout",
     "output_type": "stream",
     "text": [
      "              precision    recall  f1-score   support\n",
      "\n",
      "           0       0.92      0.97      0.95      3105\n",
      "           1       0.80      0.53      0.64       580\n",
      "\n",
      "    accuracy                           0.91      3685\n",
      "   macro avg       0.86      0.75      0.79      3685\n",
      "weighted avg       0.90      0.91      0.90      3685\n",
      "\n"
     ]
    }
   ],
   "source": [
    "from sklearn.ensemble import RandomForestClassifier\n",
    "\n",
    "ran_forest = RandomForestClassifier(n_estimators=500, min_samples_split=3, random_state=102)\n",
    "ran_forest.fit(X_train, y_train)\n",
    "\n",
    "predictions = ran_forest.predict(X_test)\n",
    "\n",
    "print(classification_report(y_test, predictions))"
   ]
  },
  {
   "cell_type": "code",
   "execution_count": 137,
   "metadata": {},
   "outputs": [],
   "source": [
    "def accuracy(y_test,y_pred):\n",
    "    from sklearn.metrics import confusion_matrix\n",
    "    result = confusion_matrix(y_pred,y_test)\n",
    "    acc = ((result[0][0]+result[1][1])/(len(y_test)))*100\n",
    "    return acc"
   ]
  },
  {
   "cell_type": "code",
   "execution_count": 141,
   "metadata": {},
   "outputs": [
    {
     "name": "stdout",
     "output_type": "stream",
     "text": [
      "precision on the evaluation set:  0.7969151670951157\n",
      "accuracy on the evaluation set:  0.905291723202171\n"
     ]
    }
   ],
   "source": [
    "from sklearn.metrics import precision_score, accuracy_score\n",
    "print('precision on the evaluation set: ', precision_score(y_test, predictions))\n",
    "print('accuracy on the evaluation set: ', accuracy_score(y_test, predictions))"
   ]
  },
  {
   "cell_type": "code",
   "execution_count": 142,
   "metadata": {},
   "outputs": [
    {
     "name": "stdout",
     "output_type": "stream",
     "text": [
      "[[3026   79]\n",
      " [ 270  310]]\n"
     ]
    }
   ],
   "source": [
    "print(confusion_matrix(y_test, predictions))"
   ]
  },
  {
   "cell_type": "code",
   "execution_count": 143,
   "metadata": {},
   "outputs": [
    {
     "data": {
      "text/plain": [
       "GaussianNB(priors=None, var_smoothing=1e-09)"
      ]
     },
     "execution_count": 143,
     "metadata": {},
     "output_type": "execute_result"
    }
   ],
   "source": [
    "from sklearn.naive_bayes import GaussianNB\n",
    "gaussiannb= GaussianNB()\n",
    "gaussiannb.fit(X_train, y_train)"
   ]
  },
  {
   "cell_type": "code",
   "execution_count": 145,
   "metadata": {},
   "outputs": [
    {
     "name": "stdout",
     "output_type": "stream",
     "text": [
      "[[3026   79]\n",
      " [ 270  310]]\n",
      "91.0\n"
     ]
    }
   ],
   "source": [
    "gaussiannbpred = gaussiannb.predict(X_test)\n",
    "probs = gaussiannb.predict(X_test)\n",
    "\n",
    "print(confusion_matrix(y_test, predictions ))\n",
    "print(round(accuracy_score(y_test, predictions),2)*100)\n",
    "#GAUSIAN = (cross_val_score(gaussiannb, X_train, y_train, cv=k_fold, n_jobs=1, scoring = 'accuracy').mean())"
   ]
  },
  {
   "cell_type": "code",
   "execution_count": 146,
   "metadata": {},
   "outputs": [
    {
     "name": "stdout",
     "output_type": "stream",
     "text": [
      "precision on the evaluation set:  0.7969151670951157\n",
      "accuracy on the evaluation set:  0.905291723202171\n"
     ]
    }
   ],
   "source": [
    "from sklearn.metrics import precision_score, accuracy_score\n",
    "print('precision on the evaluation set: ', precision_score(y_test, predictions))\n",
    "print('accuracy on the evaluation set: ', accuracy_score(y_test, predictions))"
   ]
  },
  {
   "cell_type": "code",
   "execution_count": 147,
   "metadata": {},
   "outputs": [
    {
     "name": "stdout",
     "output_type": "stream",
     "text": [
      "              precision    recall  f1-score   support\n",
      "\n",
      "           0       0.92      0.97      0.95      3105\n",
      "           1       0.80      0.53      0.64       580\n",
      "\n",
      "    accuracy                           0.91      3685\n",
      "   macro avg       0.86      0.75      0.79      3685\n",
      "weighted avg       0.90      0.91      0.90      3685\n",
      "\n"
     ]
    }
   ],
   "source": [
    "print(classification_report(y_test, predictions))"
   ]
  },
  {
   "cell_type": "code",
   "execution_count": 149,
   "metadata": {
    "scrolled": true
   },
   "outputs": [
    {
     "name": "stdout",
     "output_type": "stream",
     "text": [
      "[[3026   79]\n",
      " [ 270  310]]\n",
      "91.0\n"
     ]
    }
   ],
   "source": [
    "from sklearn.ensemble import GradientBoostingClassifier\n",
    "gbk = GradientBoostingClassifier()\n",
    "gbk.fit(X_train, y_train)\n",
    "gbkpred = gbk.predict(X_test)\n",
    "print(confusion_matrix(y_test, predictions ))\n",
    "print(round(accuracy_score(y_test, predictions),2)*100)\n",
    "#GBKCV = (cross_val_score(gbk, X_train, y_train, cv=k_fold, n_jobs=1, scoring = 'accuracy').mean())"
   ]
  },
  {
   "cell_type": "code",
   "execution_count": 150,
   "metadata": {},
   "outputs": [
    {
     "name": "stdout",
     "output_type": "stream",
     "text": [
      "              precision    recall  f1-score   support\n",
      "\n",
      "           0       0.92      0.97      0.95      3105\n",
      "           1       0.80      0.53      0.64       580\n",
      "\n",
      "    accuracy                           0.91      3685\n",
      "   macro avg       0.86      0.75      0.79      3685\n",
      "weighted avg       0.90      0.91      0.90      3685\n",
      "\n"
     ]
    }
   ],
   "source": [
    "print(classification_report(y_test, predictions))"
   ]
  },
  {
   "cell_type": "code",
   "execution_count": 129,
   "metadata": {},
   "outputs": [],
   "source": [
    "from sklearn.ensemble import BaggingClassifier\n",
    "from sklearn.neighbors import KNeighborsClassifier\n",
    "bagging = BaggingClassifier(KNeighborsClassifier(),max_samples=0.5, max_features=0.5)"
   ]
  },
  {
   "cell_type": "code",
   "execution_count": 130,
   "metadata": {},
   "outputs": [
    {
     "name": "stdout",
     "output_type": "stream",
     "text": [
      "              precision    recall  f1-score   support\n",
      "\n",
      "           0       0.85      1.00      0.92      3105\n",
      "           1       0.67      0.04      0.07       580\n",
      "\n",
      "    accuracy                           0.85      3685\n",
      "   macro avg       0.76      0.52      0.49      3685\n",
      "weighted avg       0.82      0.85      0.78      3685\n",
      "\n"
     ]
    }
   ],
   "source": [
    "bagging.fit(X_train, y_train)\n",
    "\n",
    "predictions = bagging.predict(X_test)\n",
    "\n",
    "print(classification_report(y_test, predictions))"
   ]
  },
  {
   "cell_type": "markdown",
   "metadata": {},
   "source": [
    "## SVC"
   ]
  },
  {
   "cell_type": "code",
   "execution_count": 102,
   "metadata": {},
   "outputs": [
    {
     "data": {
      "text/plain": [
       "SVC(C=1.0, break_ties=False, cache_size=200, class_weight=None, coef0=0.0,\n",
       "    decision_function_shape='ovr', degree=3, gamma='scale', kernel='rbf',\n",
       "    max_iter=-1, probability=False, random_state=None, shrinking=True,\n",
       "    tol=0.001, verbose=False)"
      ]
     },
     "execution_count": 102,
     "metadata": {},
     "output_type": "execute_result"
    }
   ],
   "source": [
    "from sklearn.svm import SVC\n",
    "model= SVC()\n",
    "model.fit(X_train,y_train)"
   ]
  },
  {
   "cell_type": "code",
   "execution_count": 104,
   "metadata": {},
   "outputs": [
    {
     "name": "stdout",
     "output_type": "stream",
     "text": [
      "[[3054   51]\n",
      " [ 363  217]]\n",
      "              precision    recall  f1-score   support\n",
      "\n",
      "           0       0.89      0.98      0.94      3105\n",
      "           1       0.81      0.37      0.51       580\n",
      "\n",
      "    accuracy                           0.89      3685\n",
      "   macro avg       0.85      0.68      0.72      3685\n",
      "weighted avg       0.88      0.89      0.87      3685\n",
      "\n"
     ]
    }
   ],
   "source": [
    "predictions = model.predict(X_test)\n",
    "\n",
    "from sklearn.metrics import classification_report,confusion_matrix\n",
    "print(confusion_matrix(y_test,predictions))\n",
    "print(classification_report(y_test,predictions))"
   ]
  },
  {
   "cell_type": "code",
   "execution_count": 105,
   "metadata": {},
   "outputs": [],
   "source": [
    "# Type of penalty - Lasso(l1) or Ridge(l2)\n",
    "penalties = ['l1','l2']\n",
    "C_values = np.linspace(0.2, 20, 41)"
   ]
  },
  {
   "cell_type": "code",
   "execution_count": 106,
   "metadata": {},
   "outputs": [
    {
     "data": {
      "text/plain": [
       "GridSearchCV(cv=StratifiedKFold(n_splits=10, random_state=None, shuffle=False),\n",
       "             error_score=nan,\n",
       "             estimator=LogisticRegression(C=1.0, class_weight=None, dual=False,\n",
       "                                          fit_intercept=True,\n",
       "                                          intercept_scaling=1, l1_ratio=None,\n",
       "                                          max_iter=100, multi_class='auto',\n",
       "                                          n_jobs=None, penalty='l2',\n",
       "                                          random_state=None, solver='liblinear',\n",
       "                                          tol=0.0001, verbose=0,\n",
       "                                          warm_start=False),\n",
       "             iid='de...\n",
       "             param_grid={'C': array([ 0.2  ,  0.695,  1.19 ,  1.685,  2.18 ,  2.675,  3.17 ,  3.665,\n",
       "        4.16 ,  4.655,  5.15 ,  5.645,  6.14 ,  6.635,  7.13 ,  7.625,\n",
       "        8.12 ,  8.615,  9.11 ,  9.605, 10.1  , 10.595, 11.09 , 11.585,\n",
       "       12.08 , 12.575, 13.07 , 13.565, 14.06 , 14.555, 15.05 , 15.545,\n",
       "       16.04 , 16.535, 17.03 , 17.525, 18.02 , 18.515, 19.01 , 19.505,\n",
       "       20.   ]),\n",
       "                         'penalty': ['l1', 'l2']},\n",
       "             pre_dispatch='2*n_jobs', refit=True, return_train_score=False,\n",
       "             scoring='accuracy', verbose=0)"
      ]
     },
     "execution_count": 106,
     "metadata": {},
     "output_type": "execute_result"
    }
   ],
   "source": [
    "from sklearn.model_selection import GridSearchCV, StratifiedKFold\n",
    "\n",
    "# Cross-Validation\n",
    "cross_valid = StratifiedKFold(n_splits=10)\n",
    "\n",
    "# Hyperparameter Tuning\n",
    "params = {'penalty': penalties, 'C': C_values}\n",
    "\n",
    "logmodel2 = LogisticRegression(solver='liblinear')\n",
    "grid = GridSearchCV(estimator=logmodel2, param_grid=params, scoring='accuracy', n_jobs=-1, cv=cross_valid)\n",
    "grid.fit(X,y)"
   ]
  },
  {
   "cell_type": "code",
   "execution_count": 107,
   "metadata": {},
   "outputs": [
    {
     "name": "stdout",
     "output_type": "stream",
     "text": [
      "{'C': 19.505, 'penalty': 'l1'}\n",
      "0.883085941537703\n",
      "LogisticRegression(C=19.505, class_weight=None, dual=False, fit_intercept=True,\n",
      "                   intercept_scaling=1, l1_ratio=None, max_iter=100,\n",
      "                   multi_class='auto', n_jobs=None, penalty='l1',\n",
      "                   random_state=None, solver='liblinear', tol=0.0001, verbose=0,\n",
      "                   warm_start=False)\n"
     ]
    }
   ],
   "source": [
    "print (grid.best_params_)\n",
    "print (grid.best_score_)\n",
    "print(grid.best_estimator_)"
   ]
  },
  {
   "cell_type": "markdown",
   "metadata": {},
   "source": [
    "## Logistic Regression"
   ]
  },
  {
   "cell_type": "code",
   "execution_count": 108,
   "metadata": {},
   "outputs": [],
   "source": [
    "from sklearn.linear_model import LogisticRegression\n",
    "logmodel = LogisticRegression(solver='liblinear')"
   ]
  },
  {
   "cell_type": "code",
   "execution_count": 110,
   "metadata": {},
   "outputs": [],
   "source": [
    "logmodel=LogisticRegression(solver='liblinear', C=19.1, penalty='l1')"
   ]
  },
  {
   "cell_type": "code",
   "execution_count": 111,
   "metadata": {},
   "outputs": [
    {
     "data": {
      "text/plain": [
       "LogisticRegression(C=19.1, class_weight=None, dual=False, fit_intercept=True,\n",
       "                   intercept_scaling=1, l1_ratio=None, max_iter=100,\n",
       "                   multi_class='auto', n_jobs=None, penalty='l1',\n",
       "                   random_state=None, solver='liblinear', tol=0.0001, verbose=0,\n",
       "                   warm_start=False)"
      ]
     },
     "execution_count": 111,
     "metadata": {},
     "output_type": "execute_result"
    }
   ],
   "source": [
    "logmodel.fit(X, y)"
   ]
  },
  {
   "cell_type": "code",
   "execution_count": 112,
   "metadata": {},
   "outputs": [],
   "source": [
    "predictions = logmodel.predict(X_test)"
   ]
  },
  {
   "cell_type": "code",
   "execution_count": 113,
   "metadata": {},
   "outputs": [
    {
     "data": {
      "text/plain": [
       "0.8828417081231794"
      ]
     },
     "execution_count": 113,
     "metadata": {},
     "output_type": "execute_result"
    }
   ],
   "source": [
    "from sklearn.model_selection import cross_val_score\n",
    "score = cross_val_score(logmodel, X, y, cv=10)\n",
    "score.mean()"
   ]
  },
  {
   "cell_type": "code",
   "execution_count": 114,
   "metadata": {},
   "outputs": [
    {
     "name": "stdout",
     "output_type": "stream",
     "text": [
      "[[1293 1812]\n",
      " [  49  531]]\n",
      "              precision    recall  f1-score   support\n",
      "\n",
      "           0       0.96      0.42      0.58      3105\n",
      "           1       0.23      0.92      0.36       580\n",
      "\n",
      "    accuracy                           0.49      3685\n",
      "   macro avg       0.60      0.67      0.47      3685\n",
      "weighted avg       0.85      0.49      0.55      3685\n",
      "\n"
     ]
    }
   ],
   "source": [
    "from sklearn.metrics import classification_report,confusion_matrix\n",
    "print(confusion_matrix(y_test,predictions))\n",
    "print(classification_report(y_test,predictions))"
   ]
  },
  {
   "cell_type": "code",
   "execution_count": null,
   "metadata": {},
   "outputs": [],
   "source": []
  },
  {
   "cell_type": "markdown",
   "metadata": {},
   "source": [
    "## NN with Scaler"
   ]
  },
  {
   "cell_type": "code",
   "execution_count": 119,
   "metadata": {},
   "outputs": [],
   "source": [
    "from sklearn.model_selection import train_test_split\n",
    "\n",
    "X = df.drop(labels=['Revenue'], axis=1)\n",
    "y = df['Revenue']\n",
    "\n",
    "X_train, X_test, y_train, y_test = train_test_split(X, y, test_size=0.3, random_state=3)"
   ]
  },
  {
   "cell_type": "code",
   "execution_count": 120,
   "metadata": {},
   "outputs": [],
   "source": [
    "import keras as K"
   ]
  },
  {
   "cell_type": "code",
   "execution_count": 121,
   "metadata": {},
   "outputs": [
    {
     "data": {
      "text/plain": [
       "array([[-0.6989074 , -0.45823768, -0.39724702, ..., -0.25645675,\n",
       "        -0.19138329, -0.20770713],\n",
       "       [-0.6989074 , -0.45823768, -0.39724702, ..., -0.25645675,\n",
       "        -0.19138329, -0.20770713],\n",
       "       [-0.6989074 , -0.45823768, -0.39724702, ..., -0.25645675,\n",
       "        -0.19138329, -0.20770713],\n",
       "       ...,\n",
       "       [-0.6989074 , -0.45823768, -0.39724702, ..., -0.25645675,\n",
       "        -0.19138329, -0.20770713],\n",
       "       [ 0.50410263, -0.03460371, -0.39724702, ..., -0.25645675,\n",
       "        -0.19138329, -0.20770713],\n",
       "       [-0.6989074 , -0.45823768, -0.39724702, ..., -0.25645675,\n",
       "        -0.19138329, -0.20770713]])"
      ]
     },
     "execution_count": 121,
     "metadata": {},
     "output_type": "execute_result"
    }
   ],
   "source": [
    "from sklearn.preprocessing import StandardScaler\n",
    "sc = StandardScaler()\n",
    "X_scal = sc.fit_transform(df.drop(labels=['Revenue'], axis=1))\n",
    "X_scal"
   ]
  },
  {
   "cell_type": "code",
   "execution_count": 122,
   "metadata": {},
   "outputs": [],
   "source": [
    "\n",
    "X_train, X_test, y_train, y_test = train_test_split(X_scal, y, test_size=0.3, random_state=3)"
   ]
  },
  {
   "cell_type": "code",
   "execution_count": 76,
   "metadata": {},
   "outputs": [],
   "source": [
    "from keras import Sequential\n",
    "from keras.layers import Dense"
   ]
  },
  {
   "cell_type": "code",
   "execution_count": 77,
   "metadata": {},
   "outputs": [],
   "source": [
    "classifier = Sequential()\n",
    "#First Hidden Layer\n",
    "classifier.add(Dense(12, activation='tanh', kernel_initializer='random_normal', input_dim=X_scal.shape[1]))\n",
    "#Second  Hidden Layer\n",
    "classifier.add(Dense(12, activation='tanh', kernel_initializer='random_normal'))\n",
    "#Output Layer\n",
    "classifier.add(Dense(1, activation='sigmoid', kernel_initializer='random_normal'))"
   ]
  },
  {
   "cell_type": "code",
   "execution_count": 78,
   "metadata": {},
   "outputs": [],
   "source": [
    "#Compiling the neural network\n",
    "classifier.compile(optimizer ='adam',loss='binary_crossentropy', metrics =['accuracy'])"
   ]
  },
  {
   "cell_type": "code",
   "execution_count": 79,
   "metadata": {
    "scrolled": true
   },
   "outputs": [
    {
     "name": "stdout",
     "output_type": "stream",
     "text": [
      "Epoch 1/100\n",
      "8598/8598 [==============================] - 1s 98us/step - loss: 0.3565 - accuracy: 0.8732\n",
      "Epoch 2/100\n",
      "8598/8598 [==============================] - 1s 75us/step - loss: 0.2983 - accuracy: 0.8856\n",
      "Epoch 3/100\n",
      "8598/8598 [==============================] - 2s 210us/step - loss: 0.2895 - accuracy: 0.8889\n",
      "Epoch 4/100\n",
      "8598/8598 [==============================] - 1s 141us/step - loss: 0.2801 - accuracy: 0.8910\n",
      "Epoch 5/100\n",
      "8598/8598 [==============================] - 1s 125us/step - loss: 0.2739 - accuracy: 0.8911\n",
      "Epoch 6/100\n",
      "8598/8598 [==============================] - 1s 62us/step - loss: 0.2681 - accuracy: 0.8933\n",
      "Epoch 7/100\n",
      "8598/8598 [==============================] - 1s 78us/step - loss: 0.2634 - accuracy: 0.8923\n",
      "Epoch 8/100\n",
      "8598/8598 [==============================] - 1s 99us/step - loss: 0.2607 - accuracy: 0.8959\n",
      "Epoch 9/100\n",
      "8598/8598 [==============================] - 1s 111us/step - loss: 0.2592 - accuracy: 0.8937\n",
      "Epoch 10/100\n",
      "8598/8598 [==============================] - 1s 78us/step - loss: 0.2571 - accuracy: 0.8964\n",
      "Epoch 11/100\n",
      "8598/8598 [==============================] - 1s 66us/step - loss: 0.2554 - accuracy: 0.8965\n",
      "Epoch 12/100\n",
      "8598/8598 [==============================] - 1s 74us/step - loss: 0.2528 - accuracy: 0.8983\n",
      "Epoch 13/100\n",
      "8598/8598 [==============================] - 1s 153us/step - loss: 0.2520 - accuracy: 0.8982\n",
      "Epoch 14/100\n",
      "8598/8598 [==============================] - 1s 141us/step - loss: 0.2487 - accuracy: 0.8997\n",
      "Epoch 15/100\n",
      "8598/8598 [==============================] - 1s 72us/step - loss: 0.2486 - accuracy: 0.8993\n",
      "Epoch 16/100\n",
      "8598/8598 [==============================] - 1s 106us/step - loss: 0.2468 - accuracy: 0.8988\n",
      "Epoch 17/100\n",
      "8598/8598 [==============================] - 1s 147us/step - loss: 0.2455 - accuracy: 0.9004\n",
      "Epoch 18/100\n",
      "8598/8598 [==============================] - 1s 148us/step - loss: 0.2446 - accuracy: 0.9010\n",
      "Epoch 19/100\n",
      "8598/8598 [==============================] - 1s 119us/step - loss: 0.2432 - accuracy: 0.9027\n",
      "Epoch 20/100\n",
      "8598/8598 [==============================] - 1s 110us/step - loss: 0.2414 - accuracy: 0.9023\n",
      "Epoch 21/100\n",
      "8598/8598 [==============================] - 1s 150us/step - loss: 0.2399 - accuracy: 0.9042\n",
      "Epoch 22/100\n",
      "8598/8598 [==============================] - 1s 97us/step - loss: 0.2396 - accuracy: 0.9035\n",
      "Epoch 23/100\n",
      "8598/8598 [==============================] - 1s 111us/step - loss: 0.2383 - accuracy: 0.9032\n",
      "Epoch 24/100\n",
      "8598/8598 [==============================] - 1s 159us/step - loss: 0.2372 - accuracy: 0.9033\n",
      "Epoch 25/100\n",
      "8598/8598 [==============================] - 1s 126us/step - loss: 0.2350 - accuracy: 0.9043\n",
      "Epoch 26/100\n",
      "8598/8598 [==============================] - 1s 134us/step - loss: 0.2341 - accuracy: 0.9036\n",
      "Epoch 27/100\n",
      "8598/8598 [==============================] - 1s 139us/step - loss: 0.2331 - accuracy: 0.9053\n",
      "Epoch 28/100\n",
      "8598/8598 [==============================] - 1s 161us/step - loss: 0.2323 - accuracy: 0.9046\n",
      "Epoch 29/100\n",
      "8598/8598 [==============================] - 1s 170us/step - loss: 0.2305 - accuracy: 0.9037\n",
      "Epoch 30/100\n",
      "8598/8598 [==============================] - 1s 164us/step - loss: 0.2305 - accuracy: 0.9061\n",
      "Epoch 31/100\n",
      "8598/8598 [==============================] - 1s 146us/step - loss: 0.2287 - accuracy: 0.9056\n",
      "Epoch 32/100\n",
      "8598/8598 [==============================] - 1s 96us/step - loss: 0.2284 - accuracy: 0.9066\n",
      "Epoch 33/100\n",
      "8598/8598 [==============================] - 1s 143us/step - loss: 0.2273 - accuracy: 0.9046\n",
      "Epoch 34/100\n",
      "8598/8598 [==============================] - 1s 147us/step - loss: 0.2273 - accuracy: 0.9074\n",
      "Epoch 35/100\n",
      "8598/8598 [==============================] - 1s 149us/step - loss: 0.2263 - accuracy: 0.9057\n",
      "Epoch 36/100\n",
      "8598/8598 [==============================] - 1s 149us/step - loss: 0.2253 - accuracy: 0.9074\n",
      "Epoch 37/100\n",
      "8598/8598 [==============================] - 1s 73us/step - loss: 0.2235 - accuracy: 0.9086\n",
      "Epoch 38/100\n",
      "8598/8598 [==============================] - 1s 144us/step - loss: 0.2241 - accuracy: 0.9058\n",
      "Epoch 39/100\n",
      "8598/8598 [==============================] - 1s 162us/step - loss: 0.2230 - accuracy: 0.9087\n",
      "Epoch 40/100\n",
      "8598/8598 [==============================] - 1s 169us/step - loss: 0.2227 - accuracy: 0.9073\n",
      "Epoch 41/100\n",
      "8598/8598 [==============================] - 2s 190us/step - loss: 0.2223 - accuracy: 0.9070\n",
      "Epoch 42/100\n",
      "8598/8598 [==============================] - 1s 121us/step - loss: 0.2219 - accuracy: 0.9072\n",
      "Epoch 43/100\n",
      "8598/8598 [==============================] - 1s 148us/step - loss: 0.2208 - accuracy: 0.9081\n",
      "Epoch 44/100\n",
      "8598/8598 [==============================] - 2s 177us/step - loss: 0.2203 - accuracy: 0.9074\n",
      "Epoch 45/100\n",
      "8598/8598 [==============================] - 2s 183us/step - loss: 0.2196 - accuracy: 0.9084\n",
      "Epoch 46/100\n",
      "8598/8598 [==============================] - 2s 179us/step - loss: 0.2194 - accuracy: 0.9090\n",
      "Epoch 47/100\n",
      "8598/8598 [==============================] - 1s 103us/step - loss: 0.2183 - accuracy: 0.9077\n",
      "Epoch 48/100\n",
      "8598/8598 [==============================] - 1s 141us/step - loss: 0.2175 - accuracy: 0.9103\n",
      "Epoch 49/100\n",
      "8598/8598 [==============================] - 1s 110us/step - loss: 0.2177 - accuracy: 0.9089\n",
      "Epoch 50/100\n",
      "8598/8598 [==============================] - 1s 133us/step - loss: 0.2167 - accuracy: 0.9086\n",
      "Epoch 51/100\n",
      "8598/8598 [==============================] - 1s 132us/step - loss: 0.2164 - accuracy: 0.9104\n",
      "Epoch 52/100\n",
      "8598/8598 [==============================] - 1s 132us/step - loss: 0.2164 - accuracy: 0.9086\n",
      "Epoch 53/100\n",
      "8598/8598 [==============================] - 1s 132us/step - loss: 0.2157 - accuracy: 0.9114\n",
      "Epoch 54/100\n",
      "8598/8598 [==============================] - 1s 140us/step - loss: 0.2152 - accuracy: 0.9096\n",
      "Epoch 55/100\n",
      "8598/8598 [==============================] - 1s 136us/step - loss: 0.2143 - accuracy: 0.9106\n",
      "Epoch 56/100\n",
      "8598/8598 [==============================] - 1s 69us/step - loss: 0.2144 - accuracy: 0.9116\n",
      "Epoch 57/100\n",
      "8598/8598 [==============================] - 1s 114us/step - loss: 0.2137 - accuracy: 0.9121\n",
      "Epoch 58/100\n",
      "8598/8598 [==============================] - 1s 164us/step - loss: 0.2137 - accuracy: 0.9120\n",
      "Epoch 59/100\n",
      "8598/8598 [==============================] - 1s 158us/step - loss: 0.2132 - accuracy: 0.9108\n",
      "Epoch 60/100\n",
      "8598/8598 [==============================] - 1s 158us/step - loss: 0.2127 - accuracy: 0.9132\n",
      "Epoch 61/100\n",
      "8598/8598 [==============================] - 1s 159us/step - loss: 0.2120 - accuracy: 0.9114\n",
      "Epoch 62/100\n",
      "8598/8598 [==============================] - 1s 145us/step - loss: 0.2120 - accuracy: 0.9113\n",
      "Epoch 63/100\n",
      "8598/8598 [==============================] - 1s 149us/step - loss: 0.2108 - accuracy: 0.9114\n",
      "Epoch 64/100\n",
      "8598/8598 [==============================] - 1s 148us/step - loss: 0.2109 - accuracy: 0.9124\n",
      "Epoch 65/100\n",
      "8598/8598 [==============================] - 1s 127us/step - loss: 0.2110 - accuracy: 0.9116\n",
      "Epoch 66/100\n",
      "8598/8598 [==============================] - 1s 159us/step - loss: 0.2101 - accuracy: 0.9131\n",
      "Epoch 67/100\n",
      "8598/8598 [==============================] - 1s 159us/step - loss: 0.2096 - accuracy: 0.9134\n",
      "Epoch 68/100\n",
      "8598/8598 [==============================] - 1s 159us/step - loss: 0.2093 - accuracy: 0.9129\n",
      "Epoch 69/100\n",
      "8598/8598 [==============================] - 1s 117us/step - loss: 0.2088 - accuracy: 0.9131\n",
      "Epoch 70/100\n",
      "8598/8598 [==============================] - 1s 110us/step - loss: 0.2084 - accuracy: 0.9128\n",
      "Epoch 71/100\n",
      "8598/8598 [==============================] - 1s 63us/step - loss: 0.2087 - accuracy: 0.9131\n",
      "Epoch 72/100\n",
      "8598/8598 [==============================] - 1s 107us/step - loss: 0.2071 - accuracy: 0.9147\n",
      "Epoch 73/100\n",
      "8598/8598 [==============================] - 1s 118us/step - loss: 0.2078 - accuracy: 0.9134\n",
      "Epoch 74/100\n",
      "8598/8598 [==============================] - 1s 93us/step - loss: 0.2074 - accuracy: 0.9127\n",
      "Epoch 75/100\n",
      "8598/8598 [==============================] - 1s 119us/step - loss: 0.2073 - accuracy: 0.9137\n",
      "Epoch 76/100\n",
      "8598/8598 [==============================] - 1s 143us/step - loss: 0.2063 - accuracy: 0.9131\n",
      "Epoch 77/100\n",
      "8598/8598 [==============================] - 1s 137us/step - loss: 0.2068 - accuracy: 0.9140\n",
      "Epoch 78/100\n",
      "8598/8598 [==============================] - 1s 130us/step - loss: 0.2062 - accuracy: 0.9147\n",
      "Epoch 79/100\n",
      "8598/8598 [==============================] - 2s 200us/step - loss: 0.2059 - accuracy: 0.9132\n",
      "Epoch 80/100\n",
      "8598/8598 [==============================] - 1s 170us/step - loss: 0.2059 - accuracy: 0.9152\n",
      "Epoch 81/100\n",
      "8598/8598 [==============================] - 1s 168us/step - loss: 0.2049 - accuracy: 0.9154\n",
      "Epoch 82/100\n",
      "8598/8598 [==============================] - 2s 196us/step - loss: 0.2052 - accuracy: 0.9146\n",
      "Epoch 83/100\n",
      "8598/8598 [==============================] - 2s 199us/step - loss: 0.2047 - accuracy: 0.9144\n",
      "Epoch 84/100\n",
      "8598/8598 [==============================] - 2s 199us/step - loss: 0.2042 - accuracy: 0.9150\n",
      "Epoch 85/100\n",
      "8598/8598 [==============================] - 2s 235us/step - loss: 0.2038 - accuracy: 0.9146\n",
      "Epoch 86/100\n",
      "8598/8598 [==============================] - 2s 261us/step - loss: 0.2042 - accuracy: 0.9135\n",
      "Epoch 87/100\n",
      "8598/8598 [==============================] - 2s 195us/step - loss: 0.2043 - accuracy: 0.9136\n",
      "Epoch 88/100\n",
      "8598/8598 [==============================] - 2s 183us/step - loss: 0.2030 - accuracy: 0.9143\n",
      "Epoch 89/100\n",
      "8598/8598 [==============================] - 2s 183us/step - loss: 0.2039 - accuracy: 0.9156\n",
      "Epoch 90/100\n",
      "8598/8598 [==============================] - 2s 188us/step - loss: 0.2032 - accuracy: 0.9159\n",
      "Epoch 91/100\n",
      "8598/8598 [==============================] - 2s 176us/step - loss: 0.2025 - accuracy: 0.9150\n",
      "Epoch 92/100\n",
      "8598/8598 [==============================] - 1s 163us/step - loss: 0.2025 - accuracy: 0.9146\n",
      "Epoch 93/100\n",
      "8598/8598 [==============================] - 2s 176us/step - loss: 0.2024 - accuracy: 0.9154\n",
      "Epoch 94/100\n",
      "8598/8598 [==============================] - 2s 199us/step - loss: 0.2017 - accuracy: 0.9154\n",
      "Epoch 95/100\n",
      "8598/8598 [==============================] - 2s 213us/step - loss: 0.2014 - accuracy: 0.9154\n",
      "Epoch 96/100\n",
      "8598/8598 [==============================] - 2s 183us/step - loss: 0.2018 - accuracy: 0.9156\n",
      "Epoch 97/100\n",
      "8598/8598 [==============================] - 2s 183us/step - loss: 0.2013 - accuracy: 0.9153\n",
      "Epoch 98/100\n",
      "8598/8598 [==============================] - 2s 183us/step - loss: 0.2015 - accuracy: 0.9150\n",
      "Epoch 99/100\n",
      "8598/8598 [==============================] - 1s 153us/step - loss: 0.2010 - accuracy: 0.9144\n",
      "Epoch 100/100\n",
      "8598/8598 [==============================] - 1s 112us/step - loss: 0.2007 - accuracy: 0.9153\n"
     ]
    },
    {
     "data": {
      "text/plain": [
       "<keras.callbacks.callbacks.History at 0x7f71b01d6990>"
      ]
     },
     "execution_count": 79,
     "metadata": {},
     "output_type": "execute_result"
    }
   ],
   "source": [
    "#Fitting the data to the training dataset\n",
    "classifier.fit(X_train,y_train, batch_size=10, epochs=100)"
   ]
  },
  {
   "cell_type": "code",
   "execution_count": 80,
   "metadata": {},
   "outputs": [
    {
     "name": "stdout",
     "output_type": "stream",
     "text": [
      "8598/8598 [==============================] - 0s 8us/step\n"
     ]
    },
    {
     "data": {
      "text/plain": [
       "[0.19400222773162618, 0.9167248010635376]"
      ]
     },
     "execution_count": 80,
     "metadata": {},
     "output_type": "execute_result"
    }
   ],
   "source": [
    "eval_model=classifier.evaluate(X_train, y_train)\n",
    "eval_model"
   ]
  },
  {
   "cell_type": "code",
   "execution_count": 81,
   "metadata": {},
   "outputs": [
    {
     "data": {
      "text/plain": [
       "array([[False],\n",
       "       [False],\n",
       "       [False],\n",
       "       ...,\n",
       "       [False],\n",
       "       [False],\n",
       "       [False]])"
      ]
     },
     "execution_count": 81,
     "metadata": {},
     "output_type": "execute_result"
    }
   ],
   "source": [
    "predictions=classifier.predict(X_test)\n",
    "predictions =(predictions>0.5)\n",
    "predictions"
   ]
  },
  {
   "cell_type": "code",
   "execution_count": 82,
   "metadata": {},
   "outputs": [
    {
     "name": "stdout",
     "output_type": "stream",
     "text": [
      "              precision    recall  f1-score   support\n",
      "\n",
      "           0       0.92      0.96      0.94      3105\n",
      "           1       0.71      0.57      0.63       580\n",
      "\n",
      "    accuracy                           0.89      3685\n",
      "   macro avg       0.81      0.76      0.78      3685\n",
      "weighted avg       0.89      0.89      0.89      3685\n",
      "\n"
     ]
    }
   ],
   "source": [
    "from sklearn.metrics import classification_report, confusion_matrix\n",
    "print(classification_report(y_test,predictions))\n"
   ]
  },
  {
   "cell_type": "code",
   "execution_count": 59,
   "metadata": {},
   "outputs": [
    {
     "name": "stdout",
     "output_type": "stream",
     "text": [
      "              precision    recall  f1-score   support\n",
      "\n",
      "           0       0.93      0.95      0.94      3105\n",
      "           1       0.70      0.61      0.65       580\n",
      "\n",
      "    accuracy                           0.90      3685\n",
      "   macro avg       0.81      0.78      0.80      3685\n",
      "weighted avg       0.89      0.90      0.89      3685\n",
      "\n"
     ]
    }
   ],
   "source": [
    "from sklearn.metrics import classification_report, confusion_matrix\n",
    "print(classification_report(y_test,predictions))"
   ]
  },
  {
   "cell_type": "markdown",
   "metadata": {},
   "source": [
    "## NN with MinMax"
   ]
  },
  {
   "cell_type": "code",
   "execution_count": 125,
   "metadata": {},
   "outputs": [],
   "source": [
    "from sklearn.preprocessing import MinMaxScaler\n",
    "\n",
    "scaler = MinMaxScaler()\n",
    "X_scal = scaler.fit_transform(df.drop(labels=['Revenue'], axis=1))\n",
    "X_scal\n",
    "X_train, X_test, y_train, y_test = train_test_split(X_scal, y, test_size=0.3, random_state=3)"
   ]
  },
  {
   "cell_type": "code",
   "execution_count": 70,
   "metadata": {
    "scrolled": true
   },
   "outputs": [
    {
     "name": "stdout",
     "output_type": "stream",
     "text": [
      "Epoch 1/100\n",
      "8598/8598 [==============================] - 1s 110us/step - loss: 0.4504 - accuracy: 0.8425\n",
      "Epoch 2/100\n",
      "8598/8598 [==============================] - 1s 120us/step - loss: 0.4243 - accuracy: 0.8455\n",
      "Epoch 3/100\n",
      "8598/8598 [==============================] - 1s 148us/step - loss: 0.4158 - accuracy: 0.8455\n",
      "Epoch 4/100\n",
      "8598/8598 [==============================] - 1s 146us/step - loss: 0.4046 - accuracy: 0.8455\n",
      "Epoch 5/100\n",
      "8598/8598 [==============================] - 1s 141us/step - loss: 0.3926 - accuracy: 0.8455\n",
      "Epoch 6/100\n",
      "8598/8598 [==============================] - 1s 69us/step - loss: 0.3806 - accuracy: 0.8455\n",
      "Epoch 7/100\n",
      "8598/8598 [==============================] - 1s 90us/step - loss: 0.3697 - accuracy: 0.8455\n",
      "Epoch 8/100\n",
      "8598/8598 [==============================] - 1s 110us/step - loss: 0.3601 - accuracy: 0.8455\n",
      "Epoch 9/100\n",
      "8598/8598 [==============================] - 0s 52us/step - loss: 0.3517 - accuracy: 0.8476\n",
      "Epoch 10/100\n",
      "8598/8598 [==============================] - 1s 166us/step - loss: 0.3434 - accuracy: 0.8524\n",
      "Epoch 11/100\n",
      "8598/8598 [==============================] - 1s 69us/step - loss: 0.3359 - accuracy: 0.8578\n",
      "Epoch 12/100\n",
      "8598/8598 [==============================] - 1s 84us/step - loss: 0.3287 - accuracy: 0.8609\n",
      "Epoch 13/100\n",
      "8598/8598 [==============================] - 1s 99us/step - loss: 0.3221 - accuracy: 0.8669\n",
      "Epoch 14/100\n",
      "8598/8598 [==============================] - 0s 53us/step - loss: 0.3159 - accuracy: 0.8708\n",
      "Epoch 15/100\n",
      "8598/8598 [==============================] - 0s 57us/step - loss: 0.3101 - accuracy: 0.8718\n",
      "Epoch 16/100\n",
      "8598/8598 [==============================] - 1s 83us/step - loss: 0.3051 - accuracy: 0.8744\n",
      "Epoch 17/100\n",
      "8598/8598 [==============================] - 1s 102us/step - loss: 0.3004 - accuracy: 0.8768\n",
      "Epoch 18/100\n",
      "8598/8598 [==============================] - 1s 101us/step - loss: 0.2970 - accuracy: 0.8788\n",
      "Epoch 19/100\n",
      "8598/8598 [==============================] - 1s 104us/step - loss: 0.2936 - accuracy: 0.8811\n",
      "Epoch 20/100\n",
      "8598/8598 [==============================] - 1s 84us/step - loss: 0.2910 - accuracy: 0.8823\n",
      "Epoch 21/100\n",
      "8598/8598 [==============================] - 1s 85us/step - loss: 0.2883 - accuracy: 0.8840\n",
      "Epoch 22/100\n",
      "8598/8598 [==============================] - 1s 150us/step - loss: 0.2869 - accuracy: 0.8840\n",
      "Epoch 23/100\n",
      "8598/8598 [==============================] - 1s 162us/step - loss: 0.2850 - accuracy: 0.8844\n",
      "Epoch 24/100\n",
      "8598/8598 [==============================] - 1s 164us/step - loss: 0.2834 - accuracy: 0.8857\n",
      "Epoch 25/100\n",
      "8598/8598 [==============================] - 1s 95us/step - loss: 0.2825 - accuracy: 0.8861\n",
      "Epoch 26/100\n",
      "8598/8598 [==============================] - 1s 75us/step - loss: 0.2814 - accuracy: 0.8873\n",
      "Epoch 27/100\n",
      "8598/8598 [==============================] - 1s 155us/step - loss: 0.2805 - accuracy: 0.8868\n",
      "Epoch 28/100\n",
      "8598/8598 [==============================] - 1s 159us/step - loss: 0.2798 - accuracy: 0.8871\n",
      "Epoch 29/100\n",
      "8598/8598 [==============================] - 1s 101us/step - loss: 0.2792 - accuracy: 0.8868\n",
      "Epoch 30/100\n",
      "8598/8598 [==============================] - 1s 98us/step - loss: 0.2788 - accuracy: 0.8878\n",
      "Epoch 31/100\n",
      "8598/8598 [==============================] - 1s 87us/step - loss: 0.2779 - accuracy: 0.8864\n",
      "Epoch 32/100\n",
      "8598/8598 [==============================] - 0s 52us/step - loss: 0.2772 - accuracy: 0.8873\n",
      "Epoch 33/100\n",
      "8598/8598 [==============================] - 0s 52us/step - loss: 0.2768 - accuracy: 0.8870\n",
      "Epoch 34/100\n",
      "8598/8598 [==============================] - 0s 53us/step - loss: 0.2765 - accuracy: 0.8887\n",
      "Epoch 35/100\n",
      "8598/8598 [==============================] - 0s 52us/step - loss: 0.2762 - accuracy: 0.8875\n",
      "Epoch 36/100\n",
      "8598/8598 [==============================] - 0s 56us/step - loss: 0.2759 - accuracy: 0.8876\n",
      "Epoch 37/100\n",
      "8598/8598 [==============================] - 0s 52us/step - loss: 0.2755 - accuracy: 0.8886\n",
      "Epoch 38/100\n",
      "8598/8598 [==============================] - 1s 65us/step - loss: 0.2745 - accuracy: 0.8876\n",
      "Epoch 39/100\n",
      "8598/8598 [==============================] - 1s 93us/step - loss: 0.2749 - accuracy: 0.8881\n",
      "Epoch 40/100\n",
      "8598/8598 [==============================] - 1s 97us/step - loss: 0.2748 - accuracy: 0.8872\n",
      "Epoch 41/100\n",
      "8598/8598 [==============================] - 1s 71us/step - loss: 0.2741 - accuracy: 0.8878\n",
      "Epoch 42/100\n",
      "8598/8598 [==============================] - 1s 60us/step - loss: 0.2741 - accuracy: 0.8879\n",
      "Epoch 43/100\n",
      "8598/8598 [==============================] - 1s 66us/step - loss: 0.2737 - accuracy: 0.8875\n",
      "Epoch 44/100\n",
      "8598/8598 [==============================] - 1s 90us/step - loss: 0.2739 - accuracy: 0.8876\n",
      "Epoch 45/100\n",
      "8598/8598 [==============================] - 1s 74us/step - loss: 0.2731 - accuracy: 0.8874\n",
      "Epoch 46/100\n",
      "8598/8598 [==============================] - 1s 67us/step - loss: 0.2729 - accuracy: 0.8873\n",
      "Epoch 47/100\n",
      "8598/8598 [==============================] - 0s 57us/step - loss: 0.2725 - accuracy: 0.8874\n",
      "Epoch 48/100\n",
      "8598/8598 [==============================] - 0s 52us/step - loss: 0.2729 - accuracy: 0.8872\n",
      "Epoch 49/100\n",
      "8598/8598 [==============================] - 0s 58us/step - loss: 0.2722 - accuracy: 0.8881\n",
      "Epoch 50/100\n",
      "8598/8598 [==============================] - 1s 69us/step - loss: 0.2722 - accuracy: 0.8875\n",
      "Epoch 51/100\n",
      "8598/8598 [==============================] - 0s 53us/step - loss: 0.2719 - accuracy: 0.8885\n",
      "Epoch 52/100\n",
      "8598/8598 [==============================] - 1s 64us/step - loss: 0.2718 - accuracy: 0.8881\n",
      "Epoch 53/100\n",
      "8598/8598 [==============================] - 0s 56us/step - loss: 0.2719 - accuracy: 0.8882\n",
      "Epoch 54/100\n",
      "8598/8598 [==============================] - 1s 73us/step - loss: 0.2710 - accuracy: 0.8873\n",
      "Epoch 55/100\n",
      "8598/8598 [==============================] - 1s 120us/step - loss: 0.2711 - accuracy: 0.8868\n",
      "Epoch 56/100\n",
      "8598/8598 [==============================] - 1s 107us/step - loss: 0.2711 - accuracy: 0.8883\n",
      "Epoch 57/100\n",
      "8598/8598 [==============================] - 1s 80us/step - loss: 0.2710 - accuracy: 0.8867\n",
      "Epoch 58/100\n",
      "8598/8598 [==============================] - 1s 127us/step - loss: 0.2706 - accuracy: 0.8874\n",
      "Epoch 59/100\n",
      "8598/8598 [==============================] - 1s 149us/step - loss: 0.2710 - accuracy: 0.8886\n",
      "Epoch 60/100\n",
      "8598/8598 [==============================] - 1s 114us/step - loss: 0.2699 - accuracy: 0.8883\n",
      "Epoch 61/100\n",
      "8598/8598 [==============================] - 1s 160us/step - loss: 0.2703 - accuracy: 0.8888\n",
      "Epoch 62/100\n",
      "8598/8598 [==============================] - 1s 157us/step - loss: 0.2699 - accuracy: 0.8880\n",
      "Epoch 63/100\n",
      "8598/8598 [==============================] - 1s 131us/step - loss: 0.2700 - accuracy: 0.8871\n",
      "Epoch 64/100\n",
      "8598/8598 [==============================] - 1s 103us/step - loss: 0.2695 - accuracy: 0.8879\n",
      "Epoch 65/100\n",
      "8598/8598 [==============================] - 1s 118us/step - loss: 0.2695 - accuracy: 0.8875\n",
      "Epoch 66/100\n",
      "8598/8598 [==============================] - 1s 89us/step - loss: 0.2696 - accuracy: 0.8874\n",
      "Epoch 67/100\n",
      "8598/8598 [==============================] - 1s 142us/step - loss: 0.2694 - accuracy: 0.8881\n",
      "Epoch 68/100\n",
      "8598/8598 [==============================] - 1s 115us/step - loss: 0.2693 - accuracy: 0.8883\n",
      "Epoch 69/100\n",
      "8598/8598 [==============================] - 1s 84us/step - loss: 0.2690 - accuracy: 0.8878\n",
      "Epoch 70/100\n",
      "8598/8598 [==============================] - 1s 124us/step - loss: 0.2687 - accuracy: 0.8882\n",
      "Epoch 71/100\n",
      "8598/8598 [==============================] - 1s 126us/step - loss: 0.2688 - accuracy: 0.8873\n",
      "Epoch 72/100\n",
      "8598/8598 [==============================] - 1s 135us/step - loss: 0.2686 - accuracy: 0.8883\n",
      "Epoch 73/100\n",
      "8598/8598 [==============================] - 1s 158us/step - loss: 0.2682 - accuracy: 0.8881\n",
      "Epoch 74/100\n",
      "8598/8598 [==============================] - 1s 131us/step - loss: 0.2681 - accuracy: 0.8878\n",
      "Epoch 75/100\n",
      "8598/8598 [==============================] - 1s 90us/step - loss: 0.2680 - accuracy: 0.8894\n",
      "Epoch 76/100\n",
      "8598/8598 [==============================] - 1s 132us/step - loss: 0.2680 - accuracy: 0.8882\n",
      "Epoch 77/100\n",
      "8598/8598 [==============================] - 1s 122us/step - loss: 0.2678 - accuracy: 0.8881\n",
      "Epoch 78/100\n",
      "8598/8598 [==============================] - 1s 95us/step - loss: 0.2673 - accuracy: 0.8882\n",
      "Epoch 79/100\n",
      "8598/8598 [==============================] - 1s 166us/step - loss: 0.2676 - accuracy: 0.8873\n",
      "Epoch 80/100\n",
      "8598/8598 [==============================] - 2s 245us/step - loss: 0.2673 - accuracy: 0.8888\n",
      "Epoch 81/100\n",
      "8598/8598 [==============================] - 2s 231us/step - loss: 0.2674 - accuracy: 0.8878\n",
      "Epoch 82/100\n",
      "8598/8598 [==============================] - 2s 223us/step - loss: 0.2669 - accuracy: 0.8883\n",
      "Epoch 83/100\n",
      "8598/8598 [==============================] - 1s 155us/step - loss: 0.2668 - accuracy: 0.8888\n",
      "Epoch 84/100\n",
      "8598/8598 [==============================] - 1s 164us/step - loss: 0.2664 - accuracy: 0.8885\n",
      "Epoch 85/100\n",
      "8598/8598 [==============================] - 1s 133us/step - loss: 0.2666 - accuracy: 0.8887\n",
      "Epoch 86/100\n",
      "8598/8598 [==============================] - 0s 53us/step - loss: 0.2666 - accuracy: 0.8887\n",
      "Epoch 87/100\n",
      "8598/8598 [==============================] - 0s 53us/step - loss: 0.2658 - accuracy: 0.8886\n",
      "Epoch 88/100\n",
      "8598/8598 [==============================] - 1s 84us/step - loss: 0.2663 - accuracy: 0.8888\n",
      "Epoch 89/100\n",
      "8598/8598 [==============================] - 1s 80us/step - loss: 0.2661 - accuracy: 0.8885\n",
      "Epoch 90/100\n",
      "8598/8598 [==============================] - 0s 51us/step - loss: 0.2660 - accuracy: 0.8889\n",
      "Epoch 91/100\n",
      "8598/8598 [==============================] - 1s 65us/step - loss: 0.2657 - accuracy: 0.8880\n",
      "Epoch 92/100\n",
      "8598/8598 [==============================] - 1s 62us/step - loss: 0.2658 - accuracy: 0.8881\n",
      "Epoch 93/100\n",
      "8598/8598 [==============================] - 1s 77us/step - loss: 0.2656 - accuracy: 0.8878\n",
      "Epoch 94/100\n",
      "8598/8598 [==============================] - 1s 134us/step - loss: 0.2655 - accuracy: 0.8895\n",
      "Epoch 95/100\n",
      "8598/8598 [==============================] - 1s 104us/step - loss: 0.2655 - accuracy: 0.8885\n",
      "Epoch 96/100\n",
      "8598/8598 [==============================] - 1s 64us/step - loss: 0.2652 - accuracy: 0.8880\n",
      "Epoch 97/100\n",
      "8598/8598 [==============================] - 1s 60us/step - loss: 0.2650 - accuracy: 0.8886\n",
      "Epoch 98/100\n",
      "8598/8598 [==============================] - 1s 60us/step - loss: 0.2649 - accuracy: 0.8882\n",
      "Epoch 99/100\n",
      "8598/8598 [==============================] - 1s 64us/step - loss: 0.2649 - accuracy: 0.8890\n",
      "Epoch 100/100\n",
      "8598/8598 [==============================] - 0s 56us/step - loss: 0.2645 - accuracy: 0.8883\n"
     ]
    },
    {
     "data": {
      "text/plain": [
       "<keras.callbacks.callbacks.History at 0x7f71b035d4d0>"
      ]
     },
     "execution_count": 70,
     "metadata": {},
     "output_type": "execute_result"
    }
   ],
   "source": [
    "classifier = Sequential()\n",
    "#First Hidden Layer\n",
    "classifier.add(Dense(12, activation='relu', kernel_initializer='random_normal', input_dim=X_scal.shape[1]))\n",
    "#Second  Hidden Layer\n",
    "classifier.add(Dense(12, activation='relu', kernel_initializer='random_normal'))\n",
    "#Output Layer\n",
    "classifier.add(Dense(1, activation='sigmoid', kernel_initializer='random_normal'))\n",
    "\n",
    "\n",
    "#Compiling the neural network\n",
    "classifier.compile(optimizer ='adam',loss='binary_crossentropy', metrics =['accuracy'])\n",
    "\n",
    "#Fitting the data to the training dataset\n",
    "classifier.fit(X_train,y_train, batch_size=10, epochs=100)"
   ]
  },
  {
   "cell_type": "code",
   "execution_count": 71,
   "metadata": {},
   "outputs": [
    {
     "name": "stdout",
     "output_type": "stream",
     "text": [
      "              precision    recall  f1-score   support\n",
      "\n",
      "           0       0.92      0.96      0.94      3105\n",
      "           1       0.72      0.54      0.62       580\n",
      "\n",
      "    accuracy                           0.89      3685\n",
      "   macro avg       0.82      0.75      0.78      3685\n",
      "weighted avg       0.89      0.89      0.89      3685\n",
      "\n"
     ]
    }
   ],
   "source": [
    "predictions=classifier.predict(X_test)\n",
    "predictions =(predictions>0.5)\n",
    "predictions\n",
    "\n",
    "from sklearn.metrics import classification_report, confusion_matrix\n",
    "print(classification_report(y_test,predictions))"
   ]
  },
  {
   "cell_type": "code",
   "execution_count": null,
   "metadata": {},
   "outputs": [],
   "source": []
  }
 ],
 "metadata": {
  "kernelspec": {
   "display_name": "Python 3",
   "language": "python",
   "name": "python3"
  },
  "language_info": {
   "codemirror_mode": {
    "name": "ipython",
    "version": 3
   },
   "file_extension": ".py",
   "mimetype": "text/x-python",
   "name": "python",
   "nbconvert_exporter": "python",
   "pygments_lexer": "ipython3",
   "version": "3.7.5"
  }
 },
 "nbformat": 4,
 "nbformat_minor": 4
}
